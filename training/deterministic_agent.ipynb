{
 "cells": [
  {
   "cell_type": "code",
   "execution_count": 1,
   "metadata": {
    "collapsed": true
   },
   "outputs": [
    {
     "name": "stderr",
     "output_type": "stream",
     "text": [
      "\n"
     ]
    }
   ],
   "source": [
    "%load_ext autoreload\n",
    "%autoreload 2\n",
    "import gym\n",
    "import gym_battleship\n",
    "from typing import List\n",
    "import numpy as np\n",
    "from agents.deterministic import deterministic_policy\n",
    "from tqdm import tqdm\n",
    "\n",
    "# Find a single size 3 ship on a 5x5 board\n",
    "ship_sizes = {3: 1}\n",
    "board_size = (5, 5)\n",
    "episode_steps = 100  # way more than should ever be needed\n",
    "reward_dictionary = {\n",
    "    'win': 100,  # for sinking all ships\n",
    "    'missed': -0.25,  # for missing a shot\n",
    "    'hit': 1,  # for hitting a ship\n",
    "    'repeat_missed': -5,  # for shooting at an already missed cell\n",
    "    'repeat_hit': -5  # for shooting at an already hit cell\n",
    "}"
   ]
  },
  {
   "cell_type": "code",
   "execution_count": 2,
   "outputs": [],
   "source": [
    "def ship_dict_to_list(ship_dict: dict[int, int]) -> List[int]:\n",
    "    ships = []\n",
    "    for size in ship_dict:\n",
    "        count = ship_dict[size]\n",
    "        ships += [size] * count\n",
    "    return ships"
   ],
   "metadata": {
    "collapsed": false,
    "pycharm": {
     "name": "#%%\n"
    }
   }
  },
  {
   "cell_type": "code",
   "execution_count": 3,
   "outputs": [
    {
     "name": "stderr",
     "output_type": "stream",
     "text": [
      "100%|██████████| 1000/1000 [00:04<00:00, 217.68it/s]"
     ]
    },
    {
     "name": "stdout",
     "output_type": "stream",
     "text": [
      "Episodes: 1000\n",
      "Reward: min 99.25, max 102.0, mean 100.721, median: 100.75\n",
      "Steps: min 3, max 14, mean 8.116, median: 8.0\n"
     ]
    },
    {
     "name": "stderr",
     "output_type": "stream",
     "text": [
      "\n"
     ]
    }
   ],
   "source": [
    "\n",
    "episodes = 1000\n",
    "step_history = []\n",
    "reward_history = []\n",
    "env = gym.make('Battleship-v0', ship_sizes=ship_sizes, board_size=board_size, episode_steps=episode_steps, reward_dictionary=reward_dictionary)\n",
    "\n",
    "\n",
    "for e in tqdm(range(0, episodes)):\n",
    "    state = env.reset()\n",
    "    ships = ship_dict_to_list(ship_sizes)\n",
    "    done = False\n",
    "    steps = 0\n",
    "    rewards = 0\n",
    "\n",
    "    while not done:\n",
    "        action = deterministic_policy(state, ships)\n",
    "        state, reward, done, remaining_ships = env.step(action)\n",
    "        ships = ship_dict_to_list(remaining_ships)\n",
    "        rewards += reward\n",
    "        steps += 1\n",
    "        env.render()\n",
    "\n",
    "    step_history.append(steps)\n",
    "    reward_history.append(rewards)\n",
    "\n",
    "print(f'Episodes: {episodes}')\n",
    "print(\n",
    "    f'Reward: min {np.min(reward_history)}, max {np.max(reward_history)}, mean {np.mean(reward_history)}, median: {np.median(reward_history)}')\n",
    "print(\n",
    "    f'Steps: min {np.min(step_history)}, max {np.max(step_history)}, mean {np.mean(step_history)}, median: {np.median(step_history)}')\n"
   ],
   "metadata": {
    "collapsed": false,
    "pycharm": {
     "name": "#%%\n"
    }
   }
  }
 ],
 "metadata": {
  "kernelspec": {
   "display_name": "Python 3",
   "language": "python",
   "name": "python3"
  },
  "language_info": {
   "codemirror_mode": {
    "name": "ipython",
    "version": 2
   },
   "file_extension": ".py",
   "mimetype": "text/x-python",
   "name": "python",
   "nbconvert_exporter": "python",
   "pygments_lexer": "ipython2",
   "version": "2.7.6"
  }
 },
 "nbformat": 4,
 "nbformat_minor": 0
}