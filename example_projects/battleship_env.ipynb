{
 "cells": [
  {
   "cell_type": "code",
   "execution_count": 1,
   "metadata": {
    "collapsed": true
   },
   "outputs": [
    {
     "name": "stderr",
     "output_type": "stream",
     "text": [
      "\n"
     ]
    },
    {
     "data": {
      "text/plain": "array([[0., 0., 0., 0., 0., 0., 0., 0., 0., 0.],\n       [0., 0., 0., 0., 0., 0., 0., 0., 0., 0.],\n       [0., 0., 0., 0., 0., 0., 0., 0., 0., 0.],\n       [0., 0., 0., 0., 0., 0., 0., 0., 0., 0.],\n       [0., 0., 0., 0., 0., 0., 0., 0., 0., 0.],\n       [0., 0., 0., 0., 0., 0., 0., 0., 0., 0.],\n       [0., 0., 0., 0., 0., 0., 0., 0., 0., 0.],\n       [0., 0., 0., 0., 0., 0., 0., 0., 0., 0.],\n       [0., 0., 0., 0., 0., 0., 0., 0., 0., 0.],\n       [0., 0., 0., 0., 0., 0., 0., 0., 0., 0.]], dtype=float32)"
     },
     "execution_count": 1,
     "metadata": {},
     "output_type": "execute_result"
    }
   ],
   "source": [
    "import gym\n",
    "import gym_battleship\n",
    "env = gym.make('Battleship-v0')\n",
    "env.reset()"
   ]
  },
  {
   "cell_type": "code",
   "execution_count": 2,
   "outputs": [
    {
     "data": {
      "text/plain": "    A  B  C  D  E  F  G  H  I  J\n1   ⬜  ⬜  ⬜  ⬜  ⬜  ⬜  ⬜  ⬜  ⬜  ⬜\n2   ⬜  ⬜  ⬜  ⬜  ⬜  ⬜  ⬜  ⬜  ⬜  ⬜\n3   ⬜  ⬜  ⬜  ⬜  ⬜  ⬜  ⬜  ⬜  ⬜  ⬜\n4   ⬜  ⬜  ⬜  ⬜  ⬜  ⬜  ⬜  ⬜  ⬜  ⬜\n5   ⬜  ⬜  ⬜  ⬜  ⬜  ⬜  ⬜  ⬜  ⬜  ⬜\n6   ⬜  ⬜  ⬜  ⬜  ⬜  ⬜  ⬜  ⬜  ⬜  ⬜\n7   ⬜  ⬜  ⬜  ⬜  ⬜  ⬜  ⬜  ⬜  ⬜  ⬜\n8   ⬜  ⬜  ⬜  ⬜  ⬜  ⬜  ⬜  ⬜  ⬜  ⬜\n9   ⬜  ⬜  ⬜  ⬜  ⬜  ⬜  ⬜  ⬜  ⬜  ⬜\n10  ⬜  ⬜  ⬜  ⬜  ⬜  ⬜  ⬜  ⬜  ⬜  ⬜",
      "text/html": "<div>\n<style scoped>\n    .dataframe tbody tr th:only-of-type {\n        vertical-align: middle;\n    }\n\n    .dataframe tbody tr th {\n        vertical-align: top;\n    }\n\n    .dataframe thead th {\n        text-align: right;\n    }\n</style>\n<table border=\"1\" class=\"dataframe\">\n  <thead>\n    <tr style=\"text-align: right;\">\n      <th></th>\n      <th>A</th>\n      <th>B</th>\n      <th>C</th>\n      <th>D</th>\n      <th>E</th>\n      <th>F</th>\n      <th>G</th>\n      <th>H</th>\n      <th>I</th>\n      <th>J</th>\n    </tr>\n  </thead>\n  <tbody>\n    <tr>\n      <th>1</th>\n      <td>⬜</td>\n      <td>⬜</td>\n      <td>⬜</td>\n      <td>⬜</td>\n      <td>⬜</td>\n      <td>⬜</td>\n      <td>⬜</td>\n      <td>⬜</td>\n      <td>⬜</td>\n      <td>⬜</td>\n    </tr>\n    <tr>\n      <th>2</th>\n      <td>⬜</td>\n      <td>⬜</td>\n      <td>⬜</td>\n      <td>⬜</td>\n      <td>⬜</td>\n      <td>⬜</td>\n      <td>⬜</td>\n      <td>⬜</td>\n      <td>⬜</td>\n      <td>⬜</td>\n    </tr>\n    <tr>\n      <th>3</th>\n      <td>⬜</td>\n      <td>⬜</td>\n      <td>⬜</td>\n      <td>⬜</td>\n      <td>⬜</td>\n      <td>⬜</td>\n      <td>⬜</td>\n      <td>⬜</td>\n      <td>⬜</td>\n      <td>⬜</td>\n    </tr>\n    <tr>\n      <th>4</th>\n      <td>⬜</td>\n      <td>⬜</td>\n      <td>⬜</td>\n      <td>⬜</td>\n      <td>⬜</td>\n      <td>⬜</td>\n      <td>⬜</td>\n      <td>⬜</td>\n      <td>⬜</td>\n      <td>⬜</td>\n    </tr>\n    <tr>\n      <th>5</th>\n      <td>⬜</td>\n      <td>⬜</td>\n      <td>⬜</td>\n      <td>⬜</td>\n      <td>⬜</td>\n      <td>⬜</td>\n      <td>⬜</td>\n      <td>⬜</td>\n      <td>⬜</td>\n      <td>⬜</td>\n    </tr>\n    <tr>\n      <th>6</th>\n      <td>⬜</td>\n      <td>⬜</td>\n      <td>⬜</td>\n      <td>⬜</td>\n      <td>⬜</td>\n      <td>⬜</td>\n      <td>⬜</td>\n      <td>⬜</td>\n      <td>⬜</td>\n      <td>⬜</td>\n    </tr>\n    <tr>\n      <th>7</th>\n      <td>⬜</td>\n      <td>⬜</td>\n      <td>⬜</td>\n      <td>⬜</td>\n      <td>⬜</td>\n      <td>⬜</td>\n      <td>⬜</td>\n      <td>⬜</td>\n      <td>⬜</td>\n      <td>⬜</td>\n    </tr>\n    <tr>\n      <th>8</th>\n      <td>⬜</td>\n      <td>⬜</td>\n      <td>⬜</td>\n      <td>⬜</td>\n      <td>⬜</td>\n      <td>⬜</td>\n      <td>⬜</td>\n      <td>⬜</td>\n      <td>⬜</td>\n      <td>⬜</td>\n    </tr>\n    <tr>\n      <th>9</th>\n      <td>⬜</td>\n      <td>⬜</td>\n      <td>⬜</td>\n      <td>⬜</td>\n      <td>⬜</td>\n      <td>⬜</td>\n      <td>⬜</td>\n      <td>⬜</td>\n      <td>⬜</td>\n      <td>⬜</td>\n    </tr>\n    <tr>\n      <th>10</th>\n      <td>⬜</td>\n      <td>⬜</td>\n      <td>⬜</td>\n      <td>⬜</td>\n      <td>⬜</td>\n      <td>⬜</td>\n      <td>⬜</td>\n      <td>⬜</td>\n      <td>⬜</td>\n      <td>⬜</td>\n    </tr>\n  </tbody>\n</table>\n</div>"
     },
     "metadata": {},
     "output_type": "display_data"
    },
    {
     "data": {
      "text/plain": "    A  B  C  D  E  F  G  H  I  J\n1   ⬜  ⬜  ⬜  ⬜  ⬜  ⬜  ⬜  ⬜  ⬜  ⬜\n2   ⬜  ⬛  ⬛  ⬛  ⬜  ⬜  ⬜  ⬜  ⬜  ⬜\n3   ⬜  ⬜  ⬜  ⬛  ⬜  ⬜  ⬜  ⬜  ⬜  ⬜\n4   ⬜  ⬜  ⬜  ⬛  ⬜  ⬜  ⬜  ⬜  ⬜  ⬜\n5   ⬛  ⬜  ⬜  ⬜  ⬜  ⬜  ⬜  ⬜  ⬜  ⬜\n6   ⬛  ⬜  ⬜  ⬜  ⬜  ⬜  ⬛  ⬛  ⬛  ⬛\n7   ⬛  ⬜  ⬜  ⬜  ⬜  ⬜  ⬜  ⬜  ⬜  ⬜\n8   ⬜  ⬜  ⬜  ⬜  ⬜  ⬜  ⬜  ⬜  ⬜  ⬜\n9   ⬜  ⬜  ⬜  ⬜  ⬜  ⬜  ⬜  ⬜  ⬜  ⬜\n10  ⬛  ⬛  ⬛  ⬛  ⬛  ⬜  ⬜  ⬜  ⬜  ⬜",
      "text/html": "<div>\n<style scoped>\n    .dataframe tbody tr th:only-of-type {\n        vertical-align: middle;\n    }\n\n    .dataframe tbody tr th {\n        vertical-align: top;\n    }\n\n    .dataframe thead th {\n        text-align: right;\n    }\n</style>\n<table border=\"1\" class=\"dataframe\">\n  <thead>\n    <tr style=\"text-align: right;\">\n      <th></th>\n      <th>A</th>\n      <th>B</th>\n      <th>C</th>\n      <th>D</th>\n      <th>E</th>\n      <th>F</th>\n      <th>G</th>\n      <th>H</th>\n      <th>I</th>\n      <th>J</th>\n    </tr>\n  </thead>\n  <tbody>\n    <tr>\n      <th>1</th>\n      <td>⬜</td>\n      <td>⬜</td>\n      <td>⬜</td>\n      <td>⬜</td>\n      <td>⬜</td>\n      <td>⬜</td>\n      <td>⬜</td>\n      <td>⬜</td>\n      <td>⬜</td>\n      <td>⬜</td>\n    </tr>\n    <tr>\n      <th>2</th>\n      <td>⬜</td>\n      <td>⬛</td>\n      <td>⬛</td>\n      <td>⬛</td>\n      <td>⬜</td>\n      <td>⬜</td>\n      <td>⬜</td>\n      <td>⬜</td>\n      <td>⬜</td>\n      <td>⬜</td>\n    </tr>\n    <tr>\n      <th>3</th>\n      <td>⬜</td>\n      <td>⬜</td>\n      <td>⬜</td>\n      <td>⬛</td>\n      <td>⬜</td>\n      <td>⬜</td>\n      <td>⬜</td>\n      <td>⬜</td>\n      <td>⬜</td>\n      <td>⬜</td>\n    </tr>\n    <tr>\n      <th>4</th>\n      <td>⬜</td>\n      <td>⬜</td>\n      <td>⬜</td>\n      <td>⬛</td>\n      <td>⬜</td>\n      <td>⬜</td>\n      <td>⬜</td>\n      <td>⬜</td>\n      <td>⬜</td>\n      <td>⬜</td>\n    </tr>\n    <tr>\n      <th>5</th>\n      <td>⬛</td>\n      <td>⬜</td>\n      <td>⬜</td>\n      <td>⬜</td>\n      <td>⬜</td>\n      <td>⬜</td>\n      <td>⬜</td>\n      <td>⬜</td>\n      <td>⬜</td>\n      <td>⬜</td>\n    </tr>\n    <tr>\n      <th>6</th>\n      <td>⬛</td>\n      <td>⬜</td>\n      <td>⬜</td>\n      <td>⬜</td>\n      <td>⬜</td>\n      <td>⬜</td>\n      <td>⬛</td>\n      <td>⬛</td>\n      <td>⬛</td>\n      <td>⬛</td>\n    </tr>\n    <tr>\n      <th>7</th>\n      <td>⬛</td>\n      <td>⬜</td>\n      <td>⬜</td>\n      <td>⬜</td>\n      <td>⬜</td>\n      <td>⬜</td>\n      <td>⬜</td>\n      <td>⬜</td>\n      <td>⬜</td>\n      <td>⬜</td>\n    </tr>\n    <tr>\n      <th>8</th>\n      <td>⬜</td>\n      <td>⬜</td>\n      <td>⬜</td>\n      <td>⬜</td>\n      <td>⬜</td>\n      <td>⬜</td>\n      <td>⬜</td>\n      <td>⬜</td>\n      <td>⬜</td>\n      <td>⬜</td>\n    </tr>\n    <tr>\n      <th>9</th>\n      <td>⬜</td>\n      <td>⬜</td>\n      <td>⬜</td>\n      <td>⬜</td>\n      <td>⬜</td>\n      <td>⬜</td>\n      <td>⬜</td>\n      <td>⬜</td>\n      <td>⬜</td>\n      <td>⬜</td>\n    </tr>\n    <tr>\n      <th>10</th>\n      <td>⬛</td>\n      <td>⬛</td>\n      <td>⬛</td>\n      <td>⬛</td>\n      <td>⬛</td>\n      <td>⬜</td>\n      <td>⬜</td>\n      <td>⬜</td>\n      <td>⬜</td>\n      <td>⬜</td>\n    </tr>\n  </tbody>\n</table>\n</div>"
     },
     "metadata": {},
     "output_type": "display_data"
    }
   ],
   "source": [
    "env.render()\n",
    "env.render_board_generated()"
   ],
   "metadata": {
    "collapsed": false,
    "pycharm": {
     "name": "#%%\n"
    }
   }
  },
  {
   "cell_type": "code",
   "execution_count": 3,
   "outputs": [
    {
     "name": "stdout",
     "output_type": "stream",
     "text": [
      "(array([[0., 0., 0., 0., 0., 0., 0., 0., 0., 0.],\n",
      "       [0., 0., 0., 0., 0., 0., 0., 0., 0., 0.],\n",
      "       [0., 0., 0., 0., 0., 0., 0., 0., 0., 0.],\n",
      "       [0., 0., 0., 0., 0., 0., 0., 0., 0., 0.],\n",
      "       [0., 0., 0., 0., 0., 0., 0., 0., 0., 0.],\n",
      "       [0., 0., 0., 0., 0., 0., 0., 0., 0., 0.],\n",
      "       [0., 0., 0., 0., 0., 0., 0., 0., 0., 0.],\n",
      "       [0., 0., 0., 0., 0., 0., 0., 0., 0., 0.],\n",
      "       [0., 0., 0., 0., 0., 0., 0., 0., 0., 0.],\n",
      "       [0., 1., 0., 0., 0., 0., 0., 0., 0., 0.]], dtype=float32), 0, False, {5: 1, 4: 1, 3: 2, 2: 1})\n"
     ]
    },
    {
     "data": {
      "text/plain": "    A  B  C  D  E  F  G  H  I  J\n1   ⬜  ⬜  ⬜  ⬜  ⬜  ⬜  ⬜  ⬜  ⬜  ⬜\n2   ⬜  ⬜  ⬜  ⬜  ⬜  ⬜  ⬜  ⬜  ⬜  ⬜\n3   ⬜  ⬜  ⬜  ⬜  ⬜  ⬜  ⬜  ⬜  ⬜  ⬜\n4   ⬜  ⬜  ⬜  ⬜  ⬜  ⬜  ⬜  ⬜  ⬜  ⬜\n5   ⬜  ⬜  ⬜  ⬜  ⬜  ⬜  ⬜  ⬜  ⬜  ⬜\n6   ⬜  ⬜  ⬜  ⬜  ⬜  ⬜  ⬜  ⬜  ⬜  ⬜\n7   ⬜  ⬜  ⬜  ⬜  ⬜  ⬜  ⬜  ⬜  ⬜  ⬜\n8   ⬜  ⬜  ⬜  ⬜  ⬜  ⬜  ⬜  ⬜  ⬜  ⬜\n9   ⬜  ⬜  ⬜  ⬜  ⬜  ⬜  ⬜  ⬜  ⬜  ⬜\n10  ⬜  ⚫  ⬜  ⬜  ⬜  ⬜  ⬜  ⬜  ⬜  ⬜",
      "text/html": "<div>\n<style scoped>\n    .dataframe tbody tr th:only-of-type {\n        vertical-align: middle;\n    }\n\n    .dataframe tbody tr th {\n        vertical-align: top;\n    }\n\n    .dataframe thead th {\n        text-align: right;\n    }\n</style>\n<table border=\"1\" class=\"dataframe\">\n  <thead>\n    <tr style=\"text-align: right;\">\n      <th></th>\n      <th>A</th>\n      <th>B</th>\n      <th>C</th>\n      <th>D</th>\n      <th>E</th>\n      <th>F</th>\n      <th>G</th>\n      <th>H</th>\n      <th>I</th>\n      <th>J</th>\n    </tr>\n  </thead>\n  <tbody>\n    <tr>\n      <th>1</th>\n      <td>⬜</td>\n      <td>⬜</td>\n      <td>⬜</td>\n      <td>⬜</td>\n      <td>⬜</td>\n      <td>⬜</td>\n      <td>⬜</td>\n      <td>⬜</td>\n      <td>⬜</td>\n      <td>⬜</td>\n    </tr>\n    <tr>\n      <th>2</th>\n      <td>⬜</td>\n      <td>⬜</td>\n      <td>⬜</td>\n      <td>⬜</td>\n      <td>⬜</td>\n      <td>⬜</td>\n      <td>⬜</td>\n      <td>⬜</td>\n      <td>⬜</td>\n      <td>⬜</td>\n    </tr>\n    <tr>\n      <th>3</th>\n      <td>⬜</td>\n      <td>⬜</td>\n      <td>⬜</td>\n      <td>⬜</td>\n      <td>⬜</td>\n      <td>⬜</td>\n      <td>⬜</td>\n      <td>⬜</td>\n      <td>⬜</td>\n      <td>⬜</td>\n    </tr>\n    <tr>\n      <th>4</th>\n      <td>⬜</td>\n      <td>⬜</td>\n      <td>⬜</td>\n      <td>⬜</td>\n      <td>⬜</td>\n      <td>⬜</td>\n      <td>⬜</td>\n      <td>⬜</td>\n      <td>⬜</td>\n      <td>⬜</td>\n    </tr>\n    <tr>\n      <th>5</th>\n      <td>⬜</td>\n      <td>⬜</td>\n      <td>⬜</td>\n      <td>⬜</td>\n      <td>⬜</td>\n      <td>⬜</td>\n      <td>⬜</td>\n      <td>⬜</td>\n      <td>⬜</td>\n      <td>⬜</td>\n    </tr>\n    <tr>\n      <th>6</th>\n      <td>⬜</td>\n      <td>⬜</td>\n      <td>⬜</td>\n      <td>⬜</td>\n      <td>⬜</td>\n      <td>⬜</td>\n      <td>⬜</td>\n      <td>⬜</td>\n      <td>⬜</td>\n      <td>⬜</td>\n    </tr>\n    <tr>\n      <th>7</th>\n      <td>⬜</td>\n      <td>⬜</td>\n      <td>⬜</td>\n      <td>⬜</td>\n      <td>⬜</td>\n      <td>⬜</td>\n      <td>⬜</td>\n      <td>⬜</td>\n      <td>⬜</td>\n      <td>⬜</td>\n    </tr>\n    <tr>\n      <th>8</th>\n      <td>⬜</td>\n      <td>⬜</td>\n      <td>⬜</td>\n      <td>⬜</td>\n      <td>⬜</td>\n      <td>⬜</td>\n      <td>⬜</td>\n      <td>⬜</td>\n      <td>⬜</td>\n      <td>⬜</td>\n    </tr>\n    <tr>\n      <th>9</th>\n      <td>⬜</td>\n      <td>⬜</td>\n      <td>⬜</td>\n      <td>⬜</td>\n      <td>⬜</td>\n      <td>⬜</td>\n      <td>⬜</td>\n      <td>⬜</td>\n      <td>⬜</td>\n      <td>⬜</td>\n    </tr>\n    <tr>\n      <th>10</th>\n      <td>⬜</td>\n      <td>⚫</td>\n      <td>⬜</td>\n      <td>⬜</td>\n      <td>⬜</td>\n      <td>⬜</td>\n      <td>⬜</td>\n      <td>⬜</td>\n      <td>⬜</td>\n      <td>⬜</td>\n    </tr>\n  </tbody>\n</table>\n</div>"
     },
     "metadata": {},
     "output_type": "display_data"
    },
    {
     "name": "stdout",
     "output_type": "stream",
     "text": [
      "(array([[0., 0., 0., 0., 0., 0., 0., 0., 0., 0.],\n",
      "       [0., 0., 0., 0., 0., 0., 0., 0., 0., 0.],\n",
      "       [0., 0., 0., 0., 0., 0., 0., 0., 0., 0.],\n",
      "       [0., 0., 0., 0., 0., 0., 0., 0., 0., 0.],\n",
      "       [0., 0., 0., 0., 0., 0., 0., 0., 0., 0.],\n",
      "       [0., 0., 0., 0., 0., 0., 0., 0., 0., 0.],\n",
      "       [0., 0., 0., 0., 0., 0., 0., 0., 0., 0.],\n",
      "       [0., 0., 0., 0., 0., 0., 0., 0., 0., 0.],\n",
      "       [0., 0., 0., 0., 0., 0., 0., 0., 0., 0.],\n",
      "       [1., 1., 0., 0., 0., 0., 0., 0., 0., 0.]], dtype=float32), 0, False, {5: 1, 4: 1, 3: 2, 2: 1})\n"
     ]
    },
    {
     "data": {
      "text/plain": "    A  B  C  D  E  F  G  H  I  J\n1   ⬜  ⬜  ⬜  ⬜  ⬜  ⬜  ⬜  ⬜  ⬜  ⬜\n2   ⬜  ⬜  ⬜  ⬜  ⬜  ⬜  ⬜  ⬜  ⬜  ⬜\n3   ⬜  ⬜  ⬜  ⬜  ⬜  ⬜  ⬜  ⬜  ⬜  ⬜\n4   ⬜  ⬜  ⬜  ⬜  ⬜  ⬜  ⬜  ⬜  ⬜  ⬜\n5   ⬜  ⬜  ⬜  ⬜  ⬜  ⬜  ⬜  ⬜  ⬜  ⬜\n6   ⬜  ⬜  ⬜  ⬜  ⬜  ⬜  ⬜  ⬜  ⬜  ⬜\n7   ⬜  ⬜  ⬜  ⬜  ⬜  ⬜  ⬜  ⬜  ⬜  ⬜\n8   ⬜  ⬜  ⬜  ⬜  ⬜  ⬜  ⬜  ⬜  ⬜  ⬜\n9   ⬜  ⬜  ⬜  ⬜  ⬜  ⬜  ⬜  ⬜  ⬜  ⬜\n10  ⚫  ⚫  ⬜  ⬜  ⬜  ⬜  ⬜  ⬜  ⬜  ⬜",
      "text/html": "<div>\n<style scoped>\n    .dataframe tbody tr th:only-of-type {\n        vertical-align: middle;\n    }\n\n    .dataframe tbody tr th {\n        vertical-align: top;\n    }\n\n    .dataframe thead th {\n        text-align: right;\n    }\n</style>\n<table border=\"1\" class=\"dataframe\">\n  <thead>\n    <tr style=\"text-align: right;\">\n      <th></th>\n      <th>A</th>\n      <th>B</th>\n      <th>C</th>\n      <th>D</th>\n      <th>E</th>\n      <th>F</th>\n      <th>G</th>\n      <th>H</th>\n      <th>I</th>\n      <th>J</th>\n    </tr>\n  </thead>\n  <tbody>\n    <tr>\n      <th>1</th>\n      <td>⬜</td>\n      <td>⬜</td>\n      <td>⬜</td>\n      <td>⬜</td>\n      <td>⬜</td>\n      <td>⬜</td>\n      <td>⬜</td>\n      <td>⬜</td>\n      <td>⬜</td>\n      <td>⬜</td>\n    </tr>\n    <tr>\n      <th>2</th>\n      <td>⬜</td>\n      <td>⬜</td>\n      <td>⬜</td>\n      <td>⬜</td>\n      <td>⬜</td>\n      <td>⬜</td>\n      <td>⬜</td>\n      <td>⬜</td>\n      <td>⬜</td>\n      <td>⬜</td>\n    </tr>\n    <tr>\n      <th>3</th>\n      <td>⬜</td>\n      <td>⬜</td>\n      <td>⬜</td>\n      <td>⬜</td>\n      <td>⬜</td>\n      <td>⬜</td>\n      <td>⬜</td>\n      <td>⬜</td>\n      <td>⬜</td>\n      <td>⬜</td>\n    </tr>\n    <tr>\n      <th>4</th>\n      <td>⬜</td>\n      <td>⬜</td>\n      <td>⬜</td>\n      <td>⬜</td>\n      <td>⬜</td>\n      <td>⬜</td>\n      <td>⬜</td>\n      <td>⬜</td>\n      <td>⬜</td>\n      <td>⬜</td>\n    </tr>\n    <tr>\n      <th>5</th>\n      <td>⬜</td>\n      <td>⬜</td>\n      <td>⬜</td>\n      <td>⬜</td>\n      <td>⬜</td>\n      <td>⬜</td>\n      <td>⬜</td>\n      <td>⬜</td>\n      <td>⬜</td>\n      <td>⬜</td>\n    </tr>\n    <tr>\n      <th>6</th>\n      <td>⬜</td>\n      <td>⬜</td>\n      <td>⬜</td>\n      <td>⬜</td>\n      <td>⬜</td>\n      <td>⬜</td>\n      <td>⬜</td>\n      <td>⬜</td>\n      <td>⬜</td>\n      <td>⬜</td>\n    </tr>\n    <tr>\n      <th>7</th>\n      <td>⬜</td>\n      <td>⬜</td>\n      <td>⬜</td>\n      <td>⬜</td>\n      <td>⬜</td>\n      <td>⬜</td>\n      <td>⬜</td>\n      <td>⬜</td>\n      <td>⬜</td>\n      <td>⬜</td>\n    </tr>\n    <tr>\n      <th>8</th>\n      <td>⬜</td>\n      <td>⬜</td>\n      <td>⬜</td>\n      <td>⬜</td>\n      <td>⬜</td>\n      <td>⬜</td>\n      <td>⬜</td>\n      <td>⬜</td>\n      <td>⬜</td>\n      <td>⬜</td>\n    </tr>\n    <tr>\n      <th>9</th>\n      <td>⬜</td>\n      <td>⬜</td>\n      <td>⬜</td>\n      <td>⬜</td>\n      <td>⬜</td>\n      <td>⬜</td>\n      <td>⬜</td>\n      <td>⬜</td>\n      <td>⬜</td>\n      <td>⬜</td>\n    </tr>\n    <tr>\n      <th>10</th>\n      <td>⚫</td>\n      <td>⚫</td>\n      <td>⬜</td>\n      <td>⬜</td>\n      <td>⬜</td>\n      <td>⬜</td>\n      <td>⬜</td>\n      <td>⬜</td>\n      <td>⬜</td>\n      <td>⬜</td>\n    </tr>\n  </tbody>\n</table>\n</div>"
     },
     "metadata": {},
     "output_type": "display_data"
    },
    {
     "name": "stdout",
     "output_type": "stream",
     "text": [
      "(array([[0., 0., 0., 0., 0., 0., 0., 0., 0., 0.],\n",
      "       [0., 0., 0., 0., 0., 0., 0., 0., 0., 0.],\n",
      "       [0., 0., 0., 0., 0., 0., 0., 0., 0., 0.],\n",
      "       [0., 0., 0., 0., 0., 0., 0., 0., 0., 0.],\n",
      "       [0., 0., 0., 0., 0., 0., 0., 0., 0., 0.],\n",
      "       [0., 0., 0., 0., 0., 0., 0., 0., 0., 2.],\n",
      "       [0., 0., 0., 0., 0., 0., 0., 0., 0., 0.],\n",
      "       [0., 0., 0., 0., 0., 0., 0., 0., 0., 0.],\n",
      "       [0., 0., 0., 0., 0., 0., 0., 0., 0., 0.],\n",
      "       [1., 1., 0., 0., 0., 0., 0., 0., 0., 0.]], dtype=float32), 1, False, {5: 1, 4: 1, 3: 2, 2: 1})\n"
     ]
    },
    {
     "data": {
      "text/plain": "    A  B  C  D  E  F  G  H  I  J\n1   ⬜  ⬜  ⬜  ⬜  ⬜  ⬜  ⬜  ⬜  ⬜  ⬜\n2   ⬜  ⬜  ⬜  ⬜  ⬜  ⬜  ⬜  ⬜  ⬜  ⬜\n3   ⬜  ⬜  ⬜  ⬜  ⬜  ⬜  ⬜  ⬜  ⬜  ⬜\n4   ⬜  ⬜  ⬜  ⬜  ⬜  ⬜  ⬜  ⬜  ⬜  ⬜\n5   ⬜  ⬜  ⬜  ⬜  ⬜  ⬜  ⬜  ⬜  ⬜  ⬜\n6   ⬜  ⬜  ⬜  ⬜  ⬜  ⬜  ⬜  ⬜  ⬜  🞇\n7   ⬜  ⬜  ⬜  ⬜  ⬜  ⬜  ⬜  ⬜  ⬜  ⬜\n8   ⬜  ⬜  ⬜  ⬜  ⬜  ⬜  ⬜  ⬜  ⬜  ⬜\n9   ⬜  ⬜  ⬜  ⬜  ⬜  ⬜  ⬜  ⬜  ⬜  ⬜\n10  ⚫  ⚫  ⬜  ⬜  ⬜  ⬜  ⬜  ⬜  ⬜  ⬜",
      "text/html": "<div>\n<style scoped>\n    .dataframe tbody tr th:only-of-type {\n        vertical-align: middle;\n    }\n\n    .dataframe tbody tr th {\n        vertical-align: top;\n    }\n\n    .dataframe thead th {\n        text-align: right;\n    }\n</style>\n<table border=\"1\" class=\"dataframe\">\n  <thead>\n    <tr style=\"text-align: right;\">\n      <th></th>\n      <th>A</th>\n      <th>B</th>\n      <th>C</th>\n      <th>D</th>\n      <th>E</th>\n      <th>F</th>\n      <th>G</th>\n      <th>H</th>\n      <th>I</th>\n      <th>J</th>\n    </tr>\n  </thead>\n  <tbody>\n    <tr>\n      <th>1</th>\n      <td>⬜</td>\n      <td>⬜</td>\n      <td>⬜</td>\n      <td>⬜</td>\n      <td>⬜</td>\n      <td>⬜</td>\n      <td>⬜</td>\n      <td>⬜</td>\n      <td>⬜</td>\n      <td>⬜</td>\n    </tr>\n    <tr>\n      <th>2</th>\n      <td>⬜</td>\n      <td>⬜</td>\n      <td>⬜</td>\n      <td>⬜</td>\n      <td>⬜</td>\n      <td>⬜</td>\n      <td>⬜</td>\n      <td>⬜</td>\n      <td>⬜</td>\n      <td>⬜</td>\n    </tr>\n    <tr>\n      <th>3</th>\n      <td>⬜</td>\n      <td>⬜</td>\n      <td>⬜</td>\n      <td>⬜</td>\n      <td>⬜</td>\n      <td>⬜</td>\n      <td>⬜</td>\n      <td>⬜</td>\n      <td>⬜</td>\n      <td>⬜</td>\n    </tr>\n    <tr>\n      <th>4</th>\n      <td>⬜</td>\n      <td>⬜</td>\n      <td>⬜</td>\n      <td>⬜</td>\n      <td>⬜</td>\n      <td>⬜</td>\n      <td>⬜</td>\n      <td>⬜</td>\n      <td>⬜</td>\n      <td>⬜</td>\n    </tr>\n    <tr>\n      <th>5</th>\n      <td>⬜</td>\n      <td>⬜</td>\n      <td>⬜</td>\n      <td>⬜</td>\n      <td>⬜</td>\n      <td>⬜</td>\n      <td>⬜</td>\n      <td>⬜</td>\n      <td>⬜</td>\n      <td>⬜</td>\n    </tr>\n    <tr>\n      <th>6</th>\n      <td>⬜</td>\n      <td>⬜</td>\n      <td>⬜</td>\n      <td>⬜</td>\n      <td>⬜</td>\n      <td>⬜</td>\n      <td>⬜</td>\n      <td>⬜</td>\n      <td>⬜</td>\n      <td>🞇</td>\n    </tr>\n    <tr>\n      <th>7</th>\n      <td>⬜</td>\n      <td>⬜</td>\n      <td>⬜</td>\n      <td>⬜</td>\n      <td>⬜</td>\n      <td>⬜</td>\n      <td>⬜</td>\n      <td>⬜</td>\n      <td>⬜</td>\n      <td>⬜</td>\n    </tr>\n    <tr>\n      <th>8</th>\n      <td>⬜</td>\n      <td>⬜</td>\n      <td>⬜</td>\n      <td>⬜</td>\n      <td>⬜</td>\n      <td>⬜</td>\n      <td>⬜</td>\n      <td>⬜</td>\n      <td>⬜</td>\n      <td>⬜</td>\n    </tr>\n    <tr>\n      <th>9</th>\n      <td>⬜</td>\n      <td>⬜</td>\n      <td>⬜</td>\n      <td>⬜</td>\n      <td>⬜</td>\n      <td>⬜</td>\n      <td>⬜</td>\n      <td>⬜</td>\n      <td>⬜</td>\n      <td>⬜</td>\n    </tr>\n    <tr>\n      <th>10</th>\n      <td>⚫</td>\n      <td>⚫</td>\n      <td>⬜</td>\n      <td>⬜</td>\n      <td>⬜</td>\n      <td>⬜</td>\n      <td>⬜</td>\n      <td>⬜</td>\n      <td>⬜</td>\n      <td>⬜</td>\n    </tr>\n  </tbody>\n</table>\n</div>"
     },
     "metadata": {},
     "output_type": "display_data"
    },
    {
     "name": "stdout",
     "output_type": "stream",
     "text": [
      "(array([[0., 0., 0., 0., 0., 0., 0., 0., 0., 0.],\n",
      "       [0., 0., 0., 0., 0., 0., 0., 0., 0., 0.],\n",
      "       [0., 0., 0., 0., 0., 0., 0., 0., 0., 0.],\n",
      "       [0., 0., 0., 0., 0., 0., 0., 0., 0., 0.],\n",
      "       [0., 0., 0., 0., 0., 0., 0., 0., 0., 0.],\n",
      "       [0., 0., 1., 0., 0., 0., 0., 0., 0., 2.],\n",
      "       [0., 0., 0., 0., 0., 0., 0., 0., 0., 0.],\n",
      "       [0., 0., 0., 0., 0., 0., 0., 0., 0., 0.],\n",
      "       [0., 0., 0., 0., 0., 0., 0., 0., 0., 0.],\n",
      "       [1., 1., 0., 0., 0., 0., 0., 0., 0., 0.]], dtype=float32), 0, False, {5: 1, 4: 1, 3: 2, 2: 1})\n"
     ]
    },
    {
     "data": {
      "text/plain": "    A  B  C  D  E  F  G  H  I  J\n1   ⬜  ⬜  ⬜  ⬜  ⬜  ⬜  ⬜  ⬜  ⬜  ⬜\n2   ⬜  ⬜  ⬜  ⬜  ⬜  ⬜  ⬜  ⬜  ⬜  ⬜\n3   ⬜  ⬜  ⬜  ⬜  ⬜  ⬜  ⬜  ⬜  ⬜  ⬜\n4   ⬜  ⬜  ⬜  ⬜  ⬜  ⬜  ⬜  ⬜  ⬜  ⬜\n5   ⬜  ⬜  ⬜  ⬜  ⬜  ⬜  ⬜  ⬜  ⬜  ⬜\n6   ⬜  ⬜  ⚫  ⬜  ⬜  ⬜  ⬜  ⬜  ⬜  🞇\n7   ⬜  ⬜  ⬜  ⬜  ⬜  ⬜  ⬜  ⬜  ⬜  ⬜\n8   ⬜  ⬜  ⬜  ⬜  ⬜  ⬜  ⬜  ⬜  ⬜  ⬜\n9   ⬜  ⬜  ⬜  ⬜  ⬜  ⬜  ⬜  ⬜  ⬜  ⬜\n10  ⚫  ⚫  ⬜  ⬜  ⬜  ⬜  ⬜  ⬜  ⬜  ⬜",
      "text/html": "<div>\n<style scoped>\n    .dataframe tbody tr th:only-of-type {\n        vertical-align: middle;\n    }\n\n    .dataframe tbody tr th {\n        vertical-align: top;\n    }\n\n    .dataframe thead th {\n        text-align: right;\n    }\n</style>\n<table border=\"1\" class=\"dataframe\">\n  <thead>\n    <tr style=\"text-align: right;\">\n      <th></th>\n      <th>A</th>\n      <th>B</th>\n      <th>C</th>\n      <th>D</th>\n      <th>E</th>\n      <th>F</th>\n      <th>G</th>\n      <th>H</th>\n      <th>I</th>\n      <th>J</th>\n    </tr>\n  </thead>\n  <tbody>\n    <tr>\n      <th>1</th>\n      <td>⬜</td>\n      <td>⬜</td>\n      <td>⬜</td>\n      <td>⬜</td>\n      <td>⬜</td>\n      <td>⬜</td>\n      <td>⬜</td>\n      <td>⬜</td>\n      <td>⬜</td>\n      <td>⬜</td>\n    </tr>\n    <tr>\n      <th>2</th>\n      <td>⬜</td>\n      <td>⬜</td>\n      <td>⬜</td>\n      <td>⬜</td>\n      <td>⬜</td>\n      <td>⬜</td>\n      <td>⬜</td>\n      <td>⬜</td>\n      <td>⬜</td>\n      <td>⬜</td>\n    </tr>\n    <tr>\n      <th>3</th>\n      <td>⬜</td>\n      <td>⬜</td>\n      <td>⬜</td>\n      <td>⬜</td>\n      <td>⬜</td>\n      <td>⬜</td>\n      <td>⬜</td>\n      <td>⬜</td>\n      <td>⬜</td>\n      <td>⬜</td>\n    </tr>\n    <tr>\n      <th>4</th>\n      <td>⬜</td>\n      <td>⬜</td>\n      <td>⬜</td>\n      <td>⬜</td>\n      <td>⬜</td>\n      <td>⬜</td>\n      <td>⬜</td>\n      <td>⬜</td>\n      <td>⬜</td>\n      <td>⬜</td>\n    </tr>\n    <tr>\n      <th>5</th>\n      <td>⬜</td>\n      <td>⬜</td>\n      <td>⬜</td>\n      <td>⬜</td>\n      <td>⬜</td>\n      <td>⬜</td>\n      <td>⬜</td>\n      <td>⬜</td>\n      <td>⬜</td>\n      <td>⬜</td>\n    </tr>\n    <tr>\n      <th>6</th>\n      <td>⬜</td>\n      <td>⬜</td>\n      <td>⚫</td>\n      <td>⬜</td>\n      <td>⬜</td>\n      <td>⬜</td>\n      <td>⬜</td>\n      <td>⬜</td>\n      <td>⬜</td>\n      <td>🞇</td>\n    </tr>\n    <tr>\n      <th>7</th>\n      <td>⬜</td>\n      <td>⬜</td>\n      <td>⬜</td>\n      <td>⬜</td>\n      <td>⬜</td>\n      <td>⬜</td>\n      <td>⬜</td>\n      <td>⬜</td>\n      <td>⬜</td>\n      <td>⬜</td>\n    </tr>\n    <tr>\n      <th>8</th>\n      <td>⬜</td>\n      <td>⬜</td>\n      <td>⬜</td>\n      <td>⬜</td>\n      <td>⬜</td>\n      <td>⬜</td>\n      <td>⬜</td>\n      <td>⬜</td>\n      <td>⬜</td>\n      <td>⬜</td>\n    </tr>\n    <tr>\n      <th>9</th>\n      <td>⬜</td>\n      <td>⬜</td>\n      <td>⬜</td>\n      <td>⬜</td>\n      <td>⬜</td>\n      <td>⬜</td>\n      <td>⬜</td>\n      <td>⬜</td>\n      <td>⬜</td>\n      <td>⬜</td>\n    </tr>\n    <tr>\n      <th>10</th>\n      <td>⚫</td>\n      <td>⚫</td>\n      <td>⬜</td>\n      <td>⬜</td>\n      <td>⬜</td>\n      <td>⬜</td>\n      <td>⬜</td>\n      <td>⬜</td>\n      <td>⬜</td>\n      <td>⬜</td>\n    </tr>\n  </tbody>\n</table>\n</div>"
     },
     "metadata": {},
     "output_type": "display_data"
    },
    {
     "name": "stdout",
     "output_type": "stream",
     "text": [
      "(array([[0., 0., 0., 0., 0., 0., 0., 0., 0., 0.],\n",
      "       [0., 0., 0., 0., 0., 0., 0., 0., 0., 0.],\n",
      "       [0., 0., 0., 0., 0., 0., 0., 0., 0., 0.],\n",
      "       [0., 0., 0., 0., 0., 0., 0., 0., 0., 0.],\n",
      "       [0., 0., 0., 0., 0., 0., 0., 0., 0., 0.],\n",
      "       [0., 0., 1., 0., 0., 0., 0., 0., 0., 2.],\n",
      "       [0., 0., 0., 0., 0., 0., 0., 0., 0., 0.],\n",
      "       [0., 0., 0., 0., 0., 0., 0., 1., 0., 0.],\n",
      "       [0., 0., 0., 0., 0., 0., 0., 0., 0., 0.],\n",
      "       [1., 1., 0., 0., 0., 0., 0., 0., 0., 0.]], dtype=float32), 0, False, {5: 1, 4: 1, 3: 2, 2: 1})\n"
     ]
    },
    {
     "data": {
      "text/plain": "    A  B  C  D  E  F  G  H  I  J\n1   ⬜  ⬜  ⬜  ⬜  ⬜  ⬜  ⬜  ⬜  ⬜  ⬜\n2   ⬜  ⬜  ⬜  ⬜  ⬜  ⬜  ⬜  ⬜  ⬜  ⬜\n3   ⬜  ⬜  ⬜  ⬜  ⬜  ⬜  ⬜  ⬜  ⬜  ⬜\n4   ⬜  ⬜  ⬜  ⬜  ⬜  ⬜  ⬜  ⬜  ⬜  ⬜\n5   ⬜  ⬜  ⬜  ⬜  ⬜  ⬜  ⬜  ⬜  ⬜  ⬜\n6   ⬜  ⬜  ⚫  ⬜  ⬜  ⬜  ⬜  ⬜  ⬜  🞇\n7   ⬜  ⬜  ⬜  ⬜  ⬜  ⬜  ⬜  ⬜  ⬜  ⬜\n8   ⬜  ⬜  ⬜  ⬜  ⬜  ⬜  ⬜  ⚫  ⬜  ⬜\n9   ⬜  ⬜  ⬜  ⬜  ⬜  ⬜  ⬜  ⬜  ⬜  ⬜\n10  ⚫  ⚫  ⬜  ⬜  ⬜  ⬜  ⬜  ⬜  ⬜  ⬜",
      "text/html": "<div>\n<style scoped>\n    .dataframe tbody tr th:only-of-type {\n        vertical-align: middle;\n    }\n\n    .dataframe tbody tr th {\n        vertical-align: top;\n    }\n\n    .dataframe thead th {\n        text-align: right;\n    }\n</style>\n<table border=\"1\" class=\"dataframe\">\n  <thead>\n    <tr style=\"text-align: right;\">\n      <th></th>\n      <th>A</th>\n      <th>B</th>\n      <th>C</th>\n      <th>D</th>\n      <th>E</th>\n      <th>F</th>\n      <th>G</th>\n      <th>H</th>\n      <th>I</th>\n      <th>J</th>\n    </tr>\n  </thead>\n  <tbody>\n    <tr>\n      <th>1</th>\n      <td>⬜</td>\n      <td>⬜</td>\n      <td>⬜</td>\n      <td>⬜</td>\n      <td>⬜</td>\n      <td>⬜</td>\n      <td>⬜</td>\n      <td>⬜</td>\n      <td>⬜</td>\n      <td>⬜</td>\n    </tr>\n    <tr>\n      <th>2</th>\n      <td>⬜</td>\n      <td>⬜</td>\n      <td>⬜</td>\n      <td>⬜</td>\n      <td>⬜</td>\n      <td>⬜</td>\n      <td>⬜</td>\n      <td>⬜</td>\n      <td>⬜</td>\n      <td>⬜</td>\n    </tr>\n    <tr>\n      <th>3</th>\n      <td>⬜</td>\n      <td>⬜</td>\n      <td>⬜</td>\n      <td>⬜</td>\n      <td>⬜</td>\n      <td>⬜</td>\n      <td>⬜</td>\n      <td>⬜</td>\n      <td>⬜</td>\n      <td>⬜</td>\n    </tr>\n    <tr>\n      <th>4</th>\n      <td>⬜</td>\n      <td>⬜</td>\n      <td>⬜</td>\n      <td>⬜</td>\n      <td>⬜</td>\n      <td>⬜</td>\n      <td>⬜</td>\n      <td>⬜</td>\n      <td>⬜</td>\n      <td>⬜</td>\n    </tr>\n    <tr>\n      <th>5</th>\n      <td>⬜</td>\n      <td>⬜</td>\n      <td>⬜</td>\n      <td>⬜</td>\n      <td>⬜</td>\n      <td>⬜</td>\n      <td>⬜</td>\n      <td>⬜</td>\n      <td>⬜</td>\n      <td>⬜</td>\n    </tr>\n    <tr>\n      <th>6</th>\n      <td>⬜</td>\n      <td>⬜</td>\n      <td>⚫</td>\n      <td>⬜</td>\n      <td>⬜</td>\n      <td>⬜</td>\n      <td>⬜</td>\n      <td>⬜</td>\n      <td>⬜</td>\n      <td>🞇</td>\n    </tr>\n    <tr>\n      <th>7</th>\n      <td>⬜</td>\n      <td>⬜</td>\n      <td>⬜</td>\n      <td>⬜</td>\n      <td>⬜</td>\n      <td>⬜</td>\n      <td>⬜</td>\n      <td>⬜</td>\n      <td>⬜</td>\n      <td>⬜</td>\n    </tr>\n    <tr>\n      <th>8</th>\n      <td>⬜</td>\n      <td>⬜</td>\n      <td>⬜</td>\n      <td>⬜</td>\n      <td>⬜</td>\n      <td>⬜</td>\n      <td>⬜</td>\n      <td>⚫</td>\n      <td>⬜</td>\n      <td>⬜</td>\n    </tr>\n    <tr>\n      <th>9</th>\n      <td>⬜</td>\n      <td>⬜</td>\n      <td>⬜</td>\n      <td>⬜</td>\n      <td>⬜</td>\n      <td>⬜</td>\n      <td>⬜</td>\n      <td>⬜</td>\n      <td>⬜</td>\n      <td>⬜</td>\n    </tr>\n    <tr>\n      <th>10</th>\n      <td>⚫</td>\n      <td>⚫</td>\n      <td>⬜</td>\n      <td>⬜</td>\n      <td>⬜</td>\n      <td>⬜</td>\n      <td>⬜</td>\n      <td>⬜</td>\n      <td>⬜</td>\n      <td>⬜</td>\n    </tr>\n  </tbody>\n</table>\n</div>"
     },
     "metadata": {},
     "output_type": "display_data"
    },
    {
     "name": "stdout",
     "output_type": "stream",
     "text": [
      "(array([[0., 0., 0., 0., 0., 0., 0., 0., 0., 0.],\n",
      "       [0., 0., 0., 0., 0., 0., 0., 0., 0., 0.],\n",
      "       [0., 0., 0., 0., 0., 0., 0., 0., 0., 0.],\n",
      "       [0., 0., 0., 0., 0., 0., 0., 0., 0., 0.],\n",
      "       [0., 0., 0., 0., 0., 0., 0., 0., 0., 0.],\n",
      "       [0., 0., 1., 0., 0., 0., 0., 0., 0., 2.],\n",
      "       [0., 0., 0., 0., 0., 2., 0., 0., 0., 0.],\n",
      "       [0., 0., 0., 0., 0., 0., 0., 1., 0., 0.],\n",
      "       [0., 0., 0., 0., 0., 0., 0., 0., 0., 0.],\n",
      "       [1., 1., 0., 0., 0., 0., 0., 0., 0., 0.]], dtype=float32), 1, False, {5: 1, 4: 1, 3: 2, 2: 1})\n"
     ]
    },
    {
     "data": {
      "text/plain": "    A  B  C  D  E  F  G  H  I  J\n1   ⬜  ⬜  ⬜  ⬜  ⬜  ⬜  ⬜  ⬜  ⬜  ⬜\n2   ⬜  ⬜  ⬜  ⬜  ⬜  ⬜  ⬜  ⬜  ⬜  ⬜\n3   ⬜  ⬜  ⬜  ⬜  ⬜  ⬜  ⬜  ⬜  ⬜  ⬜\n4   ⬜  ⬜  ⬜  ⬜  ⬜  ⬜  ⬜  ⬜  ⬜  ⬜\n5   ⬜  ⬜  ⬜  ⬜  ⬜  ⬜  ⬜  ⬜  ⬜  ⬜\n6   ⬜  ⬜  ⚫  ⬜  ⬜  ⬜  ⬜  ⬜  ⬜  🞇\n7   ⬜  ⬜  ⬜  ⬜  ⬜  🞇  ⬜  ⬜  ⬜  ⬜\n8   ⬜  ⬜  ⬜  ⬜  ⬜  ⬜  ⬜  ⚫  ⬜  ⬜\n9   ⬜  ⬜  ⬜  ⬜  ⬜  ⬜  ⬜  ⬜  ⬜  ⬜\n10  ⚫  ⚫  ⬜  ⬜  ⬜  ⬜  ⬜  ⬜  ⬜  ⬜",
      "text/html": "<div>\n<style scoped>\n    .dataframe tbody tr th:only-of-type {\n        vertical-align: middle;\n    }\n\n    .dataframe tbody tr th {\n        vertical-align: top;\n    }\n\n    .dataframe thead th {\n        text-align: right;\n    }\n</style>\n<table border=\"1\" class=\"dataframe\">\n  <thead>\n    <tr style=\"text-align: right;\">\n      <th></th>\n      <th>A</th>\n      <th>B</th>\n      <th>C</th>\n      <th>D</th>\n      <th>E</th>\n      <th>F</th>\n      <th>G</th>\n      <th>H</th>\n      <th>I</th>\n      <th>J</th>\n    </tr>\n  </thead>\n  <tbody>\n    <tr>\n      <th>1</th>\n      <td>⬜</td>\n      <td>⬜</td>\n      <td>⬜</td>\n      <td>⬜</td>\n      <td>⬜</td>\n      <td>⬜</td>\n      <td>⬜</td>\n      <td>⬜</td>\n      <td>⬜</td>\n      <td>⬜</td>\n    </tr>\n    <tr>\n      <th>2</th>\n      <td>⬜</td>\n      <td>⬜</td>\n      <td>⬜</td>\n      <td>⬜</td>\n      <td>⬜</td>\n      <td>⬜</td>\n      <td>⬜</td>\n      <td>⬜</td>\n      <td>⬜</td>\n      <td>⬜</td>\n    </tr>\n    <tr>\n      <th>3</th>\n      <td>⬜</td>\n      <td>⬜</td>\n      <td>⬜</td>\n      <td>⬜</td>\n      <td>⬜</td>\n      <td>⬜</td>\n      <td>⬜</td>\n      <td>⬜</td>\n      <td>⬜</td>\n      <td>⬜</td>\n    </tr>\n    <tr>\n      <th>4</th>\n      <td>⬜</td>\n      <td>⬜</td>\n      <td>⬜</td>\n      <td>⬜</td>\n      <td>⬜</td>\n      <td>⬜</td>\n      <td>⬜</td>\n      <td>⬜</td>\n      <td>⬜</td>\n      <td>⬜</td>\n    </tr>\n    <tr>\n      <th>5</th>\n      <td>⬜</td>\n      <td>⬜</td>\n      <td>⬜</td>\n      <td>⬜</td>\n      <td>⬜</td>\n      <td>⬜</td>\n      <td>⬜</td>\n      <td>⬜</td>\n      <td>⬜</td>\n      <td>⬜</td>\n    </tr>\n    <tr>\n      <th>6</th>\n      <td>⬜</td>\n      <td>⬜</td>\n      <td>⚫</td>\n      <td>⬜</td>\n      <td>⬜</td>\n      <td>⬜</td>\n      <td>⬜</td>\n      <td>⬜</td>\n      <td>⬜</td>\n      <td>🞇</td>\n    </tr>\n    <tr>\n      <th>7</th>\n      <td>⬜</td>\n      <td>⬜</td>\n      <td>⬜</td>\n      <td>⬜</td>\n      <td>⬜</td>\n      <td>🞇</td>\n      <td>⬜</td>\n      <td>⬜</td>\n      <td>⬜</td>\n      <td>⬜</td>\n    </tr>\n    <tr>\n      <th>8</th>\n      <td>⬜</td>\n      <td>⬜</td>\n      <td>⬜</td>\n      <td>⬜</td>\n      <td>⬜</td>\n      <td>⬜</td>\n      <td>⬜</td>\n      <td>⚫</td>\n      <td>⬜</td>\n      <td>⬜</td>\n    </tr>\n    <tr>\n      <th>9</th>\n      <td>⬜</td>\n      <td>⬜</td>\n      <td>⬜</td>\n      <td>⬜</td>\n      <td>⬜</td>\n      <td>⬜</td>\n      <td>⬜</td>\n      <td>⬜</td>\n      <td>⬜</td>\n      <td>⬜</td>\n    </tr>\n    <tr>\n      <th>10</th>\n      <td>⚫</td>\n      <td>⚫</td>\n      <td>⬜</td>\n      <td>⬜</td>\n      <td>⬜</td>\n      <td>⬜</td>\n      <td>⬜</td>\n      <td>⬜</td>\n      <td>⬜</td>\n      <td>⬜</td>\n    </tr>\n  </tbody>\n</table>\n</div>"
     },
     "metadata": {},
     "output_type": "display_data"
    },
    {
     "name": "stdout",
     "output_type": "stream",
     "text": [
      "(array([[0., 0., 0., 0., 0., 0., 0., 0., 0., 0.],\n",
      "       [0., 0., 0., 0., 0., 0., 0., 0., 0., 0.],\n",
      "       [0., 0., 0., 0., 0., 0., 0., 0., 0., 0.],\n",
      "       [0., 0., 0., 0., 0., 0., 0., 0., 0., 0.],\n",
      "       [0., 0., 0., 1., 0., 0., 0., 0., 0., 0.],\n",
      "       [0., 0., 1., 0., 0., 0., 0., 0., 0., 2.],\n",
      "       [0., 0., 0., 0., 0., 2., 0., 0., 0., 0.],\n",
      "       [0., 0., 0., 0., 0., 0., 0., 1., 0., 0.],\n",
      "       [0., 0., 0., 0., 0., 0., 0., 0., 0., 0.],\n",
      "       [1., 1., 0., 0., 0., 0., 0., 0., 0., 0.]], dtype=float32), 0, False, {5: 1, 4: 1, 3: 2, 2: 1})\n"
     ]
    },
    {
     "data": {
      "text/plain": "    A  B  C  D  E  F  G  H  I  J\n1   ⬜  ⬜  ⬜  ⬜  ⬜  ⬜  ⬜  ⬜  ⬜  ⬜\n2   ⬜  ⬜  ⬜  ⬜  ⬜  ⬜  ⬜  ⬜  ⬜  ⬜\n3   ⬜  ⬜  ⬜  ⬜  ⬜  ⬜  ⬜  ⬜  ⬜  ⬜\n4   ⬜  ⬜  ⬜  ⬜  ⬜  ⬜  ⬜  ⬜  ⬜  ⬜\n5   ⬜  ⬜  ⬜  ⚫  ⬜  ⬜  ⬜  ⬜  ⬜  ⬜\n6   ⬜  ⬜  ⚫  ⬜  ⬜  ⬜  ⬜  ⬜  ⬜  🞇\n7   ⬜  ⬜  ⬜  ⬜  ⬜  🞇  ⬜  ⬜  ⬜  ⬜\n8   ⬜  ⬜  ⬜  ⬜  ⬜  ⬜  ⬜  ⚫  ⬜  ⬜\n9   ⬜  ⬜  ⬜  ⬜  ⬜  ⬜  ⬜  ⬜  ⬜  ⬜\n10  ⚫  ⚫  ⬜  ⬜  ⬜  ⬜  ⬜  ⬜  ⬜  ⬜",
      "text/html": "<div>\n<style scoped>\n    .dataframe tbody tr th:only-of-type {\n        vertical-align: middle;\n    }\n\n    .dataframe tbody tr th {\n        vertical-align: top;\n    }\n\n    .dataframe thead th {\n        text-align: right;\n    }\n</style>\n<table border=\"1\" class=\"dataframe\">\n  <thead>\n    <tr style=\"text-align: right;\">\n      <th></th>\n      <th>A</th>\n      <th>B</th>\n      <th>C</th>\n      <th>D</th>\n      <th>E</th>\n      <th>F</th>\n      <th>G</th>\n      <th>H</th>\n      <th>I</th>\n      <th>J</th>\n    </tr>\n  </thead>\n  <tbody>\n    <tr>\n      <th>1</th>\n      <td>⬜</td>\n      <td>⬜</td>\n      <td>⬜</td>\n      <td>⬜</td>\n      <td>⬜</td>\n      <td>⬜</td>\n      <td>⬜</td>\n      <td>⬜</td>\n      <td>⬜</td>\n      <td>⬜</td>\n    </tr>\n    <tr>\n      <th>2</th>\n      <td>⬜</td>\n      <td>⬜</td>\n      <td>⬜</td>\n      <td>⬜</td>\n      <td>⬜</td>\n      <td>⬜</td>\n      <td>⬜</td>\n      <td>⬜</td>\n      <td>⬜</td>\n      <td>⬜</td>\n    </tr>\n    <tr>\n      <th>3</th>\n      <td>⬜</td>\n      <td>⬜</td>\n      <td>⬜</td>\n      <td>⬜</td>\n      <td>⬜</td>\n      <td>⬜</td>\n      <td>⬜</td>\n      <td>⬜</td>\n      <td>⬜</td>\n      <td>⬜</td>\n    </tr>\n    <tr>\n      <th>4</th>\n      <td>⬜</td>\n      <td>⬜</td>\n      <td>⬜</td>\n      <td>⬜</td>\n      <td>⬜</td>\n      <td>⬜</td>\n      <td>⬜</td>\n      <td>⬜</td>\n      <td>⬜</td>\n      <td>⬜</td>\n    </tr>\n    <tr>\n      <th>5</th>\n      <td>⬜</td>\n      <td>⬜</td>\n      <td>⬜</td>\n      <td>⚫</td>\n      <td>⬜</td>\n      <td>⬜</td>\n      <td>⬜</td>\n      <td>⬜</td>\n      <td>⬜</td>\n      <td>⬜</td>\n    </tr>\n    <tr>\n      <th>6</th>\n      <td>⬜</td>\n      <td>⬜</td>\n      <td>⚫</td>\n      <td>⬜</td>\n      <td>⬜</td>\n      <td>⬜</td>\n      <td>⬜</td>\n      <td>⬜</td>\n      <td>⬜</td>\n      <td>🞇</td>\n    </tr>\n    <tr>\n      <th>7</th>\n      <td>⬜</td>\n      <td>⬜</td>\n      <td>⬜</td>\n      <td>⬜</td>\n      <td>⬜</td>\n      <td>🞇</td>\n      <td>⬜</td>\n      <td>⬜</td>\n      <td>⬜</td>\n      <td>⬜</td>\n    </tr>\n    <tr>\n      <th>8</th>\n      <td>⬜</td>\n      <td>⬜</td>\n      <td>⬜</td>\n      <td>⬜</td>\n      <td>⬜</td>\n      <td>⬜</td>\n      <td>⬜</td>\n      <td>⚫</td>\n      <td>⬜</td>\n      <td>⬜</td>\n    </tr>\n    <tr>\n      <th>9</th>\n      <td>⬜</td>\n      <td>⬜</td>\n      <td>⬜</td>\n      <td>⬜</td>\n      <td>⬜</td>\n      <td>⬜</td>\n      <td>⬜</td>\n      <td>⬜</td>\n      <td>⬜</td>\n      <td>⬜</td>\n    </tr>\n    <tr>\n      <th>10</th>\n      <td>⚫</td>\n      <td>⚫</td>\n      <td>⬜</td>\n      <td>⬜</td>\n      <td>⬜</td>\n      <td>⬜</td>\n      <td>⬜</td>\n      <td>⬜</td>\n      <td>⬜</td>\n      <td>⬜</td>\n    </tr>\n  </tbody>\n</table>\n</div>"
     },
     "metadata": {},
     "output_type": "display_data"
    },
    {
     "name": "stdout",
     "output_type": "stream",
     "text": [
      "(array([[0., 0., 0., 0., 0., 0., 0., 0., 0., 0.],\n",
      "       [0., 0., 0., 0., 0., 0., 0., 0., 0., 0.],\n",
      "       [0., 0., 0., 0., 0., 0., 0., 0., 0., 0.],\n",
      "       [0., 0., 0., 0., 0., 0., 0., 0., 0., 0.],\n",
      "       [0., 0., 0., 1., 0., 0., 0., 0., 0., 0.],\n",
      "       [0., 0., 1., 0., 0., 0., 0., 0., 0., 2.],\n",
      "       [0., 0., 0., 0., 0., 2., 0., 0., 0., 0.],\n",
      "       [0., 0., 0., 0., 0., 0., 0., 1., 0., 1.],\n",
      "       [0., 0., 0., 0., 0., 0., 0., 0., 0., 0.],\n",
      "       [1., 1., 0., 0., 0., 0., 0., 0., 0., 0.]], dtype=float32), 0, False, {5: 1, 4: 1, 3: 2, 2: 1})\n"
     ]
    },
    {
     "data": {
      "text/plain": "    A  B  C  D  E  F  G  H  I  J\n1   ⬜  ⬜  ⬜  ⬜  ⬜  ⬜  ⬜  ⬜  ⬜  ⬜\n2   ⬜  ⬜  ⬜  ⬜  ⬜  ⬜  ⬜  ⬜  ⬜  ⬜\n3   ⬜  ⬜  ⬜  ⬜  ⬜  ⬜  ⬜  ⬜  ⬜  ⬜\n4   ⬜  ⬜  ⬜  ⬜  ⬜  ⬜  ⬜  ⬜  ⬜  ⬜\n5   ⬜  ⬜  ⬜  ⚫  ⬜  ⬜  ⬜  ⬜  ⬜  ⬜\n6   ⬜  ⬜  ⚫  ⬜  ⬜  ⬜  ⬜  ⬜  ⬜  🞇\n7   ⬜  ⬜  ⬜  ⬜  ⬜  🞇  ⬜  ⬜  ⬜  ⬜\n8   ⬜  ⬜  ⬜  ⬜  ⬜  ⬜  ⬜  ⚫  ⬜  ⚫\n9   ⬜  ⬜  ⬜  ⬜  ⬜  ⬜  ⬜  ⬜  ⬜  ⬜\n10  ⚫  ⚫  ⬜  ⬜  ⬜  ⬜  ⬜  ⬜  ⬜  ⬜",
      "text/html": "<div>\n<style scoped>\n    .dataframe tbody tr th:only-of-type {\n        vertical-align: middle;\n    }\n\n    .dataframe tbody tr th {\n        vertical-align: top;\n    }\n\n    .dataframe thead th {\n        text-align: right;\n    }\n</style>\n<table border=\"1\" class=\"dataframe\">\n  <thead>\n    <tr style=\"text-align: right;\">\n      <th></th>\n      <th>A</th>\n      <th>B</th>\n      <th>C</th>\n      <th>D</th>\n      <th>E</th>\n      <th>F</th>\n      <th>G</th>\n      <th>H</th>\n      <th>I</th>\n      <th>J</th>\n    </tr>\n  </thead>\n  <tbody>\n    <tr>\n      <th>1</th>\n      <td>⬜</td>\n      <td>⬜</td>\n      <td>⬜</td>\n      <td>⬜</td>\n      <td>⬜</td>\n      <td>⬜</td>\n      <td>⬜</td>\n      <td>⬜</td>\n      <td>⬜</td>\n      <td>⬜</td>\n    </tr>\n    <tr>\n      <th>2</th>\n      <td>⬜</td>\n      <td>⬜</td>\n      <td>⬜</td>\n      <td>⬜</td>\n      <td>⬜</td>\n      <td>⬜</td>\n      <td>⬜</td>\n      <td>⬜</td>\n      <td>⬜</td>\n      <td>⬜</td>\n    </tr>\n    <tr>\n      <th>3</th>\n      <td>⬜</td>\n      <td>⬜</td>\n      <td>⬜</td>\n      <td>⬜</td>\n      <td>⬜</td>\n      <td>⬜</td>\n      <td>⬜</td>\n      <td>⬜</td>\n      <td>⬜</td>\n      <td>⬜</td>\n    </tr>\n    <tr>\n      <th>4</th>\n      <td>⬜</td>\n      <td>⬜</td>\n      <td>⬜</td>\n      <td>⬜</td>\n      <td>⬜</td>\n      <td>⬜</td>\n      <td>⬜</td>\n      <td>⬜</td>\n      <td>⬜</td>\n      <td>⬜</td>\n    </tr>\n    <tr>\n      <th>5</th>\n      <td>⬜</td>\n      <td>⬜</td>\n      <td>⬜</td>\n      <td>⚫</td>\n      <td>⬜</td>\n      <td>⬜</td>\n      <td>⬜</td>\n      <td>⬜</td>\n      <td>⬜</td>\n      <td>⬜</td>\n    </tr>\n    <tr>\n      <th>6</th>\n      <td>⬜</td>\n      <td>⬜</td>\n      <td>⚫</td>\n      <td>⬜</td>\n      <td>⬜</td>\n      <td>⬜</td>\n      <td>⬜</td>\n      <td>⬜</td>\n      <td>⬜</td>\n      <td>🞇</td>\n    </tr>\n    <tr>\n      <th>7</th>\n      <td>⬜</td>\n      <td>⬜</td>\n      <td>⬜</td>\n      <td>⬜</td>\n      <td>⬜</td>\n      <td>🞇</td>\n      <td>⬜</td>\n      <td>⬜</td>\n      <td>⬜</td>\n      <td>⬜</td>\n    </tr>\n    <tr>\n      <th>8</th>\n      <td>⬜</td>\n      <td>⬜</td>\n      <td>⬜</td>\n      <td>⬜</td>\n      <td>⬜</td>\n      <td>⬜</td>\n      <td>⬜</td>\n      <td>⚫</td>\n      <td>⬜</td>\n      <td>⚫</td>\n    </tr>\n    <tr>\n      <th>9</th>\n      <td>⬜</td>\n      <td>⬜</td>\n      <td>⬜</td>\n      <td>⬜</td>\n      <td>⬜</td>\n      <td>⬜</td>\n      <td>⬜</td>\n      <td>⬜</td>\n      <td>⬜</td>\n      <td>⬜</td>\n    </tr>\n    <tr>\n      <th>10</th>\n      <td>⚫</td>\n      <td>⚫</td>\n      <td>⬜</td>\n      <td>⬜</td>\n      <td>⬜</td>\n      <td>⬜</td>\n      <td>⬜</td>\n      <td>⬜</td>\n      <td>⬜</td>\n      <td>⬜</td>\n    </tr>\n  </tbody>\n</table>\n</div>"
     },
     "metadata": {},
     "output_type": "display_data"
    },
    {
     "name": "stdout",
     "output_type": "stream",
     "text": [
      "(array([[0., 0., 0., 0., 0., 0., 0., 0., 0., 0.],\n",
      "       [0., 0., 1., 0., 0., 0., 0., 0., 0., 0.],\n",
      "       [0., 0., 0., 0., 0., 0., 0., 0., 0., 0.],\n",
      "       [0., 0., 0., 0., 0., 0., 0., 0., 0., 0.],\n",
      "       [0., 0., 0., 1., 0., 0., 0., 0., 0., 0.],\n",
      "       [0., 0., 1., 0., 0., 0., 0., 0., 0., 2.],\n",
      "       [0., 0., 0., 0., 0., 2., 0., 0., 0., 0.],\n",
      "       [0., 0., 0., 0., 0., 0., 0., 1., 0., 1.],\n",
      "       [0., 0., 0., 0., 0., 0., 0., 0., 0., 0.],\n",
      "       [1., 1., 0., 0., 0., 0., 0., 0., 0., 0.]], dtype=float32), 0, False, {5: 1, 4: 1, 3: 2, 2: 1})\n"
     ]
    },
    {
     "data": {
      "text/plain": "    A  B  C  D  E  F  G  H  I  J\n1   ⬜  ⬜  ⬜  ⬜  ⬜  ⬜  ⬜  ⬜  ⬜  ⬜\n2   ⬜  ⬜  ⚫  ⬜  ⬜  ⬜  ⬜  ⬜  ⬜  ⬜\n3   ⬜  ⬜  ⬜  ⬜  ⬜  ⬜  ⬜  ⬜  ⬜  ⬜\n4   ⬜  ⬜  ⬜  ⬜  ⬜  ⬜  ⬜  ⬜  ⬜  ⬜\n5   ⬜  ⬜  ⬜  ⚫  ⬜  ⬜  ⬜  ⬜  ⬜  ⬜\n6   ⬜  ⬜  ⚫  ⬜  ⬜  ⬜  ⬜  ⬜  ⬜  🞇\n7   ⬜  ⬜  ⬜  ⬜  ⬜  🞇  ⬜  ⬜  ⬜  ⬜\n8   ⬜  ⬜  ⬜  ⬜  ⬜  ⬜  ⬜  ⚫  ⬜  ⚫\n9   ⬜  ⬜  ⬜  ⬜  ⬜  ⬜  ⬜  ⬜  ⬜  ⬜\n10  ⚫  ⚫  ⬜  ⬜  ⬜  ⬜  ⬜  ⬜  ⬜  ⬜",
      "text/html": "<div>\n<style scoped>\n    .dataframe tbody tr th:only-of-type {\n        vertical-align: middle;\n    }\n\n    .dataframe tbody tr th {\n        vertical-align: top;\n    }\n\n    .dataframe thead th {\n        text-align: right;\n    }\n</style>\n<table border=\"1\" class=\"dataframe\">\n  <thead>\n    <tr style=\"text-align: right;\">\n      <th></th>\n      <th>A</th>\n      <th>B</th>\n      <th>C</th>\n      <th>D</th>\n      <th>E</th>\n      <th>F</th>\n      <th>G</th>\n      <th>H</th>\n      <th>I</th>\n      <th>J</th>\n    </tr>\n  </thead>\n  <tbody>\n    <tr>\n      <th>1</th>\n      <td>⬜</td>\n      <td>⬜</td>\n      <td>⬜</td>\n      <td>⬜</td>\n      <td>⬜</td>\n      <td>⬜</td>\n      <td>⬜</td>\n      <td>⬜</td>\n      <td>⬜</td>\n      <td>⬜</td>\n    </tr>\n    <tr>\n      <th>2</th>\n      <td>⬜</td>\n      <td>⬜</td>\n      <td>⚫</td>\n      <td>⬜</td>\n      <td>⬜</td>\n      <td>⬜</td>\n      <td>⬜</td>\n      <td>⬜</td>\n      <td>⬜</td>\n      <td>⬜</td>\n    </tr>\n    <tr>\n      <th>3</th>\n      <td>⬜</td>\n      <td>⬜</td>\n      <td>⬜</td>\n      <td>⬜</td>\n      <td>⬜</td>\n      <td>⬜</td>\n      <td>⬜</td>\n      <td>⬜</td>\n      <td>⬜</td>\n      <td>⬜</td>\n    </tr>\n    <tr>\n      <th>4</th>\n      <td>⬜</td>\n      <td>⬜</td>\n      <td>⬜</td>\n      <td>⬜</td>\n      <td>⬜</td>\n      <td>⬜</td>\n      <td>⬜</td>\n      <td>⬜</td>\n      <td>⬜</td>\n      <td>⬜</td>\n    </tr>\n    <tr>\n      <th>5</th>\n      <td>⬜</td>\n      <td>⬜</td>\n      <td>⬜</td>\n      <td>⚫</td>\n      <td>⬜</td>\n      <td>⬜</td>\n      <td>⬜</td>\n      <td>⬜</td>\n      <td>⬜</td>\n      <td>⬜</td>\n    </tr>\n    <tr>\n      <th>6</th>\n      <td>⬜</td>\n      <td>⬜</td>\n      <td>⚫</td>\n      <td>⬜</td>\n      <td>⬜</td>\n      <td>⬜</td>\n      <td>⬜</td>\n      <td>⬜</td>\n      <td>⬜</td>\n      <td>🞇</td>\n    </tr>\n    <tr>\n      <th>7</th>\n      <td>⬜</td>\n      <td>⬜</td>\n      <td>⬜</td>\n      <td>⬜</td>\n      <td>⬜</td>\n      <td>🞇</td>\n      <td>⬜</td>\n      <td>⬜</td>\n      <td>⬜</td>\n      <td>⬜</td>\n    </tr>\n    <tr>\n      <th>8</th>\n      <td>⬜</td>\n      <td>⬜</td>\n      <td>⬜</td>\n      <td>⬜</td>\n      <td>⬜</td>\n      <td>⬜</td>\n      <td>⬜</td>\n      <td>⚫</td>\n      <td>⬜</td>\n      <td>⚫</td>\n    </tr>\n    <tr>\n      <th>9</th>\n      <td>⬜</td>\n      <td>⬜</td>\n      <td>⬜</td>\n      <td>⬜</td>\n      <td>⬜</td>\n      <td>⬜</td>\n      <td>⬜</td>\n      <td>⬜</td>\n      <td>⬜</td>\n      <td>⬜</td>\n    </tr>\n    <tr>\n      <th>10</th>\n      <td>⚫</td>\n      <td>⚫</td>\n      <td>⬜</td>\n      <td>⬜</td>\n      <td>⬜</td>\n      <td>⬜</td>\n      <td>⬜</td>\n      <td>⬜</td>\n      <td>⬜</td>\n      <td>⬜</td>\n    </tr>\n  </tbody>\n</table>\n</div>"
     },
     "metadata": {},
     "output_type": "display_data"
    },
    {
     "name": "stdout",
     "output_type": "stream",
     "text": [
      "(array([[0., 0., 0., 0., 0., 0., 0., 0., 0., 0.],\n",
      "       [0., 0., 1., 0., 0., 0., 0., 0., 0., 0.],\n",
      "       [0., 0., 0., 0., 0., 0., 0., 0., 0., 0.],\n",
      "       [0., 0., 0., 0., 0., 0., 0., 0., 0., 0.],\n",
      "       [0., 0., 0., 1., 0., 0., 0., 0., 0., 0.],\n",
      "       [0., 1., 1., 0., 0., 0., 0., 0., 0., 2.],\n",
      "       [0., 0., 0., 0., 0., 2., 0., 0., 0., 0.],\n",
      "       [0., 0., 0., 0., 0., 0., 0., 1., 0., 1.],\n",
      "       [0., 0., 0., 0., 0., 0., 0., 0., 0., 0.],\n",
      "       [1., 1., 0., 0., 0., 0., 0., 0., 0., 0.]], dtype=float32), 0, False, {5: 1, 4: 1, 3: 2, 2: 1})\n"
     ]
    },
    {
     "data": {
      "text/plain": "    A  B  C  D  E  F  G  H  I  J\n1   ⬜  ⬜  ⬜  ⬜  ⬜  ⬜  ⬜  ⬜  ⬜  ⬜\n2   ⬜  ⬜  ⚫  ⬜  ⬜  ⬜  ⬜  ⬜  ⬜  ⬜\n3   ⬜  ⬜  ⬜  ⬜  ⬜  ⬜  ⬜  ⬜  ⬜  ⬜\n4   ⬜  ⬜  ⬜  ⬜  ⬜  ⬜  ⬜  ⬜  ⬜  ⬜\n5   ⬜  ⬜  ⬜  ⚫  ⬜  ⬜  ⬜  ⬜  ⬜  ⬜\n6   ⬜  ⚫  ⚫  ⬜  ⬜  ⬜  ⬜  ⬜  ⬜  🞇\n7   ⬜  ⬜  ⬜  ⬜  ⬜  🞇  ⬜  ⬜  ⬜  ⬜\n8   ⬜  ⬜  ⬜  ⬜  ⬜  ⬜  ⬜  ⚫  ⬜  ⚫\n9   ⬜  ⬜  ⬜  ⬜  ⬜  ⬜  ⬜  ⬜  ⬜  ⬜\n10  ⚫  ⚫  ⬜  ⬜  ⬜  ⬜  ⬜  ⬜  ⬜  ⬜",
      "text/html": "<div>\n<style scoped>\n    .dataframe tbody tr th:only-of-type {\n        vertical-align: middle;\n    }\n\n    .dataframe tbody tr th {\n        vertical-align: top;\n    }\n\n    .dataframe thead th {\n        text-align: right;\n    }\n</style>\n<table border=\"1\" class=\"dataframe\">\n  <thead>\n    <tr style=\"text-align: right;\">\n      <th></th>\n      <th>A</th>\n      <th>B</th>\n      <th>C</th>\n      <th>D</th>\n      <th>E</th>\n      <th>F</th>\n      <th>G</th>\n      <th>H</th>\n      <th>I</th>\n      <th>J</th>\n    </tr>\n  </thead>\n  <tbody>\n    <tr>\n      <th>1</th>\n      <td>⬜</td>\n      <td>⬜</td>\n      <td>⬜</td>\n      <td>⬜</td>\n      <td>⬜</td>\n      <td>⬜</td>\n      <td>⬜</td>\n      <td>⬜</td>\n      <td>⬜</td>\n      <td>⬜</td>\n    </tr>\n    <tr>\n      <th>2</th>\n      <td>⬜</td>\n      <td>⬜</td>\n      <td>⚫</td>\n      <td>⬜</td>\n      <td>⬜</td>\n      <td>⬜</td>\n      <td>⬜</td>\n      <td>⬜</td>\n      <td>⬜</td>\n      <td>⬜</td>\n    </tr>\n    <tr>\n      <th>3</th>\n      <td>⬜</td>\n      <td>⬜</td>\n      <td>⬜</td>\n      <td>⬜</td>\n      <td>⬜</td>\n      <td>⬜</td>\n      <td>⬜</td>\n      <td>⬜</td>\n      <td>⬜</td>\n      <td>⬜</td>\n    </tr>\n    <tr>\n      <th>4</th>\n      <td>⬜</td>\n      <td>⬜</td>\n      <td>⬜</td>\n      <td>⬜</td>\n      <td>⬜</td>\n      <td>⬜</td>\n      <td>⬜</td>\n      <td>⬜</td>\n      <td>⬜</td>\n      <td>⬜</td>\n    </tr>\n    <tr>\n      <th>5</th>\n      <td>⬜</td>\n      <td>⬜</td>\n      <td>⬜</td>\n      <td>⚫</td>\n      <td>⬜</td>\n      <td>⬜</td>\n      <td>⬜</td>\n      <td>⬜</td>\n      <td>⬜</td>\n      <td>⬜</td>\n    </tr>\n    <tr>\n      <th>6</th>\n      <td>⬜</td>\n      <td>⚫</td>\n      <td>⚫</td>\n      <td>⬜</td>\n      <td>⬜</td>\n      <td>⬜</td>\n      <td>⬜</td>\n      <td>⬜</td>\n      <td>⬜</td>\n      <td>🞇</td>\n    </tr>\n    <tr>\n      <th>7</th>\n      <td>⬜</td>\n      <td>⬜</td>\n      <td>⬜</td>\n      <td>⬜</td>\n      <td>⬜</td>\n      <td>🞇</td>\n      <td>⬜</td>\n      <td>⬜</td>\n      <td>⬜</td>\n      <td>⬜</td>\n    </tr>\n    <tr>\n      <th>8</th>\n      <td>⬜</td>\n      <td>⬜</td>\n      <td>⬜</td>\n      <td>⬜</td>\n      <td>⬜</td>\n      <td>⬜</td>\n      <td>⬜</td>\n      <td>⚫</td>\n      <td>⬜</td>\n      <td>⚫</td>\n    </tr>\n    <tr>\n      <th>9</th>\n      <td>⬜</td>\n      <td>⬜</td>\n      <td>⬜</td>\n      <td>⬜</td>\n      <td>⬜</td>\n      <td>⬜</td>\n      <td>⬜</td>\n      <td>⬜</td>\n      <td>⬜</td>\n      <td>⬜</td>\n    </tr>\n    <tr>\n      <th>10</th>\n      <td>⚫</td>\n      <td>⚫</td>\n      <td>⬜</td>\n      <td>⬜</td>\n      <td>⬜</td>\n      <td>⬜</td>\n      <td>⬜</td>\n      <td>⬜</td>\n      <td>⬜</td>\n      <td>⬜</td>\n    </tr>\n  </tbody>\n</table>\n</div>"
     },
     "metadata": {},
     "output_type": "display_data"
    },
    {
     "data": {
      "text/plain": "    A  B  C  D  E  F  G  H  I  J\n1   ⬜  ⬜  ⬜  ⬜  ⬜  ⬜  ⬜  ⬜  ⬜  ⬜\n2   ⬜  ⬜  ⬜  ⬜  ⬜  ⬜  ⬜  ⬜  ⬜  ⬜\n3   ⬜  ⬜  ⬜  ⬜  ⬜  ⬜  ⬛  ⬛  ⬛  ⬛\n4   ⬜  ⬜  ⬜  ⬜  ⬜  ⬜  ⬜  ⬜  ⬜  ⬜\n5   ⬜  ⬜  ⬜  ⬜  ⬜  ⬛  ⬛  ⬜  ⬜  ⬜\n6   ⬜  ⬜  ⬜  ⬜  ⬜  ⬛  ⬛  ⬛  ⬛  ⬛\n7   ⬜  ⬜  ⬜  ⬜  ⬜  ⬛  ⬛  ⬛  ⬛  ⬜\n8   ⬜  ⬜  ⬜  ⬜  ⬜  ⬛  ⬜  ⬜  ⬜  ⬜\n9   ⬜  ⬜  ⬜  ⬜  ⬜  ⬛  ⬜  ⬜  ⬜  ⬜\n10  ⬜  ⬜  ⬜  ⬜  ⬜  ⬜  ⬜  ⬜  ⬜  ⬜",
      "text/html": "<div>\n<style scoped>\n    .dataframe tbody tr th:only-of-type {\n        vertical-align: middle;\n    }\n\n    .dataframe tbody tr th {\n        vertical-align: top;\n    }\n\n    .dataframe thead th {\n        text-align: right;\n    }\n</style>\n<table border=\"1\" class=\"dataframe\">\n  <thead>\n    <tr style=\"text-align: right;\">\n      <th></th>\n      <th>A</th>\n      <th>B</th>\n      <th>C</th>\n      <th>D</th>\n      <th>E</th>\n      <th>F</th>\n      <th>G</th>\n      <th>H</th>\n      <th>I</th>\n      <th>J</th>\n    </tr>\n  </thead>\n  <tbody>\n    <tr>\n      <th>1</th>\n      <td>⬜</td>\n      <td>⬜</td>\n      <td>⬜</td>\n      <td>⬜</td>\n      <td>⬜</td>\n      <td>⬜</td>\n      <td>⬜</td>\n      <td>⬜</td>\n      <td>⬜</td>\n      <td>⬜</td>\n    </tr>\n    <tr>\n      <th>2</th>\n      <td>⬜</td>\n      <td>⬜</td>\n      <td>⬜</td>\n      <td>⬜</td>\n      <td>⬜</td>\n      <td>⬜</td>\n      <td>⬜</td>\n      <td>⬜</td>\n      <td>⬜</td>\n      <td>⬜</td>\n    </tr>\n    <tr>\n      <th>3</th>\n      <td>⬜</td>\n      <td>⬜</td>\n      <td>⬜</td>\n      <td>⬜</td>\n      <td>⬜</td>\n      <td>⬜</td>\n      <td>⬛</td>\n      <td>⬛</td>\n      <td>⬛</td>\n      <td>⬛</td>\n    </tr>\n    <tr>\n      <th>4</th>\n      <td>⬜</td>\n      <td>⬜</td>\n      <td>⬜</td>\n      <td>⬜</td>\n      <td>⬜</td>\n      <td>⬜</td>\n      <td>⬜</td>\n      <td>⬜</td>\n      <td>⬜</td>\n      <td>⬜</td>\n    </tr>\n    <tr>\n      <th>5</th>\n      <td>⬜</td>\n      <td>⬜</td>\n      <td>⬜</td>\n      <td>⬜</td>\n      <td>⬜</td>\n      <td>⬛</td>\n      <td>⬛</td>\n      <td>⬜</td>\n      <td>⬜</td>\n      <td>⬜</td>\n    </tr>\n    <tr>\n      <th>6</th>\n      <td>⬜</td>\n      <td>⬜</td>\n      <td>⬜</td>\n      <td>⬜</td>\n      <td>⬜</td>\n      <td>⬛</td>\n      <td>⬛</td>\n      <td>⬛</td>\n      <td>⬛</td>\n      <td>⬛</td>\n    </tr>\n    <tr>\n      <th>7</th>\n      <td>⬜</td>\n      <td>⬜</td>\n      <td>⬜</td>\n      <td>⬜</td>\n      <td>⬜</td>\n      <td>⬛</td>\n      <td>⬛</td>\n      <td>⬛</td>\n      <td>⬛</td>\n      <td>⬜</td>\n    </tr>\n    <tr>\n      <th>8</th>\n      <td>⬜</td>\n      <td>⬜</td>\n      <td>⬜</td>\n      <td>⬜</td>\n      <td>⬜</td>\n      <td>⬛</td>\n      <td>⬜</td>\n      <td>⬜</td>\n      <td>⬜</td>\n      <td>⬜</td>\n    </tr>\n    <tr>\n      <th>9</th>\n      <td>⬜</td>\n      <td>⬜</td>\n      <td>⬜</td>\n      <td>⬜</td>\n      <td>⬜</td>\n      <td>⬛</td>\n      <td>⬜</td>\n      <td>⬜</td>\n      <td>⬜</td>\n      <td>⬜</td>\n    </tr>\n    <tr>\n      <th>10</th>\n      <td>⬜</td>\n      <td>⬜</td>\n      <td>⬜</td>\n      <td>⬜</td>\n      <td>⬜</td>\n      <td>⬜</td>\n      <td>⬜</td>\n      <td>⬜</td>\n      <td>⬜</td>\n      <td>⬜</td>\n    </tr>\n  </tbody>\n</table>\n</div>"
     },
     "metadata": {},
     "output_type": "display_data"
    }
   ],
   "source": [
    "env.reset()\n",
    "for i in range(10):\n",
    "    out = env.step(env.action_space.sample())\n",
    "    print(out)\n",
    "    env.render()\n",
    "\n",
    "env.render_board_generated()"
   ],
   "metadata": {
    "collapsed": false,
    "pycharm": {
     "name": "#%%\n"
    }
   }
  }
 ],
 "metadata": {
  "kernelspec": {
   "display_name": "Python 3",
   "language": "python",
   "name": "python3"
  },
  "language_info": {
   "codemirror_mode": {
    "name": "ipython",
    "version": 2
   },
   "file_extension": ".py",
   "mimetype": "text/x-python",
   "name": "python",
   "nbconvert_exporter": "python",
   "pygments_lexer": "ipython2",
   "version": "2.7.6"
  }
 },
 "nbformat": 4,
 "nbformat_minor": 0
}