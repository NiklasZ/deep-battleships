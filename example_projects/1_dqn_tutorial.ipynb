{
 "cells": [
  {
   "cell_type": "markdown",
   "metadata": {
    "id": "klGNgWREsvQv"
   },
   "source": [
    "##### Copyright 2021 The TF-Agents Authors."
   ]
  },
  {
   "cell_type": "code",
   "execution_count": 7,
   "metadata": {
    "cellView": "form",
    "execution": {
     "iopub.execute_input": "2021-09-29T12:18:09.444263Z",
     "iopub.status.busy": "2021-09-29T12:18:09.443600Z",
     "iopub.status.idle": "2021-09-29T12:18:09.446089Z",
     "shell.execute_reply": "2021-09-29T12:18:09.446490Z"
    },
    "id": "nQnmcm0oI1Q-"
   },
   "outputs": [],
   "source": [
    "#@title Licensed under the Apache License, Version 2.0 (the \"License\");\n",
    "# you may not use this file except in compliance with the License.\n",
    "# You may obtain a copy of the License at\n",
    "#\n",
    "# https://www.apache.org/licenses/LICENSE-2.0\n",
    "#\n",
    "# Unless required by applicable law or agreed to in writing, software\n",
    "# distributed under the License is distributed on an \"AS IS\" BASIS,\n",
    "# WITHOUT WARRANTIES OR CONDITIONS OF ANY KIND, either express or implied.\n",
    "# See the License for the specific language governing permissions and\n",
    "# limitations under the License."
   ]
  },
  {
   "cell_type": "markdown",
   "metadata": {
    "id": "pmDI-h7cI0tI"
   },
   "source": [
    "# Train a Deep Q Network with TF-Agents\n",
    "\n",
    "<table class=\"tfo-notebook-buttons\" align=\"left\">\n",
    "  <td>\n",
    "    <a target=\"_blank\" href=\"https://www.tensorflow.org/agents/tutorials/1_dqn_tutorial\">\n",
    "    <img src=\"https://www.tensorflow.org/images/tf_logo_32px.png\" />\n",
    "    View on TensorFlow.org</a>\n",
    "  </td>\n",
    "  <td>\n",
    "    <a target=\"_blank\" href=\"https://colab.research.google.com/github/tensorflow/agents/blob/master/docs/tutorials/1_dqn_tutorial.ipynb\">\n",
    "    <img src=\"https://www.tensorflow.org/images/colab_logo_32px.png\" />\n",
    "    Run in Google Colab</a>\n",
    "  </td>\n",
    "  <td>\n",
    "    <a target=\"_blank\" href=\"https://github.com/tensorflow/agents/blob/master/docs/tutorials/1_dqn_tutorial.ipynb\">\n",
    "    <img src=\"https://www.tensorflow.org/images/GitHub-Mark-32px.png\" />\n",
    "    View source on GitHub</a>\n",
    "  </td>\n",
    "  <td>\n",
    "    <a href=\"https://storage.googleapis.com/tensorflow_docs/agents/docs/tutorials/1_dqn_tutorial.ipynb\"><img src=\"https://www.tensorflow.org/images/download_logo_32px.png\" />Download notebook</a>\n",
    "  </td>\n",
    "</table>"
   ]
  },
  {
   "cell_type": "markdown",
   "metadata": {
    "id": "lsaQlK8fFQqH"
   },
   "source": [
    "## Introduction\n"
   ]
  },
  {
   "cell_type": "markdown",
   "metadata": {
    "id": "cKOCZlhUgXVK"
   },
   "source": [
    "This example shows how to train a [DQN (Deep Q Networks)](https://storage.googleapis.com/deepmind-media/dqn/DQNNaturePaper.pdf)  agent on the Cartpole environment using the TF-Agents library.\n",
    "\n",
    "![Cartpole environment](https://raw.githubusercontent.com/tensorflow/agents/master/docs/tutorials/images/cartpole.png)\n",
    "\n",
    "It will walk you through all the components in a Reinforcement Learning (RL) pipeline for training, evaluation and data collection.\n",
    "\n",
    "\n",
    "To run this code live, click the 'Run in Google Colab' link above.\n"
   ]
  },
  {
   "cell_type": "markdown",
   "metadata": {
    "id": "1u9QVVsShC9X"
   },
   "source": [
    "## Setup"
   ]
  },
  {
   "cell_type": "markdown",
   "metadata": {
    "id": "kNrNXKI7bINP"
   },
   "source": [
    "If you haven't installed the following dependencies, run:"
   ]
  },
  {
   "cell_type": "code",
   "execution_count": 1,
   "metadata": {
    "execution": {
     "iopub.execute_input": "2021-09-29T12:18:09.461645Z",
     "iopub.status.busy": "2021-09-29T12:18:09.457756Z",
     "iopub.status.idle": "2021-09-29T12:18:26.451099Z",
     "shell.execute_reply": "2021-09-29T12:18:26.450515Z"
    },
    "id": "KEHR2Ui-lo8O"
   },
   "outputs": [
    {
     "name": "stdout",
     "output_type": "stream",
     "text": [
      "/home/niklasz/.pyenv/versions/3.9.6/lib\n",
      "env: LD_LIBRARY_PATH=/home/niklasz/Desktop/ucla/deep_learning/project/deep-battleships/venv/lib\n",
      "/home/niklasz/Desktop/ucla/deep_learning/project/deep-battleships/venv/lib\r\n"
     ]
    }
   ],
   "source": [
    "# !sudo apt-get update\n",
    "# !sudo apt-get install -y xvfb ffmpeg freeglut3-dev\n",
    "# !pip install 'imageio==2.4.0'\n",
    "# !pip install pyvirtualdisplay\n",
    "# !pip install tf-agents[reverb]\n",
    "# !pip install pyglet\n",
    "from __future__ import absolute_import, division, print_function\n",
    "\n",
    "from distutils import sysconfig\n",
    "print(sysconfig.get_config_var(\"LIBDIR\"))\n",
    "\n",
    "%env LD_LIBRARY_PATH=/home/niklasz/Desktop/ucla/deep_learning/project/deep-battleships/venv/lib\n",
    "#!printenv\n",
    "!echo $LD_LIBRARY_PATH"
   ]
  },
  {
   "cell_type": "code",
   "execution_count": 2,
   "metadata": {
    "execution": {
     "iopub.execute_input": "2021-09-29T12:18:26.459143Z",
     "iopub.status.busy": "2021-09-29T12:18:26.458377Z",
     "iopub.status.idle": "2021-09-29T12:18:28.978630Z",
     "shell.execute_reply": "2021-09-29T12:18:28.979073Z"
    },
    "id": "sMitx5qSgJk1"
   },
   "outputs": [
    {
     "name": "stderr",
     "output_type": "stream",
     "text": [
      "\n"
     ]
    }
   ],
   "source": [
    "import base64\n",
    "import imageio\n",
    "import IPython\n",
    "import matplotlib\n",
    "import matplotlib.pyplot as plt\n",
    "import numpy as np\n",
    "import PIL.Image\n",
    "import pyvirtualdisplay\n",
    "import reverb\n",
    "\n",
    "import tensorflow as tf\n",
    "\n",
    "from tf_agents.agents.dqn import dqn_agent\n",
    "from tf_agents.drivers import py_driver\n",
    "from tf_agents.environments import suite_gym\n",
    "from tf_agents.environments import tf_py_environment\n",
    "from tf_agents.eval import metric_utils\n",
    "from tf_agents.metrics import tf_metrics\n",
    "from tf_agents.networks import sequential\n",
    "from tf_agents.policies import py_tf_eager_policy\n",
    "from tf_agents.policies import random_tf_policy\n",
    "from tf_agents.replay_buffers import reverb_replay_buffer\n",
    "from tf_agents.replay_buffers import reverb_utils\n",
    "from tf_agents.trajectories import trajectory\n",
    "from tf_agents.specs import tensor_spec\n",
    "from tf_agents.utils import common"
   ]
  },
  {
   "cell_type": "code",
   "execution_count": 3,
   "metadata": {
    "execution": {
     "iopub.execute_input": "2021-09-29T12:18:28.988837Z",
     "iopub.status.busy": "2021-09-29T12:18:28.983226Z",
     "iopub.status.idle": "2021-09-29T12:18:29.051303Z",
     "shell.execute_reply": "2021-09-29T12:18:29.051762Z"
    },
    "id": "J6HsdS5GbSjd"
   },
   "outputs": [],
   "source": [
    "# Set up a virtual display for rendering OpenAI gym environments.\n",
    "display = pyvirtualdisplay.Display(visible=0, size=(1400, 900)).start()"
   ]
  },
  {
   "cell_type": "code",
   "execution_count": 4,
   "metadata": {
    "execution": {
     "iopub.execute_input": "2021-09-29T12:18:29.059432Z",
     "iopub.status.busy": "2021-09-29T12:18:29.058733Z",
     "iopub.status.idle": "2021-09-29T12:18:29.061537Z",
     "shell.execute_reply": "2021-09-29T12:18:29.061945Z"
    },
    "id": "NspmzG4nP3b9"
   },
   "outputs": [
    {
     "data": {
      "text/plain": "'2.8.0'"
     },
     "execution_count": 4,
     "metadata": {},
     "output_type": "execute_result"
    }
   ],
   "source": [
    "tf.version.VERSION"
   ]
  },
  {
   "cell_type": "markdown",
   "metadata": {
    "id": "LmC0NDhdLIKY"
   },
   "source": [
    "## Hyperparameters"
   ]
  },
  {
   "cell_type": "code",
   "execution_count": 5,
   "metadata": {
    "execution": {
     "iopub.execute_input": "2021-09-29T12:18:29.067093Z",
     "iopub.status.busy": "2021-09-29T12:18:29.066347Z",
     "iopub.status.idle": "2021-09-29T12:18:29.068583Z",
     "shell.execute_reply": "2021-09-29T12:18:29.068116Z"
    },
    "id": "HC1kNrOsLSIZ"
   },
   "outputs": [],
   "source": [
    "num_iterations = 20000 # @param {type:\"integer\"}\n",
    "\n",
    "initial_collect_steps = 100  # @param {type:\"integer\"}\n",
    "collect_steps_per_iteration =   1# @param {type:\"integer\"}\n",
    "replay_buffer_max_length = 100000  # @param {type:\"integer\"}\n",
    "\n",
    "batch_size = 64  # @param {type:\"integer\"}\n",
    "learning_rate = 1e-3  # @param {type:\"number\"}\n",
    "log_interval = 200  # @param {type:\"integer\"}\n",
    "\n",
    "num_eval_episodes = 10  # @param {type:\"integer\"}\n",
    "eval_interval = 1000  # @param {type:\"integer\"}"
   ]
  },
  {
   "cell_type": "markdown",
   "metadata": {
    "id": "VMsJC3DEgI0x"
   },
   "source": [
    "## Environment\n",
    "\n",
    "In Reinforcement Learning (RL), an environment represents the task or problem to be solved. Standard environments can be created in TF-Agents using `tf_agents.environments` suites. TF-Agents has suites for loading environments from sources such as the OpenAI Gym, Atari, and DM Control.\n",
    "\n",
    "Load the CartPole environment from the OpenAI Gym suite. "
   ]
  },
  {
   "cell_type": "code",
   "execution_count": 6,
   "metadata": {
    "execution": {
     "iopub.execute_input": "2021-09-29T12:18:29.072624Z",
     "iopub.status.busy": "2021-09-29T12:18:29.071999Z",
     "iopub.status.idle": "2021-09-29T12:18:29.079030Z",
     "shell.execute_reply": "2021-09-29T12:18:29.078449Z"
    },
    "id": "pYEz-S9gEv2-"
   },
   "outputs": [],
   "source": [
    "env_name = 'CartPole-v0'\n",
    "env = suite_gym.load(env_name)"
   ]
  },
  {
   "cell_type": "markdown",
   "metadata": {
    "id": "IIHYVBkuvPNw"
   },
   "source": [
    "You can render this environment to see how it looks. A free-swinging pole is attached to a cart.  The goal is to move the cart right or left in order to keep the pole pointing up."
   ]
  },
  {
   "cell_type": "code",
   "execution_count": 7,
   "metadata": {
    "execution": {
     "iopub.execute_input": "2021-09-29T12:18:29.084007Z",
     "iopub.status.busy": "2021-09-29T12:18:29.083346Z",
     "iopub.status.idle": "2021-09-29T12:18:29.656202Z",
     "shell.execute_reply": "2021-09-29T12:18:29.655645Z"
    },
    "id": "RlO7WIQHu_7D"
   },
   "outputs": [
    {
     "data": {
      "text/plain": "<PIL.Image.Image image mode=RGB size=600x400 at 0x7F16844F5B20>",
      "image/png": "[encoded data removed]"
     },
     "execution_count": 7,
     "metadata": {},
     "output_type": "execute_result"
    }
   ],
   "source": [
    "#@test {\"skip\": true}\n",
    "env.reset()\n",
    "PIL.Image.fromarray(env.render())"
   ]
  },
  {
   "cell_type": "markdown",
   "metadata": {
    "id": "B9_lskPOey18"
   },
   "source": [
    "The `environment.step` method takes an `action` in the environment and returns a `TimeStep` tuple containing the next observation of the environment and the reward for the action.\n",
    "\n",
    "The `time_step_spec()` method returns the specification for the `TimeStep` tuple. Its `observation` attribute shows the shape of observations, the data types, and the ranges of allowed values. The `reward` attribute shows the same details for the reward.\n"
   ]
  },
  {
   "cell_type": "code",
   "execution_count": 8,
   "metadata": {
    "execution": {
     "iopub.execute_input": "2021-09-29T12:18:29.666514Z",
     "iopub.status.busy": "2021-09-29T12:18:29.665846Z",
     "iopub.status.idle": "2021-09-29T12:18:29.668705Z",
     "shell.execute_reply": "2021-09-29T12:18:29.668199Z"
    },
    "id": "exDv57iHfwQV"
   },
   "outputs": [
    {
     "name": "stdout",
     "output_type": "stream",
     "text": [
      "Observation Spec:\n",
      "BoundedArraySpec(shape=(4,), dtype=dtype('float32'), name='observation', minimum=[-4.8000002e+00 -3.4028235e+38 -4.1887903e-01 -3.4028235e+38], maximum=[4.8000002e+00 3.4028235e+38 4.1887903e-01 3.4028235e+38])\n"
     ]
    }
   ],
   "source": [
    "print('Observation Spec:')\n",
    "print(env.time_step_spec().observation)"
   ]
  },
  {
   "cell_type": "code",
   "execution_count": 24,
   "metadata": {
    "execution": {
     "iopub.execute_input": "2021-09-29T12:18:29.673630Z",
     "iopub.status.busy": "2021-09-29T12:18:29.672934Z",
     "iopub.status.idle": "2021-09-29T12:18:29.676023Z",
     "shell.execute_reply": "2021-09-29T12:18:29.675527Z"
    },
    "id": "UxiSyCbBUQPi"
   },
   "outputs": [
    {
     "name": "stdout",
     "output_type": "stream",
     "text": [
      "Reward Spec:\n",
      "ArraySpec(shape=(), dtype=dtype('float32'), name='reward')\n"
     ]
    }
   ],
   "source": [
    "print('Reward Spec:')\n",
    "print(env.time_step_spec().reward)"
   ]
  },
  {
   "cell_type": "markdown",
   "metadata": {
    "id": "b_lHcIcqUaqB"
   },
   "source": [
    "The `action_spec()` method returns the shape, data types, and allowed values of valid actions."
   ]
  },
  {
   "cell_type": "code",
   "execution_count": 25,
   "metadata": {
    "execution": {
     "iopub.execute_input": "2021-09-29T12:18:29.680665Z",
     "iopub.status.busy": "2021-09-29T12:18:29.679897Z",
     "iopub.status.idle": "2021-09-29T12:18:29.682489Z",
     "shell.execute_reply": "2021-09-29T12:18:29.682921Z"
    },
    "id": "bttJ4uxZUQBr"
   },
   "outputs": [
    {
     "name": "stdout",
     "output_type": "stream",
     "text": [
      "Action Spec:\n",
      "BoundedArraySpec(shape=(), dtype=dtype('int64'), name='action', minimum=0, maximum=1)\n"
     ]
    }
   ],
   "source": [
    "print('Action Spec:')\n",
    "print(env.action_spec())"
   ]
  },
  {
   "cell_type": "markdown",
   "metadata": {
    "id": "eJCgJnx3g0yY"
   },
   "source": [
    "In the Cartpole environment:\n",
    "\n",
    "-   `observation` is an array of 4 floats: \n",
    "    -   the position and velocity of the cart\n",
    "    -   the angular position and velocity of the pole \n",
    "-   `reward` is a scalar float value\n",
    "-   `action` is a scalar integer with only two possible values:\n",
    "    -   `0` — \"move left\"\n",
    "    -   `1` — \"move right\"\n"
   ]
  },
  {
   "cell_type": "code",
   "execution_count": 9,
   "metadata": {
    "execution": {
     "iopub.execute_input": "2021-09-29T12:18:29.691706Z",
     "iopub.status.busy": "2021-09-29T12:18:29.690994Z",
     "iopub.status.idle": "2021-09-29T12:18:29.693556Z",
     "shell.execute_reply": "2021-09-29T12:18:29.693968Z"
    },
    "id": "V2UGR5t_iZX-"
   },
   "outputs": [
    {
     "name": "stdout",
     "output_type": "stream",
     "text": [
      "Time step:\n",
      "TimeStep(\n",
      "{'discount': array(1., dtype=float32),\n",
      " 'observation': array([-0.04100104, -0.00780416, -0.02356752,  0.00444837], dtype=float32),\n",
      " 'reward': array(0., dtype=float32),\n",
      " 'step_type': array(0, dtype=int32)})\n",
      "Next time step:\n",
      "TimeStep(\n",
      "{'discount': array(1., dtype=float32),\n",
      " 'observation': array([-0.04115712,  0.18764772, -0.02347855, -0.29557624], dtype=float32),\n",
      " 'reward': array(1., dtype=float32),\n",
      " 'step_type': array(1, dtype=int32)})\n"
     ]
    }
   ],
   "source": [
    "time_step = env.reset()\n",
    "print('Time step:')\n",
    "print(time_step)\n",
    "\n",
    "action = np.array(1, dtype=np.int32)\n",
    "\n",
    "next_time_step = env.step(action)\n",
    "print('Next time step:')\n",
    "print(next_time_step)"
   ]
  },
  {
   "cell_type": "markdown",
   "metadata": {
    "id": "4JSc9GviWUBK"
   },
   "source": [
    "Usually two environments are instantiated: one for training and one for evaluation. "
   ]
  },
  {
   "cell_type": "code",
   "execution_count": 27,
   "metadata": {
    "execution": {
     "iopub.execute_input": "2021-09-29T12:18:29.700960Z",
     "iopub.status.busy": "2021-09-29T12:18:29.699585Z",
     "iopub.status.idle": "2021-09-29T12:18:29.702765Z",
     "shell.execute_reply": "2021-09-29T12:18:29.703225Z"
    },
    "id": "N7brXNIGWXjC"
   },
   "outputs": [],
   "source": [
    "train_py_env = suite_gym.load(env_name)\n",
    "eval_py_env = suite_gym.load(env_name)"
   ]
  },
  {
   "cell_type": "markdown",
   "metadata": {
    "id": "zuUqXAVmecTU"
   },
   "source": [
    "The Cartpole environment, like most environments, is written in pure Python. This is converted to TensorFlow using the `TFPyEnvironment` wrapper.\n",
    "\n",
    "The original environment's API uses Numpy arrays. The `TFPyEnvironment` converts these to `Tensors` to make it compatible with Tensorflow agents and policies.\n"
   ]
  },
  {
   "cell_type": "code",
   "execution_count": 28,
   "metadata": {
    "execution": {
     "iopub.execute_input": "2021-09-29T12:18:29.709094Z",
     "iopub.status.busy": "2021-09-29T12:18:29.708120Z",
     "iopub.status.idle": "2021-09-29T12:18:29.714433Z",
     "shell.execute_reply": "2021-09-29T12:18:29.713860Z"
    },
    "id": "Xp-Y4mD6eDhF"
   },
   "outputs": [],
   "source": [
    "train_env = tf_py_environment.TFPyEnvironment(train_py_env)\n",
    "eval_env = tf_py_environment.TFPyEnvironment(eval_py_env)"
   ]
  },
  {
   "cell_type": "markdown",
   "metadata": {
    "id": "E9lW_OZYFR8A"
   },
   "source": [
    "## Agent\n",
    "\n",
    "The algorithm used to solve an RL problem is represented by an `Agent`. TF-Agents provides standard implementations of a variety of `Agents`, including:\n",
    "\n",
    "-   [DQN](https://storage.googleapis.com/deepmind-media/dqn/DQNNaturePaper.pdf) (used in this tutorial)\n",
    "-   [REINFORCE](https://www-anw.cs.umass.edu/~barto/courses/cs687/williams92simple.pdf)\n",
    "-   [DDPG](https://arxiv.org/pdf/1509.02971.pdf)\n",
    "-   [TD3](https://arxiv.org/pdf/1802.09477.pdf)\n",
    "-   [PPO](https://arxiv.org/abs/1707.06347)\n",
    "-   [SAC](https://arxiv.org/abs/1801.01290)\n",
    "\n",
    "The DQN agent can be used in any environment which has a discrete action space.\n",
    "\n",
    "At the heart of a DQN Agent is a `QNetwork`, a neural network model that can learn to predict `QValues` (expected returns) for all actions, given an observation from the environment.\n",
    "\n",
    "We will use `tf_agents.networks.` to create a `QNetwork`. The network will consist of a sequence of `tf.keras.layers.Dense` layers, where the final layer will have 1 output for each possible action."
   ]
  },
  {
   "cell_type": "code",
   "execution_count": 29,
   "metadata": {
    "execution": {
     "iopub.execute_input": "2021-09-29T12:18:29.723529Z",
     "iopub.status.busy": "2021-09-29T12:18:29.721782Z",
     "iopub.status.idle": "2021-09-29T12:18:29.741288Z",
     "shell.execute_reply": "2021-09-29T12:18:29.741683Z"
    },
    "id": "TgkdEPg_muzV"
   },
   "outputs": [],
   "source": [
    "fc_layer_params = (100, 50)\n",
    "action_tensor_spec = tensor_spec.from_spec(env.action_spec())\n",
    "num_actions = action_tensor_spec.maximum - action_tensor_spec.minimum + 1\n",
    "\n",
    "# Define a helper function to create Dense layers configured with the right\n",
    "# activation and kernel initializer.\n",
    "def dense_layer(num_units):\n",
    "  return tf.keras.layers.Dense(\n",
    "      num_units,\n",
    "      activation=tf.keras.activations.relu,\n",
    "      kernel_initializer=tf.keras.initializers.VarianceScaling(\n",
    "          scale=2.0, mode='fan_in', distribution='truncated_normal'))\n",
    "\n",
    "# QNetwork consists of a sequence of Dense layers followed by a dense layer\n",
    "# with `num_actions` units to generate one q_value per available action as\n",
    "# its output.\n",
    "dense_layers = [dense_layer(num_units) for num_units in fc_layer_params]\n",
    "q_values_layer = tf.keras.layers.Dense(\n",
    "    num_actions,\n",
    "    activation=None,\n",
    "    kernel_initializer=tf.keras.initializers.RandomUniform(\n",
    "        minval=-0.03, maxval=0.03),\n",
    "    bias_initializer=tf.keras.initializers.Constant(-0.2))\n",
    "q_net = sequential.Sequential(dense_layers + [q_values_layer])"
   ]
  },
  {
   "cell_type": "markdown",
   "metadata": {
    "id": "z62u55hSmviJ"
   },
   "source": [
    "Now use `tf_agents.agents.dqn.dqn_agent` to instantiate a `DqnAgent`. In addition to the `time_step_spec`, `action_spec` and the QNetwork, the agent constructor also requires an optimizer (in this case, `AdamOptimizer`), a loss function, and an integer step counter."
   ]
  },
  {
   "cell_type": "code",
   "execution_count": 30,
   "metadata": {
    "execution": {
     "iopub.execute_input": "2021-09-29T12:18:31.430740Z",
     "iopub.status.busy": "2021-09-29T12:18:31.126752Z",
     "iopub.status.idle": "2021-09-29T12:18:31.892899Z",
     "shell.execute_reply": "2021-09-29T12:18:31.892316Z"
    },
    "id": "jbY4yrjTEyc9"
   },
   "outputs": [
    {
     "name": "stderr",
     "output_type": "stream",
     "text": [
      "2022-03-03 20:02:41.938405: I tensorflow/stream_executor/cuda/cuda_gpu_executor.cc:936] successful NUMA node read from SysFS had negative value (-1), but there must be at least one NUMA node, so returning NUMA node zero\n",
      "2022-03-03 20:02:41.943922: I tensorflow/stream_executor/cuda/cuda_gpu_executor.cc:936] successful NUMA node read from SysFS had negative value (-1), but there must be at least one NUMA node, so returning NUMA node zero\n",
      "2022-03-03 20:02:41.944539: I tensorflow/stream_executor/cuda/cuda_gpu_executor.cc:936] successful NUMA node read from SysFS had negative value (-1), but there must be at least one NUMA node, so returning NUMA node zero\n",
      "2022-03-03 20:02:41.946182: I tensorflow/core/platform/cpu_feature_guard.cc:151] This TensorFlow binary is optimized with oneAPI Deep Neural Network Library (oneDNN) to use the following CPU instructions in performance-critical operations:  AVX2 FMA\n",
      "To enable them in other operations, rebuild TensorFlow with the appropriate compiler flags.\n",
      "2022-03-03 20:02:41.947412: I tensorflow/stream_executor/cuda/cuda_gpu_executor.cc:936] successful NUMA node read from SysFS had negative value (-1), but there must be at least one NUMA node, so returning NUMA node zero\n",
      "2022-03-03 20:02:41.948137: I tensorflow/stream_executor/cuda/cuda_gpu_executor.cc:936] successful NUMA node read from SysFS had negative value (-1), but there must be at least one NUMA node, so returning NUMA node zero\n",
      "2022-03-03 20:02:41.948954: I tensorflow/stream_executor/cuda/cuda_gpu_executor.cc:936] successful NUMA node read from SysFS had negative value (-1), but there must be at least one NUMA node, so returning NUMA node zero\n",
      "2022-03-03 20:02:42.436897: I tensorflow/stream_executor/cuda/cuda_gpu_executor.cc:936] successful NUMA node read from SysFS had negative value (-1), but there must be at least one NUMA node, so returning NUMA node zero\n",
      "2022-03-03 20:02:42.439300: I tensorflow/stream_executor/cuda/cuda_gpu_executor.cc:936] successful NUMA node read from SysFS had negative value (-1), but there must be at least one NUMA node, so returning NUMA node zero\n",
      "2022-03-03 20:02:42.440438: I tensorflow/stream_executor/cuda/cuda_gpu_executor.cc:936] successful NUMA node read from SysFS had negative value (-1), but there must be at least one NUMA node, so returning NUMA node zero\n",
      "2022-03-03 20:02:42.441030: I tensorflow/core/common_runtime/gpu/gpu_device.cc:1525] Created device /job:localhost/replica:0/task:0/device:GPU:0 with 5472 MB memory:  -> device: 0, name: NVIDIA GeForce RTX 3070 Laptop GPU, pci bus id: 0000:01:00.0, compute capability: 8.6\n",
      "2022-03-03 20:02:43.197530: I tensorflow/stream_executor/cuda/cuda_blas.cc:1786] TensorFloat-32 will be used for the matrix multiplication. This will only be logged once.\n"
     ]
    }
   ],
   "source": [
    "optimizer = tf.keras.optimizers.Adam(learning_rate=learning_rate)\n",
    "\n",
    "train_step_counter = tf.Variable(0)\n",
    "\n",
    "agent = dqn_agent.DqnAgent(\n",
    "    train_env.time_step_spec(),\n",
    "    train_env.action_spec(),\n",
    "    q_network=q_net,\n",
    "    optimizer=optimizer,\n",
    "    td_errors_loss_fn=common.element_wise_squared_loss,\n",
    "    train_step_counter=train_step_counter)\n",
    "\n",
    "agent.initialize()"
   ]
  },
  {
   "cell_type": "markdown",
   "metadata": {
    "id": "I0KLrEPwkn5x"
   },
   "source": [
    "## Policies\n",
    "\n",
    "A policy defines the way an agent acts in an environment. Typically, the goal of reinforcement learning is to train the underlying model until the policy produces the desired outcome.\n",
    "\n",
    "In this tutorial:\n",
    "\n",
    "-   The desired outcome is keeping the pole balanced upright over the cart.\n",
    "-   The policy returns an action (left or right) for each `time_step` observation.\n",
    "\n",
    "Agents contain two policies: \n",
    "\n",
    "-   `agent.policy` — The main policy that is used for evaluation and deployment.\n",
    "-   `agent.collect_policy` — A second policy that is used for data collection.\n"
   ]
  },
  {
   "cell_type": "code",
   "execution_count": 31,
   "metadata": {
    "execution": {
     "iopub.execute_input": "2021-09-29T12:18:31.897610Z",
     "iopub.status.busy": "2021-09-29T12:18:31.896972Z",
     "iopub.status.idle": "2021-09-29T12:18:31.899396Z",
     "shell.execute_reply": "2021-09-29T12:18:31.898941Z"
    },
    "id": "BwY7StuMkuV4"
   },
   "outputs": [],
   "source": [
    "eval_policy = agent.policy\n",
    "collect_policy = agent.collect_policy"
   ]
  },
  {
   "cell_type": "markdown",
   "metadata": {
    "id": "2Qs1Fl3dV0ae"
   },
   "source": [
    "Policies can be created independently of agents. For example, use `tf_agents.policies.random_tf_policy` to create a policy which will randomly select an action for each `time_step`."
   ]
  },
  {
   "cell_type": "code",
   "execution_count": 32,
   "metadata": {
    "execution": {
     "iopub.execute_input": "2021-09-29T12:18:31.904090Z",
     "iopub.status.busy": "2021-09-29T12:18:31.903426Z",
     "iopub.status.idle": "2021-09-29T12:18:31.905901Z",
     "shell.execute_reply": "2021-09-29T12:18:31.905428Z"
    },
    "id": "HE37-UCIrE69"
   },
   "outputs": [],
   "source": [
    "random_policy = random_tf_policy.RandomTFPolicy(train_env.time_step_spec(),\n",
    "                                                train_env.action_spec())"
   ]
  },
  {
   "cell_type": "markdown",
   "metadata": {
    "id": "dOlnlRRsUbxP"
   },
   "source": [
    "To get an action from a policy, call the `policy.action(time_step)` method. The `time_step` contains the observation from the environment. This method returns a `PolicyStep`, which is a named tuple with three components:\n",
    "\n",
    "-   `action` — the action to be taken (in this case, `0` or `1`)\n",
    "-   `state` — used for stateful (that is, RNN-based) policies\n",
    "-   `info` — auxiliary data, such as log probabilities of actions"
   ]
  },
  {
   "cell_type": "code",
   "execution_count": 33,
   "metadata": {
    "execution": {
     "iopub.execute_input": "2021-09-29T12:18:31.912250Z",
     "iopub.status.busy": "2021-09-29T12:18:31.911622Z",
     "iopub.status.idle": "2021-09-29T12:18:31.915308Z",
     "shell.execute_reply": "2021-09-29T12:18:31.914860Z"
    },
    "id": "5gCcpXswVAxk"
   },
   "outputs": [],
   "source": [
    "example_environment = tf_py_environment.TFPyEnvironment(\n",
    "    suite_gym.load('CartPole-v0'))"
   ]
  },
  {
   "cell_type": "code",
   "execution_count": 34,
   "metadata": {
    "execution": {
     "iopub.execute_input": "2021-09-29T12:18:31.920437Z",
     "iopub.status.busy": "2021-09-29T12:18:31.919763Z",
     "iopub.status.idle": "2021-09-29T12:18:31.922888Z",
     "shell.execute_reply": "2021-09-29T12:18:31.922412Z"
    },
    "id": "D4DHZtq3Ndis"
   },
   "outputs": [],
   "source": [
    "time_step = example_environment.reset()"
   ]
  },
  {
   "cell_type": "code",
   "execution_count": 35,
   "metadata": {
    "execution": {
     "iopub.execute_input": "2021-09-29T12:18:31.927772Z",
     "iopub.status.busy": "2021-09-29T12:18:31.926565Z",
     "iopub.status.idle": "2021-09-29T12:18:31.933402Z",
     "shell.execute_reply": "2021-09-29T12:18:31.932954Z"
    },
    "id": "PRFqAUzpNaAW"
   },
   "outputs": [
    {
     "data": {
      "text/plain": "PolicyStep(action=<tf.Tensor: shape=(1,), dtype=int64, numpy=array([1])>, state=(), info=())"
     },
     "execution_count": 35,
     "metadata": {},
     "output_type": "execute_result"
    }
   ],
   "source": [
    "random_policy.action(time_step)"
   ]
  },
  {
   "cell_type": "markdown",
   "metadata": {
    "id": "94rCXQtbUbXv"
   },
   "source": [
    "## Metrics and Evaluation\n",
    "\n",
    "The most common metric used to evaluate a policy is the average return. The return is the sum of rewards obtained while running a policy in an environment for an episode. Several episodes are run, creating an average return.\n",
    "\n",
    "The following function computes the average return of a policy, given the policy, environment, and a number of episodes.\n"
   ]
  },
  {
   "cell_type": "code",
   "execution_count": 36,
   "metadata": {
    "execution": {
     "iopub.execute_input": "2021-09-29T12:18:31.938973Z",
     "iopub.status.busy": "2021-09-29T12:18:31.938317Z",
     "iopub.status.idle": "2021-09-29T12:18:31.940967Z",
     "shell.execute_reply": "2021-09-29T12:18:31.940505Z"
    },
    "id": "bitzHo5_UbXy"
   },
   "outputs": [],
   "source": [
    "#@test {\"skip\": true}\n",
    "def compute_avg_return(environment, policy, num_episodes=10):\n",
    "\n",
    "  total_return = 0.0\n",
    "  for _ in range(num_episodes):\n",
    "\n",
    "    time_step = environment.reset()\n",
    "    episode_return = 0.0\n",
    "\n",
    "    while not time_step.is_last():\n",
    "      action_step = policy.action(time_step)\n",
    "      time_step = environment.step(action_step.action)\n",
    "      episode_return += time_step.reward\n",
    "    total_return += episode_return\n",
    "\n",
    "  avg_return = total_return / num_episodes\n",
    "  return avg_return.numpy()[0]\n",
    "\n",
    "\n",
    "# See also the metrics module for standard implementations of different metrics.\n",
    "# https://github.com/tensorflow/agents/tree/master/tf_agents/metrics"
   ]
  },
  {
   "cell_type": "markdown",
   "metadata": {
    "id": "_snCVvq5Z8lJ"
   },
   "source": [
    "Running this computation on the `random_policy` shows a baseline performance in the environment."
   ]
  },
  {
   "cell_type": "code",
   "execution_count": 37,
   "metadata": {
    "execution": {
     "iopub.execute_input": "2021-09-29T12:18:31.946328Z",
     "iopub.status.busy": "2021-09-29T12:18:31.945713Z",
     "iopub.status.idle": "2021-09-29T12:18:32.524300Z",
     "shell.execute_reply": "2021-09-29T12:18:32.524733Z"
    },
    "id": "9bgU6Q6BZ8Bp"
   },
   "outputs": [
    {
     "data": {
      "text/plain": "25.0"
     },
     "execution_count": 37,
     "metadata": {},
     "output_type": "execute_result"
    }
   ],
   "source": [
    "compute_avg_return(eval_env, random_policy, num_eval_episodes)"
   ]
  },
  {
   "cell_type": "markdown",
   "metadata": {
    "id": "NLva6g2jdWgr"
   },
   "source": [
    "## Replay Buffer\n",
    "\n",
    "In order to keep track of the data collected from the environment, we will use [Reverb](https://deepmind.com/research/open-source/Reverb), an efficient, extensible, and easy-to-use replay system by Deepmind. It stores experience data when we collect trajectories and is consumed during training.\n",
    "\n",
    "This replay buffer is constructed using specs describing the tensors that are to be stored, which can be obtained from the agent using agent.collect_data_spec.\n"
   ]
  },
  {
   "cell_type": "code",
   "execution_count": 38,
   "metadata": {
    "execution": {
     "iopub.execute_input": "2021-09-29T12:18:32.534098Z",
     "iopub.status.busy": "2021-09-29T12:18:32.533425Z",
     "iopub.status.idle": "2021-09-29T12:18:32.592073Z",
     "shell.execute_reply": "2021-09-29T12:18:32.591585Z"
    },
    "id": "vX2zGUWJGWAl"
   },
   "outputs": [
    {
     "name": "stderr",
     "output_type": "stream",
     "text": [
      "[reverb/cc/platform/tfrecord_checkpointer.cc:150]  Initializing TFRecordCheckpointer in /tmp/tmpvq3z_n0q.\n",
      "[reverb/cc/platform/tfrecord_checkpointer.cc:386] Loading latest checkpoint from /tmp/tmpvq3z_n0q\n",
      "[reverb/cc/platform/default/server.cc:71] Started replay server on port 15646\n"
     ]
    }
   ],
   "source": [
    "table_name = 'uniform_table'\n",
    "replay_buffer_signature = tensor_spec.from_spec(\n",
    "      agent.collect_data_spec)\n",
    "replay_buffer_signature = tensor_spec.add_outer_dim(\n",
    "    replay_buffer_signature)\n",
    "\n",
    "table = reverb.Table(\n",
    "    table_name,\n",
    "    max_size=replay_buffer_max_length,\n",
    "    sampler=reverb.selectors.Uniform(),\n",
    "    remover=reverb.selectors.Fifo(),\n",
    "    rate_limiter=reverb.rate_limiters.MinSize(1),\n",
    "    signature=replay_buffer_signature)\n",
    "\n",
    "reverb_server = reverb.Server([table])\n",
    "\n",
    "replay_buffer = reverb_replay_buffer.ReverbReplayBuffer(\n",
    "    agent.collect_data_spec,\n",
    "    table_name=table_name,\n",
    "    sequence_length=2,\n",
    "    local_server=reverb_server)\n",
    "\n",
    "rb_observer = reverb_utils.ReverbAddTrajectoryObserver(\n",
    "  replay_buffer.py_client,\n",
    "  table_name,\n",
    "  sequence_length=2)"
   ]
  },
  {
   "cell_type": "markdown",
   "metadata": {
    "id": "ZGNTDJpZs4NN"
   },
   "source": [
    "For most agents, `collect_data_spec` is a named tuple called `Trajectory`, containing the specs for observations, actions, rewards, and other items."
   ]
  },
  {
   "cell_type": "code",
   "execution_count": 39,
   "metadata": {
    "execution": {
     "iopub.execute_input": "2021-09-29T12:18:32.599179Z",
     "iopub.status.busy": "2021-09-29T12:18:32.598443Z",
     "iopub.status.idle": "2021-09-29T12:18:32.602124Z",
     "shell.execute_reply": "2021-09-29T12:18:32.601537Z"
    },
    "id": "_IZ-3HcqgE1z"
   },
   "outputs": [
    {
     "data": {
      "text/plain": "Trajectory(\n{'action': BoundedTensorSpec(shape=(), dtype=tf.int64, name='action', minimum=array(0), maximum=array(1)),\n 'discount': BoundedTensorSpec(shape=(), dtype=tf.float32, name='discount', minimum=array(0., dtype=float32), maximum=array(1., dtype=float32)),\n 'next_step_type': TensorSpec(shape=(), dtype=tf.int32, name='step_type'),\n 'observation': BoundedTensorSpec(shape=(4,), dtype=tf.float32, name='observation', minimum=array([-4.8000002e+00, -3.4028235e+38, -4.1887903e-01, -3.4028235e+38],\n      dtype=float32), maximum=array([4.8000002e+00, 3.4028235e+38, 4.1887903e-01, 3.4028235e+38],\n      dtype=float32)),\n 'policy_info': (),\n 'reward': TensorSpec(shape=(), dtype=tf.float32, name='reward'),\n 'step_type': TensorSpec(shape=(), dtype=tf.int32, name='step_type')})"
     },
     "execution_count": 39,
     "metadata": {},
     "output_type": "execute_result"
    }
   ],
   "source": [
    "agent.collect_data_spec"
   ]
  },
  {
   "cell_type": "code",
   "execution_count": 40,
   "metadata": {
    "execution": {
     "iopub.execute_input": "2021-09-29T12:18:32.606800Z",
     "iopub.status.busy": "2021-09-29T12:18:32.606124Z",
     "iopub.status.idle": "2021-09-29T12:18:32.609584Z",
     "shell.execute_reply": "2021-09-29T12:18:32.609122Z"
    },
    "id": "sy6g1tGcfRlw"
   },
   "outputs": [
    {
     "data": {
      "text/plain": "('step_type',\n 'observation',\n 'action',\n 'policy_info',\n 'next_step_type',\n 'reward',\n 'discount')"
     },
     "execution_count": 40,
     "metadata": {},
     "output_type": "execute_result"
    }
   ],
   "source": [
    "agent.collect_data_spec._fields"
   ]
  },
  {
   "cell_type": "markdown",
   "metadata": {
    "id": "rVD5nQ9ZGo8_"
   },
   "source": [
    "## Data Collection\n",
    "\n",
    "Now execute the random policy in the environment for a few steps, recording the data in the replay buffer.\n",
    "\n",
    "Here we are using 'PyDriver' to run the experience collecting loop. You can learn more about TF Agents driver in our [drivers tutorial](https://www.tensorflow.org/agents/tutorials/4_drivers_tutorial)."
   ]
  },
  {
   "cell_type": "code",
   "execution_count": 41,
   "metadata": {
    "execution": {
     "iopub.execute_input": "2021-09-29T12:18:32.620962Z",
     "iopub.status.busy": "2021-09-29T12:18:32.620324Z",
     "iopub.status.idle": "2021-09-29T12:18:32.846174Z",
     "shell.execute_reply": "2021-09-29T12:18:32.846597Z"
    },
    "id": "wr1KSAEGG4h9"
   },
   "outputs": [
    {
     "data": {
      "text/plain": "(TimeStep(\n {'discount': array(1., dtype=float32),\n  'observation': array([-0.00451507, -0.410921  ,  0.08905949,  0.71526873], dtype=float32),\n  'reward': array(1., dtype=float32),\n  'step_type': array(1, dtype=int32)}),\n ())"
     },
     "execution_count": 41,
     "metadata": {},
     "output_type": "execute_result"
    }
   ],
   "source": [
    "#@test {\"skip\": true}\n",
    "py_driver.PyDriver(\n",
    "    env,\n",
    "    py_tf_eager_policy.PyTFEagerPolicy(\n",
    "      random_policy, use_tf_function=True),\n",
    "    [rb_observer],\n",
    "    max_steps=initial_collect_steps).run(train_py_env.reset())"
   ]
  },
  {
   "cell_type": "markdown",
   "metadata": {
    "id": "84z5pQJdoKxo"
   },
   "source": [
    "The replay buffer is now a collection of Trajectories."
   ]
  },
  {
   "cell_type": "code",
   "execution_count": 42,
   "metadata": {
    "execution": {
     "iopub.execute_input": "2021-09-29T12:18:32.851051Z",
     "iopub.status.busy": "2021-09-29T12:18:32.850261Z",
     "iopub.status.idle": "2021-09-29T12:18:32.852779Z",
     "shell.execute_reply": "2021-09-29T12:18:32.852288Z"
    },
    "id": "4wZnLu2ViO4E"
   },
   "outputs": [],
   "source": [
    "# For the curious:\n",
    "# Uncomment to peel one of these off and inspect it.\n",
    "# iter(replay_buffer.as_dataset()).next()"
   ]
  },
  {
   "cell_type": "markdown",
   "metadata": {
    "id": "TujU-PMUsKjS"
   },
   "source": [
    "The agent needs access to the replay buffer. This is provided by creating an iterable `tf.data.Dataset` pipeline which will feed data to the agent.\n",
    "\n",
    "Each row of the replay buffer only stores a single observation step. But since the DQN Agent needs both the current and next observation to compute the loss, the dataset pipeline will sample two adjacent rows for each item in the batch (`num_steps=2`).\n",
    "\n",
    "This dataset is also optimized by running parallel calls and prefetching data."
   ]
  },
  {
   "cell_type": "code",
   "execution_count": 43,
   "metadata": {
    "execution": {
     "iopub.execute_input": "2021-09-29T12:18:32.886246Z",
     "iopub.status.busy": "2021-09-29T12:18:32.870593Z",
     "iopub.status.idle": "2021-09-29T12:18:33.193567Z",
     "shell.execute_reply": "2021-09-29T12:18:33.193043Z"
    },
    "id": "ba7bilizt_qW"
   },
   "outputs": [
    {
     "data": {
      "text/plain": "<PrefetchDataset element_spec=(Trajectory(\n{'action': TensorSpec(shape=(64, 2), dtype=tf.int64, name=None),\n 'discount': TensorSpec(shape=(64, 2), dtype=tf.float32, name=None),\n 'next_step_type': TensorSpec(shape=(64, 2), dtype=tf.int32, name=None),\n 'observation': TensorSpec(shape=(64, 2, 4), dtype=tf.float32, name=None),\n 'policy_info': (),\n 'reward': TensorSpec(shape=(64, 2), dtype=tf.float32, name=None),\n 'step_type': TensorSpec(shape=(64, 2), dtype=tf.int32, name=None)}), SampleInfo(key=TensorSpec(shape=(64, 2), dtype=tf.uint64, name=None), probability=TensorSpec(shape=(64, 2), dtype=tf.float64, name=None), table_size=TensorSpec(shape=(64, 2), dtype=tf.int64, name=None), priority=TensorSpec(shape=(64, 2), dtype=tf.float64, name=None)))>"
     },
     "execution_count": 43,
     "metadata": {},
     "output_type": "execute_result"
    }
   ],
   "source": [
    "# Dataset generates trajectories with shape [Bx2x...]\n",
    "dataset = replay_buffer.as_dataset(\n",
    "    num_parallel_calls=3,\n",
    "    sample_batch_size=batch_size,\n",
    "    num_steps=2).prefetch(3)\n",
    "\n",
    "dataset"
   ]
  },
  {
   "cell_type": "code",
   "execution_count": 44,
   "metadata": {
    "execution": {
     "iopub.execute_input": "2021-09-29T12:18:33.198233Z",
     "iopub.status.busy": "2021-09-29T12:18:33.197570Z",
     "iopub.status.idle": "2021-09-29T12:18:33.250249Z",
     "shell.execute_reply": "2021-09-29T12:18:33.249705Z"
    },
    "id": "K13AST-2ppOq"
   },
   "outputs": [
    {
     "name": "stdout",
     "output_type": "stream",
     "text": [
      "<tensorflow.python.data.ops.iterator_ops.OwnedIterator object at 0x7f4154338ee0>\n"
     ]
    }
   ],
   "source": [
    "iterator = iter(dataset)\n",
    "print(iterator)"
   ]
  },
  {
   "cell_type": "code",
   "execution_count": null,
   "metadata": {
    "execution": {
     "iopub.execute_input": "2021-09-29T12:18:33.254566Z",
     "iopub.status.busy": "2021-09-29T12:18:33.253844Z",
     "iopub.status.idle": "2021-09-29T12:18:33.255982Z",
     "shell.execute_reply": "2021-09-29T12:18:33.256368Z"
    },
    "id": "Th5w5Sff0b16"
   },
   "outputs": [],
   "source": [
    "# For the curious:\n",
    "# Uncomment to see what the dataset iterator is feeding to the agent.\n",
    "# Compare this representation of replay data \n",
    "# to the collection of individual trajectories shown earlier.\n",
    "\n",
    "# iterator.next()"
   ]
  },
  {
   "cell_type": "markdown",
   "metadata": {
    "id": "hBc9lj9VWWtZ"
   },
   "source": [
    "## Training the agent\n",
    "\n",
    "Two things must happen during the training loop:\n",
    "\n",
    "-   collect data from the environment\n",
    "-   use that data to train the agent's neural network(s)\n",
    "\n",
    "This example also periodicially evaluates the policy and prints the current score.\n",
    "\n",
    "The following will take ~5 minutes to run."
   ]
  },
  {
   "cell_type": "code",
   "execution_count": 45,
   "metadata": {
    "execution": {
     "iopub.execute_input": "2021-09-29T12:18:33.268155Z",
     "iopub.status.busy": "2021-09-29T12:18:33.266196Z",
     "iopub.status.idle": "2021-09-29T12:23:32.202553Z",
     "shell.execute_reply": "2021-09-29T12:23:32.201984Z"
    },
    "id": "0pTbJ3PeyF-u"
   },
   "outputs": [
    {
     "name": "stdout",
     "output_type": "stream",
     "text": [
      "WARNING:tensorflow:From /home/niklasz/Desktop/ucla/deep_learning/project/deep-battleships/venv/lib/python3.9/site-packages/tensorflow/python/util/dispatch.py:1082: calling foldr_v2 (from tensorflow.python.ops.functional_ops) with back_prop=False is deprecated and will be removed in a future version.\n",
      "Instructions for updating:\n",
      "back_prop=False is deprecated. Consider using tf.stop_gradient instead.\n",
      "Instead of:\n",
      "results = tf.foldr(fn, elems, back_prop=False)\n",
      "Use:\n",
      "results = tf.nest.map_structure(tf.stop_gradient, tf.foldr(fn, elems))\n"
     ]
    },
    {
     "name": "stderr",
     "output_type": "stream",
     "text": [
      "[reverb/cc/client.cc:165] Sampler and server are owned by the same process (2452105) so Table uniform_table is accessed directly without gRPC.\n",
      "[reverb/cc/client.cc:165] Sampler and server are owned by the same process (2452105) so Table uniform_table is accessed directly without gRPC.\n",
      "[reverb/cc/client.cc:165] Sampler and server are owned by the same process (2452105) so Table uniform_table is accessed directly without gRPC.\n",
      "[reverb/cc/client.cc:165] Sampler and server are owned by the same process (2452105) so Table uniform_table is accessed directly without gRPC.\n",
      "[reverb/cc/client.cc:165] Sampler and server are owned by the same process (2452105) so Table uniform_table is accessed directly without gRPC.\n",
      "[reverb/cc/client.cc:165] Sampler and server are owned by the same process (2452105) so Table uniform_table is accessed directly without gRPC.\n"
     ]
    },
    {
     "name": "stdout",
     "output_type": "stream",
     "text": [
      "step = 200: loss = 24.188520431518555\n",
      "step = 400: loss = 1.1001536846160889\n",
      "step = 600: loss = 80.42359161376953\n",
      "step = 800: loss = 75.71825408935547\n",
      "step = 1000: loss = 200.14447021484375\n",
      "step = 1000: Average Return = 28.200000762939453\n",
      "step = 1200: loss = 131.8896942138672\n",
      "step = 1400: loss = 122.6336898803711\n",
      "step = 1600: loss = 206.6536865234375\n",
      "step = 1800: loss = 567.48779296875\n",
      "step = 2000: loss = 342.2762145996094\n",
      "step = 2000: Average Return = 197.39999389648438\n",
      "step = 2200: loss = 400.1651306152344\n",
      "step = 2400: loss = 405.6228332519531\n",
      "step = 2600: loss = 1639.522216796875\n",
      "step = 2800: loss = 295.06695556640625\n",
      "step = 3000: loss = 18217.23828125\n",
      "step = 3000: Average Return = 200.0\n",
      "step = 3200: loss = 6714.98876953125\n",
      "step = 3400: loss = 3680.599853515625\n",
      "step = 3600: loss = 11605.21875\n",
      "step = 3800: loss = 19317.5859375\n",
      "step = 4000: loss = 46867.625\n",
      "step = 4000: Average Return = 200.0\n",
      "step = 4200: loss = 1492.765380859375\n",
      "step = 4400: loss = 34142.48828125\n",
      "step = 4600: loss = 12831.03515625\n",
      "step = 4800: loss = 23329.373046875\n",
      "step = 5000: loss = 48420.484375\n",
      "step = 5000: Average Return = 200.0\n",
      "step = 5200: loss = 1232.4161376953125\n",
      "step = 5400: loss = 889.822021484375\n",
      "step = 5600: loss = 14731.63671875\n",
      "step = 5800: loss = 1401.6812744140625\n",
      "step = 6000: loss = 1593.377685546875\n",
      "step = 6000: Average Return = 196.8000030517578\n",
      "step = 6200: loss = 2291.65478515625\n",
      "step = 6400: loss = 3796.70458984375\n",
      "step = 6600: loss = 94346.0703125\n",
      "step = 6800: loss = 2235.765625\n",
      "step = 7000: loss = 1360.586669921875\n",
      "step = 7000: Average Return = 185.3000030517578\n",
      "step = 7200: loss = 1164.2789306640625\n",
      "step = 7400: loss = 17168.068359375\n",
      "step = 7600: loss = 8592.470703125\n",
      "step = 7800: loss = 1210.6219482421875\n",
      "step = 8000: loss = 2243.664306640625\n",
      "step = 8000: Average Return = 175.5\n",
      "step = 8200: loss = 3025.6103515625\n",
      "step = 8400: loss = 1768.10400390625\n",
      "step = 8600: loss = 9672.7158203125\n",
      "step = 8800: loss = 1124.4334716796875\n",
      "step = 9000: loss = 2044.620361328125\n",
      "step = 9000: Average Return = 155.89999389648438\n",
      "step = 9200: loss = 934.5042724609375\n",
      "step = 9400: loss = 1389.241455078125\n",
      "step = 9600: loss = 15199.0185546875\n",
      "step = 9800: loss = 927.52783203125\n",
      "step = 10000: loss = 1586.6011962890625\n",
      "step = 10000: Average Return = 200.0\n",
      "step = 10200: loss = 1232.2442626953125\n",
      "step = 10400: loss = 560.6265869140625\n",
      "step = 10600: loss = 196.20370483398438\n",
      "step = 10800: loss = 398.3277587890625\n",
      "step = 11000: loss = 512.4403686523438\n",
      "step = 11000: Average Return = 200.0\n",
      "step = 11200: loss = 281.8359375\n",
      "step = 11400: loss = 430.08746337890625\n",
      "step = 11600: loss = 135.45777893066406\n",
      "step = 11800: loss = 212.76907348632812\n",
      "step = 12000: loss = 176.66876220703125\n",
      "step = 12000: Average Return = 200.0\n",
      "step = 12200: loss = 212.12156677246094\n",
      "step = 12400: loss = 385.1201171875\n",
      "step = 12600: loss = 105.6014404296875\n",
      "step = 12800: loss = 235.53675842285156\n",
      "step = 13000: loss = 164.00570678710938\n",
      "step = 13000: Average Return = 199.6999969482422\n",
      "step = 13200: loss = 165.5445556640625\n",
      "step = 13400: loss = 175.44168090820312\n",
      "step = 13600: loss = 223.59326171875\n",
      "step = 13800: loss = 164.90695190429688\n",
      "step = 14000: loss = 480.305908203125\n",
      "step = 14000: Average Return = 200.0\n",
      "step = 14200: loss = 272.8131103515625\n",
      "step = 14400: loss = 479.8082580566406\n",
      "step = 14600: loss = 405.61737060546875\n",
      "step = 14800: loss = 604.258544921875\n",
      "step = 15000: loss = 2625.720703125\n",
      "step = 15000: Average Return = 200.0\n",
      "step = 15200: loss = 1030.9058837890625\n",
      "step = 15400: loss = 1418.6419677734375\n",
      "step = 15600: loss = 1201.9266357421875\n",
      "step = 15800: loss = 49189.22265625\n",
      "step = 16000: loss = 69908.90625\n",
      "step = 16000: Average Return = 200.0\n",
      "step = 16200: loss = 47830.88671875\n",
      "step = 16400: loss = 2393.17431640625\n",
      "step = 16600: loss = 5228.453125\n",
      "step = 16800: loss = 7984.7822265625\n",
      "step = 17000: loss = 3683.208251953125\n",
      "step = 17000: Average Return = 200.0\n",
      "step = 17200: loss = 1849.310302734375\n",
      "step = 17400: loss = 3914.0107421875\n",
      "step = 17600: loss = 1484.18603515625\n",
      "step = 17800: loss = 4255.3525390625\n",
      "step = 18000: loss = 705.82421875\n",
      "step = 18000: Average Return = 200.0\n",
      "step = 18200: loss = 3970.981689453125\n",
      "step = 18400: loss = 1668.206787109375\n",
      "step = 18600: loss = 1866.468994140625\n",
      "step = 18800: loss = 1789.526611328125\n",
      "step = 19000: loss = 2495.4951171875\n",
      "step = 19000: Average Return = 200.0\n",
      "step = 19200: loss = 1201.539794921875\n",
      "step = 19400: loss = 1200.6612548828125\n",
      "step = 19600: loss = 2591.311767578125\n",
      "step = 19800: loss = 1939.4102783203125\n",
      "step = 20000: loss = 2059.09228515625\n",
      "step = 20000: Average Return = 200.0\n"
     ]
    }
   ],
   "source": [
    "#@test {\"skip\": true}\n",
    "try:\n",
    "  %%time\n",
    "except:\n",
    "  pass\n",
    "\n",
    "# (Optional) Optimize by wrapping some of the code in a graph using TF function.\n",
    "agent.train = common.function(agent.train)\n",
    "\n",
    "# Reset the train step.\n",
    "agent.train_step_counter.assign(0)\n",
    "\n",
    "# Evaluate the agent's policy once before training.\n",
    "avg_return = compute_avg_return(eval_env, agent.policy, num_eval_episodes)\n",
    "returns = [avg_return]\n",
    "\n",
    "# Reset the environment.\n",
    "time_step = train_py_env.reset()\n",
    "\n",
    "# Create a driver to collect experience.\n",
    "collect_driver = py_driver.PyDriver(\n",
    "    env,\n",
    "    py_tf_eager_policy.PyTFEagerPolicy(\n",
    "      agent.collect_policy, use_tf_function=True),\n",
    "    [rb_observer],\n",
    "    max_steps=collect_steps_per_iteration)\n",
    "\n",
    "for _ in range(num_iterations):\n",
    "\n",
    "  # Collect a few steps and save to the replay buffer.\n",
    "  time_step, _ = collect_driver.run(time_step)\n",
    "\n",
    "  # Sample a batch of data from the buffer and update the agent's network.\n",
    "  experience, unused_info = next(iterator)\n",
    "  train_loss = agent.train(experience).loss\n",
    "\n",
    "  step = agent.train_step_counter.numpy()\n",
    "\n",
    "  if step % log_interval == 0:\n",
    "    print('step = {0}: loss = {1}'.format(step, train_loss))\n",
    "\n",
    "  if step % eval_interval == 0:\n",
    "    avg_return = compute_avg_return(eval_env, agent.policy, num_eval_episodes)\n",
    "    print('step = {0}: Average Return = {1}'.format(step, avg_return))\n",
    "    returns.append(avg_return)"
   ]
  },
  {
   "cell_type": "markdown",
   "metadata": {
    "id": "68jNcA_TiJDq"
   },
   "source": [
    "## Visualization\n"
   ]
  },
  {
   "cell_type": "markdown",
   "metadata": {
    "id": "aO-LWCdbbOIC"
   },
   "source": [
    "### Plots\n",
    "\n",
    "Use `matplotlib.pyplot` to chart how the policy improved during training.\n",
    "\n",
    "One iteration of `Cartpole-v0` consists of 200 time steps. The environment gives a reward of `+1` for each step the pole stays up, so the maximum return for one episode is 200. The charts shows the return increasing towards that maximum each time it is evaluated during training. (It may be a little unstable and not increase monotonically each time.)"
   ]
  },
  {
   "cell_type": "code",
   "execution_count": 46,
   "metadata": {
    "execution": {
     "iopub.execute_input": "2021-09-29T12:23:32.231411Z",
     "iopub.status.busy": "2021-09-29T12:23:32.220717Z",
     "iopub.status.idle": "2021-09-29T12:23:32.428018Z",
     "shell.execute_reply": "2021-09-29T12:23:32.427468Z"
    },
    "id": "NxtL1mbOYCVO"
   },
   "outputs": [
    {
     "data": {
      "text/plain": "(-0.2349997997283939, 250.0)"
     },
     "execution_count": 46,
     "metadata": {},
     "output_type": "execute_result"
    },
    {
     "data": {
      "text/plain": "<Figure size 432x288 with 1 Axes>",
      "image/png": "[encoded data removed]"
     },
     "metadata": {
      "needs_background": "light"
     },
     "output_type": "display_data"
    }
   ],
   "source": [
    "#@test {\"skip\": true}\n",
    "\n",
    "iterations = range(0, num_iterations + 1, eval_interval)\n",
    "plt.plot(iterations, returns)\n",
    "plt.ylabel('Average Return')\n",
    "plt.xlabel('Iterations')\n",
    "plt.ylim(top=250)"
   ]
  },
  {
   "cell_type": "markdown",
   "metadata": {
    "id": "M7-XpPP99Cy7"
   },
   "source": [
    "### Videos"
   ]
  },
  {
   "cell_type": "markdown",
   "metadata": {
    "id": "9pGfGxSH32gn"
   },
   "source": [
    "Charts are nice. But more exciting is seeing an agent actually performing a task in an environment. \n",
    "\n",
    "First, create a function to embed videos in the notebook."
   ]
  },
  {
   "cell_type": "code",
   "execution_count": 47,
   "metadata": {
    "execution": {
     "iopub.execute_input": "2021-09-29T12:23:32.434701Z",
     "iopub.status.busy": "2021-09-29T12:23:32.433890Z",
     "iopub.status.idle": "2021-09-29T12:23:32.436117Z",
     "shell.execute_reply": "2021-09-29T12:23:32.436506Z"
    },
    "id": "ULaGr8pvOKbl"
   },
   "outputs": [],
   "source": [
    "def embed_mp4(filename):\n",
    "  \"\"\"Embeds an mp4 file in the notebook.\"\"\"\n",
    "  video = open(filename,'rb').read()\n",
    "  b64 = base64.b64encode(video)\n",
    "  tag = '''\n",
    "  <video width=\"640\" height=\"480\" controls>\n",
    "    <source src=\"data:video/mp4;base64,{0}\" type=\"video/mp4\">\n",
    "  Your browser does not support the video tag.\n",
    "  </video>'''.format(b64.decode())\n",
    "\n",
    "  return IPython.display.HTML(tag)"
   ]
  },
  {
   "cell_type": "markdown",
   "metadata": {
    "id": "9c_PH-pX4Pr5"
   },
   "source": [
    "Now iterate through a few episodes of the Cartpole game with the agent. The underlying Python environment (the one \"inside\" the TensorFlow environment wrapper) provides a `render()` method, which outputs an image of the environment state. These can be collected into a video."
   ]
  },
  {
   "cell_type": "code",
   "execution_count": 48,
   "metadata": {
    "execution": {
     "iopub.execute_input": "2021-09-29T12:23:32.443717Z",
     "iopub.status.busy": "2021-09-29T12:23:32.443004Z",
     "iopub.status.idle": "2021-09-29T12:23:47.319237Z",
     "shell.execute_reply": "2021-09-29T12:23:47.319732Z"
    },
    "id": "owOVWB158NlF"
   },
   "outputs": [
    {
     "name": "stderr",
     "output_type": "stream",
     "text": [
      "WARNING:root:IMAGEIO FFMPEG_WRITER WARNING: input image is not divisible by macro_block_size=16, resizing from (400, 600) to (400, 608) to ensure video compatibility with most codecs and players. To prevent resizing, make your input image divisible by the macro_block_size or set the macro_block_size to None (risking incompatibility). You may also see a FFMPEG warning concerning speedloss due to data not being aligned.\n",
      "[swscaler @ 0x5587a0177d80] Warning: data is not aligned! This can lead to a speed loss\n"
     ]
    },
    {
     "data": {
      "text/plain": "<IPython.core.display.HTML object>",
      "text/html": "\n  <video width=\"640\" height=\"480\" controls>\n    <source src=\"data:video/mp4;base64,AAAAIGZ0eXBpc29tAAACAGlzb21pc28yYXZjMW1wNDEAAAAIZnJlZQAAnKJtZGF0AAACrwYF//+r3EXpvebZSLeWLNgg2SPu73gyNjQgLSBjb3JlIDE1NSByMjkxNyAwYTg0ZDk4IC0gSC4yNjQvTVBFRy00IEFWQyBjb2RlYyAtIENvcHlsZWZ0IDIwMDMtMjAxOCAtIGh0dHA6Ly93d3cudmlkZW9sYW4ub3JnL3gyNjQuaHRtbCAtIG9wdGlvbnM6IGNhYmFjPTEgcmVmPTMgZGVibG9jaz0xOjA6MCBhbmFseXNlPTB4MzoweDExMyBtZT1oZXggc3VibWU9NyBwc3k9MSBwc3lfcmQ9MS4wMDowLjAwIG1peGVkX3JlZj0xIG1lX3JhbmdlPTE2IGNocm9tYV9tZT0xIHRyZWxsaXM9MSA4eDhkY3Q9MSBjcW09MCBkZWFkem9uZT0yMSwxMSBmYXN0X3Bza2lwPTEgY2hyb21hX3FwX29mZnNldD0tMiB0aHJlYWRzPTEyIGxvb2thaGVhZF90aHJlYWRzPTIgc2xpY2VkX3RocmVhZHM9MCBucj0wIGRlY2ltYXRlPTEgaW50ZXJsYWNlZD0wIGJsdXJheV9jb21wYXQ9MCBjb25zdHJhaW5lZF9pbnRyYT0wIGJmcmFtZXM9MyBiX3B5cmFtaWQ9MiBiX2FkYXB0PTEgYl9iaWFzPTAgZGlyZWN0PTEgd2VpZ2h0Yj0xIG9wZW5fZ29wPTAgd2VpZ2h0cD0yIGtleWludD0yNTAga2V5aW50X21pbj0yNSBzY2VuZWN1dD00MCBpbnRyYV9yZWZyZXNoPTAgcmNfbG9va2FoZWFkPTQwIHJjPWNyZiBtYnRyZWU9MSBjcmY9MjUuMCBxY29tcD0wLjYwIHFwbWluPTAgcXBtYXg9NjkgcXBzdGVwPTQgaXBfcmF0aW89MS40MCBhcT0xOjEuMDAAgAAAAgxliIQAL//+9bF8CmrJ84oM6DIu4Zckya62IuJtAMAAJUAAAAMAAEsmUJbMgHJl3QAAAwBMgA4ofQZQeYiYqxUCVEg4trEeAEv6ePB7tFvdwxgk5Rs6qfifDpcbNpC0QsbushzADnyvFzBM22rubntBglip50xKD+7zk3e0nDYuigwOfp9SIj2MQiOD/pweaSi4hVhwdui3wUBUwy/rR8C8MhZg1r1AtpusZdbAYZleInm3MJRBj5gbR1JF+i/gNPpj6EO7p5dquS9A3drqP1YSttrSZWebMTQw3eqsEfSidh9G/j4ICRM53wNax1TiKi9N/4PmU0BJ8ztv4u0TNQ26U3YIaMDwB4ww/IwaHCcxiHzM4VRHGEvfIhKDcj53DJQ3yiyrk717u0tNY8U5rhswMJ48AfM9OyOUZb4MewrYhSXRvWQY9qfQi63JMRFUHfNLRv5NUWklJZ/pIOc7j4Yg4Tn5dBgmIj1JgPHxODm73dFRLfg9NctUDR8W4euV3lJnDu6LT8bhoiEq/HYB1sxUUjPorPKo5XYbBSlSgSx876SUsth975Ogvqnvnb9PYbpq6zQtPRpvls29BqsESb5ufg04N3qOd6AAgxnkwkSBUFZtMsnh6qPGvqspUJzCEP6vn/QsvN8fMuU1w32m1AmHyo5cPtP7tayAMu/iw/Bxp7UiWgAAAwAAAwABIwAAAGVBmiRsQv/98QAAAwKfh1S8NF/TzZ/gCgP5AagcqKX4VdVGmJcbOC/Bzps2yAiSKZ4P/vIuN9ixBMOvX5nVh0Ksz5s/2UhpCEB+QSH09BfCEyaEJSdH4OhXeFdYA8N4Kl/47aDXEAAAABxBnkJ4hX8AABYuYW9fRFda6xvJp3weWd2SFQG/AAAAEgGeYXRCfwAAAwC1i3+qPIMUEAAAABwBnmNqQn8AACK/H4w3uq91g78Et+rDxm0/cjuhAAAAW0GaaEmoQWiZTAhX//3hAAAEFFxuBa1NF6v6Uus/KC7weayga+Z+OIMjPeHiGs7ZwMf2H3bxMdyW02/ztFBVSCR1aC8oaGMk6mJ66LRI9JaHyrabQ6uTJ/BFU30AAAAjQZ6GRREsK/8AAAMDNa9J8v5yApPeifi2o1z1egQlyT3HGtsAAAAQAZ6ldEJ/AAADAAI66pS2UQAAABwBnqdqQn8AAAUfMJZ7iS0zVwrPehoCg1VkZiz4AAAAMEGarEmoQWyZTAhf//3xAAADAp8Cntq6e8iH/PpLxADYhIZQrSSR+wTvH81qb/2xVQAAACpBnspFFSwr/wAAFrUrKeJGEZeRtT/uy/kGIQVunuPZ/VM1V7bC0uWQKbMAAAAuAZ7pdEJ/AAAjwxdoqaQj2OACt58qgugB1ppjBulvFPQd5hZBRmJQzh77PiA7cAAAAB0BnutqQn8AAAUfNNWxViOdb+enGCTY8FIwPMGf4AAAADpBmvBJqEFsmUwIZ//+OEAAAA554H7fPFsUJC7IzC1nQelu14AliV4t0xXg/hhZX+tbEMLXpG4hyBOBAAAAK0GfDkUVLCv/AAADAw9xW2HbaqdxiHv2UFADcOzsUblf6uvWoNH3g4I7/58AAAASAZ8tdEJ/AAADAENYfJkJ4NmBAAAAHAGfL2pCfwAAAwHmf9VJfxNx1fZ3FebZ8f0nmzAAAAArQZs0SahBbJlMCF///fEAAAMAI6a+i2Ql+Gu9+DSG8HZ6z59OG99vMcNLjQAAACJBn1JFFSwr/wAAAwMPcVth22qvcFSRRJpzkDCQ9/KGD2OXAAAAEAGfcXRCfwAAAwAJKw8UrYAAAAAcAZ9zakJ/AAADAeZ/1Ul/E3HV9ncV5tnx/SebMAAAACZBm3hJqEFsmUwIZ//+OEAAAA554H7TyghcXYs8VPJV4AO5XbCF8QAAACJBn5ZFFSwr/wAAAwMPcVth22qvcFSRRJpzkDCQ9/KGD2OWAAAAEAGftXRCfwAAAwAJKw8UrYEAAAAcAZ+3akJ/AAADAeZ/1Ul/E3HV9ncV5tnx/SebMQAAAC9Bm7xJqEFsmUwIV//94QAAAwA4hcGvVxR9DISkz+p4AYp8il/IhQ+mNRD+KWiF8AAAACFBn9pFFSwr/wAAAwMPcVsfMsgrBE6svvtCd653KLMvhOEAAAAbAZ/5dEJ/AAADAeaxsJSpRO4NuBIB+DGQki2YAAAAEAGf+2pCfwAAAwAJL8b2a0EAAABZQZvgSahBbJlMCF///fEAAAMCnwLw4PvVIjcEluLKTUbfjQ1Cr1Za7D/r3s3omKIqQVGB2l41mkOc3E0xMe7kHdVrwcOyUkFSL0EdEkWaK4DdKGQUw3WZ3NUAAAAqQZ4eRRUsK/8AABa1KzdrWv86l8atyXkm0YPm+08ANczKFXiscu+DcaA8AAAAGAGePXRCfwAAI8MXaKmlU9T7xoX90JSKGAAAABsBnj9qQn8AAAT7NNXe24hqgkgb6PDoJHCRk5MAAAA6QZokSahBbJlMCG///oywAAAZ51QQAsEkGFcJRh8rBImMLnvIlFNsqzgbT2o0u+P17kVA+w6tgYEkkAAAACBBnkJFFSwr/wAAAwMkUICoY+ioOn57T6xiFx086gRvQQAAABsBnmF0Qn8AAAMB27ImURyFBfWKogO39Brx85IAAAAOAZ5jakJ/AAADAAADAakAAAAbQZpoSahBbJlMCG///oywAAAJj8TnW66DQCRhAAAAI0GehkUVLCv/AAADAyV80rt8HT5YnRx/ttyBAeMCT8xqPnCtAAAAGgGepXRCfwAABPvQwhhtcR6bnr15LR5mlhIDAAAAGgGep2pCfwAABPk+YbdkZ20XCcm+/tu1akmAAAAAF0GarEmoQWyZTAhv//6MsAAAAwAAAwNCAAAAEEGeykUVLCv/AAADAAADAQcAAAAOAZ7pdEJ/AAADAAADAakAAAAOAZ7rakJ/AAADAAADAakAAAAXQZrwSahBbJlMCG///oywAAADAAADA0MAAAAQQZ8ORRUsK/8AAAMAAAMBBwAAAA4Bny10Qn8AAAMAAAMBqQAAACABny9qQn8AAAUbYc5vJap+VVGeGmNkIiGi3WW99rrbgAAAABdBmzRJqEFsmUwIb//+jLAAAAMAAAMDQgAAABBBn1JFFSwr/wAAAwAAAwEHAAAADgGfcXRCfwAAAwAAAwGpAAAADgGfc2pCfwAAAwAAAwGpAAAAF0GbeEmoQWyZTAhv//6MsAAAAwAAAwNDAAAAEEGflkUVLCv/AAADAAADAQcAAAAOAZ+1dEJ/AAADAAADAakAAAAmAZ+3akJ/AAAFG2HObyWqflVRnhc8GwvQAfYDxJJ7QLG6GFw5g4EAAABFQZu8SahBbJlMCG///oywAAAKBC7pslN/BSdQAOx3BgUhPIRQg6zIL+wasrCw5ktAlNtZqBIU+cmLOVAF9QVMxv9aEjcwAAAAHkGf2kUVLCv/AAADAzkxzZhUjbCR3FVsu3x8nRR4MQAAAA4Bn/l0Qn8AAAMAAAMBqQAAABsBn/tqQn8AAAUfNNWxkwvP68AVDV/NkEWw7cEAAAAnQZvgSahBbJlMCGf//jhAAAAmp+ySiZ9oujQUiyJyQ3CABmpHAc7hAAAAHUGeHkUVLCv/AAADAzhTMmdAUAEyMY6UqVqpRLbgAAAAGgGePXRCfwAAAwHmsbCUqUTuDbgSXwY9FvwYAAAAEAGeP2pCfwAAAwHmf+KAZ8EAAAA4QZokSahBbJlMCF///fEAAAMAXz/CSio10xIv7dM/65XmGcSE13Hhk8JEAQFuCk62A9l7MVNSyzAAAAA0QZ5CRRUsK/8AABazK7UFuUFoAS2sCdaocWvWvGBaNGJ1dpkHcjr76B/GrHXfuqjYgMkJUQAAABgBnmF0Qn8AACPDF2ippVOBIW+kWgp9BLwAAAAeAZ5jakJ/AAAjvwQnEslpmrhr7cJBQijOxnP4oWtnAAAAMEGaaEmoQWyZTAhf//3xAAADAp/Jl39QHN7DtoREYoNFH2hINghCkJqA2wIa5TvlwQAAACNBnoZFFSwr/wAAFrxDzbcWA4Q0kHNOXCGbSNp0wpl/prQduQAAABoBnqV0Qn8AAAMB5rGwlKlE7g24El8GPRb8GQAAABgBnqdqQn8AACO/BCcSyWmauFZVFs7xUvAAAAA6QZqsSahBbJlMCF///fEAAAMADXx2CZAG8FoQkGAUmrgq41LF0l+Caz8YLIHITsFEINV6nNJ7TFcGsAAAACJBnspFFSwr/wAAFsCbP2H9icZi7FFlfLUFRiqNNvMs22eDAAAAHAGe6XRCfwAAI8MXaKmlU9T7wgmOsBgt1uuwQEAAAAAYAZ7rakJ/AAAjvwQnEslpmrhWUyM0i/O6AAAAIkGa8EmoQWyZTAhX//3hAAAEFNVT/UrUxHT9dxkgZnkg6ccAAAAmQZ8ORRUsK/8AABa8Q823FcysmVSf/Lk4sERTyK/R9PlNNAJjNs0AAAAdAZ8tdEJ/AAAE6hHH5jNi2V8sI9FjUPspBlws0k0AAAAdAZ8vakJ/AAAjvwQnEslpmrhWUx8qO34vrY0EkmAAAAA/QZs0SahBbJlMCF///fEAAAMCn8hpADlVtLD+v1SBEiFFHb0kQBOB26e/Np0Lrw3zzKrLtZyiu136Yiiu+biwAAAAJEGfUkUVLCv/AAAWtSs3a1lmiLkBaqxXoXF5x6QLr5dzO3wgIQAAABcBn3F0Qn8AACPDF2ippVPU+8aF6VyNmAAAABsBn3NqQn8AAAT7NNXe24hqgkgb6PDoJHCRk5IAAAAyQZt4SahBbJlMCGf//jhAAAAlp+xJo9T2o/SzXph0smcoA+TIVQ3VxeBoKLoIsCAvgl8AAAAiQZ+WRRUsK/8AABa+o53+XUrFGzKdBO63EzIXF2Unlg7bgAAAAB8Bn7V0Qn8AACPDF2ippcMOtYMF5GGKYtIXCtkDoWzBAAAAGAGft2pCfwAAI78EJxLJaZq4VmspNCem4QAAACtBm7xJqEFsmUwIX//98QAAAwAimbNBUcDsmuClYz8h4cLhmZLxokEeYzL4AAAAHkGf2kUVLCv/AAADAS3lC29NRkS7BHBPVLXzC4aQEQAAAA4Bn/l0Qn8AAAMAAAMBqQAAABwBn/tqQn8AAAMB24AS+OBpuK11QpcJO2ZW4OSBAAAALUGb4EmoQWyZTAhn//44QAAADiHgmaVspbnqybQ6GlyiATaAGUKCqZkzzC0MvwAAABxBnh5FFSwr/wAAAwEtgZaZQuoO/sSN9Qcte3ICAAAAGwGePXRCfwAAAwHainhOgJGJKHNFeXq6gubEBAAAAA4Bnj9qQn8AAAMAAAMBqQAAAC9BmiRJqEFsmUwIX//98QAAAwAimbNBUcDsmuClYz8h4cLhmZL2UEAw7FB/OUzL4AAAAB5BnkJFFSwr/wAAAwEt5QtvTUZEuwRwT1S18wuGkBEAAAAOAZ5hdEJ/AAADAAADAakAAAAcAZ5jakJ/AAADAduAEvjgabitdUKXCTtmVuDkgQAAACdBmmhJqEFsmUwIZ//+OEAAAA4h4JmlbKW56sm0OhpcogAVmlYSbMEAAAAdQZ6GRRUsK/8AAAMBLYGWmULqDv7EjfUHLW7B4ZUAAAArAZ6ldEJ/AAAE+uMR+4OYubv5SDPMfN6qLHwAW0c7CQb8a8Wanr66/k87bwAAAA4BnqdqQn8AAAMAAAMBqQAAAC9BmqxJqEFsmUwIX//98QAAAwAimbNBUcDsmuClYz8h4dwAAbhLr6XJFIy/5ymZfAAAAB9BnspFFSwr/wAAAwEt5QtvTUZEuwRwT1S18wsbA6nxAAAADgGe6XRCfwAAAwAAAwGpAAAAHAGe62pCfwAAAwHbgBL44Gm4rXVClwk7Zlbg5IAAAAAsQZrwSahBbJlMCG///oywAAADA6SPmAAbBsPQcpB0yfH8uDPkOtMBSNtc4X0AAAAcQZ8ORRUsK/8AAAMBLYGWmULqDv7EjfUHLXtyAwAAABsBny10Qn8AAAT64xH7g5i5u/lHWsoSEZpc5IEAAAAOAZ8vakJ/AAADAAADAakAAAAXQZs0SahBbJlMCG///oywAAADAAADA0IAAAAQQZ9SRRUsK/8AAAMAAAMBBwAAAA4Bn3F0Qn8AAAMAAAMBqQAAAA4Bn3NqQn8AAAMAAAMBqQAAABdBm3hJqEFsmUwIb//+jLAAAAMAAAMDQwAAABBBn5ZFFSwr/wAAAwAAAwEHAAAADgGftXRCfwAAAwAAAwGpAAAADgGft2pCfwAAAwAAAwGpAAAAF0GbvEmoQWyZTAhv//6MsAAAAwAAAwNCAAAALkGf2kUVLCv/AAADAzdw+fSDGtIJAAlqUYFr2+S4jYQZESw98P4OQgW7+xeSY7cAAAAZAZ/5dEJ/AAAFH9DBzxq47mziEiU+LHd+DAAAAB0Bn/tqQn8AAAUfNIYT+aOYbSbSAi3S3u3cAjwSoQAAABdBm+BJqEFsmUwIb//+jLAAAAMAAAMDQwAAABBBnh5FFSwr/wAAAwAAAwEHAAAADgGePXRCfwAAAwAAAwGpAAAADgGeP2pCfwAAAwAAAwGpAAAAF0GaJEmoQWyZTAhv//6MsAAAAwAAAwNCAAAAEEGeQkUVLCv/AAADAAADAQcAAAAOAZ5hdEJ/AAADAAADAakAAAAiAZ5jakJ/AAAFG2HObyWqfk/yFrsMaFQiHZ3tb7hpheK7bwAAAENBmmhJqEFsmUwIb//+jLAAAAoELumyU38UdrawxEAHGQSQBTBXVOvhvygtZM02spuNzSs+9SZFjj2k3QKAmpNyxmNTAAAAHUGehkUVLCv/AAADAzkxzZhbBk5L5eFrIn5D7UO3AAAADgGepXRCfwAAAwAAAwGpAAAAGwGep2pCfwAABR801bGdPKk8K9T6HnrAxDs7ZgAAAC1BmqxJqEFsmUwIb//+jLAAAAoH2Z7qCnjMsTgr1X3FkfdTxsgC/a+mJvqK0iMAAAAcQZ7KRRUsK/8AAAMDOFMKsVl3k7PzoCsW8zhbcQAAAB0Bnul0Qn8AAAUf0FdByaYahkEjO3U6r4UvdNwCowAAAB4BnutqQn8AAAUbYhDzBMfsew9gtt9C1MV7mvdKjtwAAAA2QZrwSahBbJlMCG///oywAAAKBC72D8kxW8FsaG6il4PF4BmJJVOqQA7Gjn7DygEUCyROzshfAAAAHUGfDkUVLCv/AAADAzkxzZhbBk5L5eFrIn5D7UO3AAAADgGfLXRCfwAAAwAAAwGpAAAAGgGfL2pCfwAABR801bGsommnzBCPCgT5xXbcAAAALEGbNEmoQWyZTAhv//6MsAAACgfZnuoKsXc71FESbCJhaFEpr4ZydW7gcRuAAAAAHEGfUkUVLCv/AAADAzhTCrFZd5Oz86ArFvM4W3EAAAAaAZ9xdEJ/AAAFH9DB8S0W9Tbv2tydYOvQgIAAAAAcAZ9zakJ/AAAFG2IUF2CgO2YpWsyqZpfyWbz2zAAAACtBm3hJqEFsmUwIb//+jLAAAAoELu1L2WaOwBfOGJ9U0rW84ZjMl4Cf4mOBAAAAKEGflkUVLCv/AAAWsyu1Bbkcrc5tjoc48btWd2NNrx4nBEUovBWoVKgAAAAZAZ+1dEJ/AAAjwxdoqaVT1Pua6Ydv4HTD1wAAACEBn7dqQn8AACOxzAlv8HrB2YxvvIP/ceH+wAPkNeRcckEAAAAqQZu8SahBbJlMCG///oywAAAKCGmGulWOLwqo0tI9CH9Qn5ClcnPoppMcAAAAHEGf2kUVLCv/AAADAzhTCrFZd5Oz86ArFvM4W3EAAAAaAZ/5dEJ/AAAFH9DB8S0W9Tbv2tydYOvQgIAAAAAmAZ/7akJ/AAAFG2IUF2CgO2YpEM4oYAATdOKxbxtwtXVUQ/C0GDEAAAArQZvgSahBbJlMCG///oywAAAKBC7tS9lmjsAXzhifVNK1vOGYzJeAn+JjgQAAAC5Bnh5FFSwr/wAAFrMrtQXDigBJcsGZiWNvbmpRwSivPsWF5gi6aAQ5vm+umyJUAAAAGAGePXRCfwAAI8MXaKmlU9T7iyRvenaj1gAAAB4Bnj9qQn8AACO/BCcSyWmauQ8uvNnN/6UdF7EXiVEAAAAoQZokSahBbJlMCGf//jhAAAAmqid/zaZ/MU5fExvpRU3OAB91+NJjgAAAABxBnkJFFSwr/wAAAwM4UwqxWXeTs/OgKxbzOFtxAAAAGgGeYXRCfwAABR/QwfEtFvU279rcnWDr0ICAAAAADgGeY2pCfwAAAwAAAwGpAAAAK0GaaEmoQWyZTAhf//3xAAADAF8/wVv04+sOS1vKddQIF3eD6gF0saNPO4EAAAAuQZ6GRRUsK/8AABazK7UFw4oASXLBmYljb25qUcEorz7FheYIumgEOb5vrpsiVQAAABgBnqV0Qn8AACPDF2ippVPU+4skb3p2o9cAAAAeAZ6nakJ/AAAjvwQnEslpmrkPLrzZzf+lHReyGlUqAAAAQ0GarEmoQWyZTAhf//3xAAADAp/MaATeRMyAOFpofQo/uWGik4qHjwTpdAPu+SZ47hH244WpuX/4zNvGZjPkE6qa9xYAAAAkQZ7KRRUsK/8AABa8Q823FgOEVfdra8TPOnlIN8JF55l19STBAAAAGwGe6XRCfwAABR/QwhQQf1CIVzdbmGL6xNKowAAAABcBnutqQn8AACO/BCcSyWmauFZVFuaCXgAAAENBmvBJqEFsmUwIZ//+OEAAAQ0+/IKyCeQBCtF+XS44KEoDknLs0rezc9XPwSbVLN1p2kZuSqTH7xnwYnKGzxfGdcWBAAAAHUGfDkUVLCv/AAAWtSs3a1peuKKDwjCwOdzHmoclAAAAHAGfLXRCfwAAI8MXaKmlU9UMmxAzOcD4+m0V9UcAAAAOAZ8vakJ/AAADAAADAakAAAAXQZs0SahBbJlMCF///fEAAAMAAAMAHpAAAAAjQZ9SRRUsK/8AABa+o53+XUrFGzoEdcSQUIahqMG1WbPBkmEAAAAcAZ9xdEJ/AAAjwxdoqaVT1PvCCY6wGC3W67BAQAAAAB8Bn3NqQn8AACO/BB/+JqMZyNQmXLcnjg9jEqSibUSoAAAAQ0GbeEmoQWyZTAhv//6MsAAARlzymHqNpjVxXkA/kotlj9u3AEPPwbHk6pOrPK6lVnM2IvDY4w3+YjxNyzm7KKhprFEAAAAfQZ+WRRUsK/8AABa8Q823FcysmUk+B0KKy4ee/9RyTAAAAA4Bn7V0Qn8AAAMAAAMBqQAAAB0Bn7dqQn8AACO/BCcSyWmauFZTHyo7fi+tjQSSYQAAABlBm7xJqEFsmUwIZ//+OEAAAAMAyIspJhCwAAAAE0Gf2kUVLCv/AAADABBiZDCA7oEAAAAlAZ/5dEJ/AAAE6hHH5jMpELBNwyMEQOO3xobYEfDcyOKPSiSbZgAAAA4Bn/tqQn8AAAMAAAMBqQAAABdBm+BJqEFsmUwIX//98QAAAwAAAwAekQAAAEBBnh5FFSwr/wAAFrNHSC15p1BVLZxVpW0z4DcANsd7f+Z7uhoEaHFS3/Hk1ece6dKQINn/QBt2DSdf4JeLL+DAAAAAHQGePXRCfwAAI8MXaKmlU9T7wgokrycAiLEpotswAAAAIAGeP2pCfwAAI78EJxLJaZdTXnvLUcq7uBLKBIU/qcknAAAARkGaJEmoQWyZTAhX//3hAAAEFN0gD5oDjBt/XlSYnX45sc8h473LTWgETl16VPlPFjy0c6CxBcdtIzu86RasuJoQmnb6pXMAAAAiQZ5CRRUsK/8AABa8Q823FcysmUlChS7MW68AB0Jqu2vBgQAAACcBnmF0Qn8AAATqEcfmMykQsE3DIwRA47fG6ERk90wyTMut1DlituAAAAAfAZ5jakJ/AAAjvwQf/iajGcjT5GITwPv3MfDI9iLZgQAAADxBmmhJqEFsmUwIV//94QAABBTU/vlsey8IAvVhINMcS1/aR0b4ZYN4PkagtrxMURHGRJvsQBCwDP8BL5cAAAApQZ6GRRUsK/8AABa1KzdrWWaIuQFjKRBN93uSAe9i1jY6MjBaqVsHtmEAAAAYAZ6ldEJ/AAAjwxdShFBkpE9BOalIO9kDAAAAGwGep2pCfwAABPs01d7biGqCSBvo8OgkcJGTkgAAAIFBmqxJqEFsmUwIX//98QAAAwKe9vdAFES/UOmxzVPBxshsNIvi4PcBh0gRP2BQD2Je+HQoUAwcA59cm8XgCxnSwJELpmu8RA7y1lHItcgHOXZxxtB9wAyTQ5mEmOCe6eXQ2FleCD4cacfzE34oOe/fskwQ7tukauz/FapBUz8eCMAAAAA7QZ7KRRUsK/8AABazK7UF3lAl/O5BWICoGu8mxotktURzn9gIAONrEvtxxNnggbo+9cWD9sCiYaY0JsEAAAAdAZ7pdEJ/AAAjq/hbeBKdaCOIEZ65GgPdf/WAOSAAAAAzAZ7rakJ/AAAjscwJb6lw89MyHNVZBu3OptLHRqXdSPH0QVAAuBX6DQy0KRB3JGdklwTYAAAAWEGa8EmoQWyZTAhX//3hAAADAZPyhuJ8M7HOl3bv0QmeQb8Ar3ATgJ5I0jG/z8b0gKBd3RLYhnupFlGh9/Ed9awlttbDUZGgcqsCJBs5pOK9uw8R465rvzsAAAAiQZ8ORRUsK/8AAAhsAPeaWuIWqA+kZyJZpFM/H9fSAIQygQAAABwBny10Qn8AAA1+EvDNQ8VarqWGLrKQcRaByufBAAAADgGfL2pCfwAAAwAAAwGpAAAASUGbNEmoQWyZTAhf//3xAAADAp8FHTZLECCyc6FeSAIhaQ0B1B0AXDMWtdytbvtJrmkRO3CU5q/GcfdHQeubpzflXPMolVdC+i4AAAAtQZ9SRRUsK/8AABa1KzdrXJqgBuWjA8yP0dJTImUsmlxExwWLIfgv3pqQayDhAAAAGgGfcXRCfwAAI6v4W3gSnYefTY1GCcfmCM58AAAAKwGfc2pCfwAABR81vGD1LsFFkBil6pInxNYYAJxeFvZKz7JXuNKha5FMsmAAAABNQZt4SahBbJlMCGf//jhAAAAlqaGEeboyLpB+goAWMZxiTvMXMZOX6MZoKceP+98dqrSO1JlevnGi+T4Vw8eCk0VcMVYyY/S4JBtlMPEAAAAdQZ+WRRUsK/8AAAMDJFPo4//UHuBy9TKmcY83/wYAAAAbAZ+1dEJ/AAAE+FzhOgJGJNSEgqR6A9BK4ngxAAAADgGft2pCfwAAAwAAAwGpAAAAF0GbvEmoQWyZTAhf//3xAAADAAADAB6QAAAAEEGf2kUVLCv/AAADAAADAQcAAAAOAZ/5dEJ/AAADAAADAakAAAAOAZ/7akJ/AAADAAADAakAAABXQZvgSahBbJlMCG///oywAAAaD+WNADchCthyAhjScHlaeNcPwGDSaetrnWYihM9JqZJk1n9Bkox5QCAvB3EGM4TjYa+Bp8+K+0Pm7hptw5hiMmvYVlh9AAAAHEGeHkUVLCv/AAAILAoeReQJ0zwj2QkjxlpqIckAAAAbAZ49dEJ/AAANLhLzJc3zwUEb8wxWHtrDoLJMAAAADgGeP2pCfwAAAwAAAwGpAAAAF0GaJEmoQWyZTAhv//6MsAAAAwAAAwNCAAAAEEGeQkUVLCv/AAADAAADAQcAAAAOAZ5hdEJ/AAADAAADAakAAAAOAZ5jakJ/AAADAAADAakAAABcQZpoSahBbJlMCGf//jhAAAAmmnFQBcOI13BIrdQk5ESlXYbscbzoItsU9sCWaQwDpKCA2ZabTA5DOiwMLyquA6qU6mnCUwnk47G3R8LruW0srRjuRL3GYsfcXYEAAAAdQZ6GRRUsK/8AAAMDOFLklq/3EmrBNNg2+Aq2ZbcAAAAaAZ6ldEJ/AAAFHFt5kk93KSSHx9716xgZ2zEAAAAOAZ6nakJ/AAADAAADAakAAAAjQZqsSahBbJlMCF///fEAAAMAAEM/4QBpO3n2RhPr8F4ezvwAAAASQZ7KRRUsK/8AAAMBNin5ABnxAAAADgGe6XRCfwAAAwAAAwGpAAAADgGe62pCfwAAAwAAAwGpAAAAREGa8EmoQWyZTAhX//3hAAAEE3hD766RkzULfviGCwiq6HR4BME0+py6wQu3a3zwQ0S+YsCsl7LXpz8G1ghGgNvem92BAAAAR0GfDkUVLCv/AAAWvEPNikgjAxj+EADjSZQeoG/vHwupwQv3RDMy8CAfz0YgkMTqiC27wpzOGLZEVVjco4JoyUnnqw0CNdbdAAAAHQGfLXRCfwAABPhc4ToCRiShQhmX10HsACjjci25AAAAHwGfL2pCfwAAI7HMCcFkSHLOPaUV+luBcwAHENnqo7cAAAA+QZs0SahBbJlMCFf//eEAAAMAlpgvjzFYi3+C/qh+j/Fq2danLASjV+ATXTRjotnYEX/XN5DVCRnYPU1DPa8AAAAiQZ9SRRUsK/8AABbAmz9pVigwr+DGX+u71RQQ4GlFGzL4MQAAABoBn3F0Qn8AACOr+Ft4IAI9HGObLyAft3QLZgAAABkBn3NqQn8AACOxzAnBZF6y7kNWRTNpiOWAAAAAQEGbeEmoQWyZTAhX//3hAAAEFNZseglAntClFxcTbSk7JksKI7ptnoBU0ASONqLzWRr7015lCkch8YrpVy5a8sEAAAAxQZ+WRRUsK/8AABa1KzdrcCipsvocofY2AZZx75RuoANhZ8m8eggg95awO6GxMJrbgAAAAB8Bn7V0Qn8AACOr+Ft4Ep3cRXukIHke0iTQOLgtslBBAAAAGQGft2pCfwAAAwHg8cEeA4fwfs2CSP0Mc+EAAAAmQZu5SahBbJlMCE///IQAAA/Zxj7Sp/8UHTy3wnoFWRc8PtUA9IAAAAH/ZYiCAA///vbw/gU2O5jQlxHN6J0zH78VuLo0N73OAAADAAADAAAI0IvBbWOwLYz4AAAFqADkB4hihgCJirFQJXkDwWj5SBjBO2snpjyVmwE/RhJoiJBBk/9qHkQ1Yyzxp+EaOzJ65KZuFV4hMZORHBe8iANHA6gnfSZmXMI0W4ISwdt4+lNYrFut+b/NIqAplxGWaD63N0WCF0I7tKOug1+X/csZEeUsysUtNgNcCTtfB3iYsgb4iTLeTdZLd28OqLzeuuCpBr6kV8CIBU22o/2VKAPfhjW1gm6abiSuHsj6PMxsQykX2+021FvMv5uy+SJshM3IadX9vQhxzh2cIzv366QEKmZ7gJpt3esuCWmzxzcbyhFVVGFxIDeDs7+dRQQfEJaMXUdOUcy9YJqm1TPJTgGU+HtG29DetSeU344H8e1HNn0/jmvxcw6TeG77Qjf/VrcTC0cP/XMvpyRRVoRC43i6HmOpdONUFFsI6DPsSmdDh6n3off86Wqt8ln34VBHr8mQ22E2bGJ5rnTXS7cyW9iOVXmXPCYlyKZHdC95D9918oTwl9Fx7mftJkpbIdmjbDACM6bQnbBFH7qOUHGoPNiboVsjyL53K+tYfFT5o5YuQMd8yeL/jIw+NNIIIJDeTHHJXxAliWNOv4yN39fb5u8OAAADAAADAACAgQAAABFBmiRsQv/98QAAAwAAAwAekAAAACZBnkJ4hX8AAAMActmj0hz1hwoVKXfINX0wZFG92BpD+6Cq5OfZgQAAACwBnmF0Qn8AACPAmd3pXpFh3h5SIZCK/i0AKvCnxkTtHmBqOEwVjFx5rJVigQAAABkBnmNqQn8AAAMAuiYBw3KDlYBO1n4EN/BgAAAAO0GaaEmoQWiZTAhn//44QAAAJt03wAFzpaiIXpDV0SKcRnxw6Zp8d+3oH4Rd319pM4u3NGfiK1ZWn6bMAAAAHkGehkURLCv/AAADAzkxzZhUjbCR3FVsu3x8nRR4MQAAAA4BnqV0Qn8AAAMAAAMBqQAAABkBnqdqQn8AAAUdPmDgbdvxPxEZ+Si0cx25AAAAHEGarEmoQWyZTAhf//3xAAADAAA/vu5DKwT7NuAAAAA0QZ7KRRUsK/8AAAMDInFTfML1xAAHG1iX3f5ViqMN50sB1CBe395/gjLo9AJlHnl2lbtswQAAAB0Bnul0Qn8AAAT4W3nsCzzqNnH/vqdon6sIN184ZQAAABoBnutqQn8AAAT5PmG3ZGdtFwnJvv7bsqzhWQAAAEBBmvBJqEFsmUwIb//+jLAAAEYC93nNGonW2Ou8dxVxFeEJXJ2m9r20wTSj3czXI6APtMRNP2T4HnM1GK4JmAKpAAAAJkGfDkUVLCv/AAAWtSs3a2EpIWyKdCxgRrgcukVQz6nsIAZ+e+DAAAAAGAGfLXRCfwAAI6v4W3gSnWgfU2lrUfUKSAAAABkBny9qQn8AAAUdPmDiZa3ZshV3Wk11L2zBAAAAIEGbNEmoQWyZTAhn//44QAAAAwAackpHmFzn4t9BkhgQAAAAEEGfUkUVLCv/AAADAAADAQcAAAAOAZ9xdEJ/AAADAAADAakAAAAOAZ9zakJ/AAADAAADAakAAAAuQZt4SahBbJlMCFf//eEAAAMANx+STvMxtt/QLpWoDEj9mmnqCh4ob1tDXzZn2QAAACNBn5ZFFSwr/wAAAwMjrkZbmyfoFEbRo18yAnrBeQeI7UTkgAAAABsBn7V0Qn8AAAT4W3nsOhqtUIjlc6Hms4OLVswAAAAPAZ+3akJ/AAAE+zUKAKCBAAAAKkGbvEmoQWyZTAhn//44QAABDPrd+K6Nq5rFENqdgAOmx/D7PgDFtPX7MAAAABtBn9pFFSwr/wAAFrUrN2taXqo0YiWsa9MxoTgAAAApAZ/5dEJ/AAAjq/hbeBQLXzrfViYYQJX4ABdDVVVAPlwwJ1Zy8hf7tmEAAAAOAZ/7akJ/AAADAAADAakAAABTQZvgSahBbJlMCF///fEAAAMADXaBOvK99EoHZGrOFpo6qyRo2Q9ZgGXr8Rbjrx99hOnemcoSRQ/IIhZQ7w/a1tPja8zkOSinDtW9K1e8kEvWdlkAAAAhQZ4eRRUsK/8AAAMBLioFG9PENI61oMRKMDweLjmbITyhAAAADgGePXRCfwAAAwAAAwGpAAAAHQGeP2pCfwAABPfdazazPwDSwSmJbpCnEHYehNc/AAAAP0GaJEmoQWyZTAhf//3xAAADAp8FKhMaBQzgXS5CQO5+mf4XbBeRNFtSVzF/p8enbLEDaa6sz3Ap50P9SHCbMAAAACRBnkJFFSwr/wAAFrxDzbcVzYIM3GO0vi3dVTyaTaTBjjetDKEAAAAkAZ5hdEJ/AAADAdXxwlpCjxE8EEoUJkY7BTbD39JpqIv9G7DvAAAAHwGeY2pCfwAAI7HMCW+pb3cJ9G66Yx/+ioIU6zm2p8AAAABBQZpoSahBbJlMCG///oywAAAKB7CiAAGywvdjaBDlJaqHmRckvH5xwkRkxl6HMNhOuhRB+lzlHIkMZNXeUu7B5kAAAAAfQZ6GRRUsK/8AAAMDOFMKsOF+dEtgLqHqaWbhy74TgQAAABsBnqV0Qn8AAAUcW3mSx4TJZ4DK/IHEwIJDhOAAAAASAZ6nakJ/AAADAAkvx0swduBBAAAAFkGarEmoQWyZTAhn//44QAAAAwAADKgAAAAvQZ7KRRUsK/8AAAMDIoZICJguQWpmZuLC2bAATisl9Og5mS1UgW+GcXidqWi8JsEAAAAdAZ7pdEJ/AAAE+89fj994JwQKoNiYr3EDyYxzT8sAAAAcAZ7rakJ/AAAE+TykU+22PRAXEGYTfGsYnrVPywAAAFxBmvBJqEFsmUwIV//94QAAAwA3MMJPd8wAONrF7ZPaEqxD8EaOgMDmbTj7KoHRw4cQuwPi/p/3PUzgZvyT7meVrBCAEUdaEWLYqb7vgJCQIyDdozEP7n5L01r+XwAAADdBnw5FFSwr/wAAFrID2PLKbkOzzGKoyCHAS8gA/flFjteGOotQ7py6b1Gx6ynVXU7zhQZcb8qAAAAAGQGfLXRCfwAAI8MXaKmlU9BRP4Ym8ZP3hjQAAAAiAZ8vakJ/AAAjscwJb6hciggBaZhx4HUdOxXDyBn9M20b0QAAAEtBmzRJqEFsmUwIZ//+OEAAAQzzIf2bAVxWyCLNzAXYdj8fmstxrGnb9vwd8lTIl0OamHUt6n/TmnOwX8eDV9kOUXM2rJoRgp5Na5YAAAAeQZ9SRRUsK/8AABa1KzdrWl64ooXn4AImUK4W+OpIAAAANQGfcXRCfwAAI6v4XocG5H2Pk54BNe/9rX7QpdBvR6ZA61EYu7Z4h/zmlLBQGso2WIr5UQmxAAAADgGfc2pCfwAAAwAAAwGpAAAAHUGbeEmoQWyZTAhf//3xAAADAAHn8z8JpCLJyPE5AAAAEEGflkUVLCv/AAADAAADAQcAAAAOAZ+1dEJ/AAADAAADAakAAAAOAZ+3akJ/AAADAAADAakAAAA6QZu8SahBbJlMCFf//eEAAAMD9WFoAIMDvYo8nZdZSlOQsrKvk9LdZGpSq5JXV5TqCkwGoJRfyMpxwAAAABlBn9pFFSwr/wAAFixObMLYSwpWTxbtrhjQAAAADgGf+XRCfwAAAwAAAwGpAAAAFQGf+2pCfwAAIr8aznveCbZirVCkgAAAAF5Bm+BJqEFsmUwIb//+jLAAAAoXuZ96tAB+8TR58o6AYZRu4CMiJlDxeKWW7yhneXnq4oNPpvdZHsfvJVea7G7CxGWBC2F4rXUbSYKdM/2P5jxeebsxpAYFISNUAAD/AAAAKkGeHkUVLCv/AAAWMJ9kqdV/8AA46VW/PTynL67TPRyMMg7IYll4i7TjKQAAACABnj10Qn8AACKsOQWuQt5cCFug96J2PMLyfrIymfbYrAAAABUBnj9qQn8AACKyKwcTOOGoJPAlcHkAAAAbQZokSahBbJlMCG///oywAAAJgpOY6sPoaASMAAAAEEGeQkUVLCv/AAADAAADAQcAAAAOAZ5hdEJ/AAADAAADAakAAAAOAZ5jakJ/AAADAAADAakAAABaQZpoSahBbJlMCGf//jhAAAEO/vgI9Vw4dCaMcz1troTJ1kYPwJhjbesJBgf3EN0faCV5cC5UOzNLSYB7ZwQMAE8RP1PXPIoS5cytgdXPFq9u+yGaQyI0C5/wAAAAH0GehkUVLCv/AAADAHFiMf3Dq0AXueamZD2I/ikhIkkAAAAOAZ6ldEJ/AAADAAADAakAAAAcAZ6nakJ/AAAE+TxLUriSq2RpH1ubri3U/8kMoQAAABdBmqxJqEFsmUwIV//94QAAAwAAAwAxYAAAACBBnspFFSwr/wAAAwMlu+yWFyDgzuZUpjjGa8u0dOF+CQAAABoBnul0Qn8AAAT4W3mSx8f/xi6iIQcOBPq/PwAAABsBnutqQn8AAAT5PEtSuJKrZGdtYejGmTGzHLEAAAA2QZrwSahBbJlMCG///oywAABGem899vWeFVESJ3WhnJACVDIMAU6UPGORnCo3GaW+J0IuKGExAAAAF0GfDkUVLCv/AAAWJVhVis4/2J/2bpuAAAAAFQGfLXRCfwAAIqw5Ba5PHz8VaI0bMAAAAA4Bny9qQn8AAAMAAAMBqQAAABlBmzRJqEFsmUwIZ//+OEAAAP7v9ZOTAAaMAAAAEEGfUkUVLCv/AAADAAADAQcAAAAOAZ9xdEJ/AAADAAADAakAAAAOAZ9zakJ/AAADAAADAakAAABOQZt4SahBbJlMCF///fEAAAMADSZlB8vGsOjxMb0jEjUzINiaIBkTpKZnzOKxpxdqdQNfYOR5rwt+isBZBcUui8+zct4IPkBm+MpBECmnAAAAHUGflkUVLCv/AAADAHFiMf3Dq0AXueamz9IAZyN6AAAADgGftXRCfwAAAwAAAwGpAAAAGQGft2pCfwAAAwC1p8wcXnfhg6ThMej9+UEAAAA+QZu8SahBbJlMCFf//eEAAAMD9WErHgBduWtZVD04SHDs3+8m8ZSNYiM+dGBg8/vbmHlLrjqfnOA7mlFpBDYAAAAfQZ/aRRUsK/8AABYsTmzC2Ev8+BLlj6MI0qF4v3HlYAAAABoBn/l0Qn8AAAMAtYtvMl0HXcPjR7pDqY1ZUQAAABUBn/tqQn8AACKyKwcTOKzSFXOosW0AAAArQZvgSahBbJlMCG///oywAAAJwh+/yxoWK45gDVze1TyFYFlFE9LefI7TFwAAACNBnh5FFSwr/wAAFjCfZKnVeRmhjfta/1U+JpUd975HOLu/5wAAABsBnj10Qn8AACKsOQWuTx8/FaaneW/dVmHF/zAAAAAUAZ4/akJ/AAAisisHEzjhqCPAhYEAAAAXQZokSahBbJlMCG///oywAAADAAADA0IAAAAkQZ5CRRUsK/8AAAMDJXzSuoNj6KwK3y+9KRr9c7ZTORL/rIx9AAAAGwGeYXRCfwAAAwHaifLhTq9DZykFvMMp1tht6QAAABkBnmNqQn8AAAT5PmDiZxyGOo6dnfAhAv5QAAAAbkGaaEmoQWyZTAhn//44QAAABWEYcKpzAb2rHf+jQwR0+ZXb7twgf1lwEmj4mOB0rOV31hs0+vgE4DeM4yvQ8vNKLGEK6K2kZvdSZneIQv/72ohCOLaQXUKOUzRBIQR2wD/brYWFI7v+fraJVzDAAAAAIEGehkUVLCv/AAADAHFiMf3Dq0AXueUdXUVX+b/Px4htAAAADgGepXRCfwAAAwAAAwGpAAAALAGep2pCfwAAAwC1p8uclVIVg6mDlTqg6H78jNXzOACACk/1xzoXIAHF4171AAAAMUGarEmoQWyZTAhf//3xAAADAA0sqUsyj96Uu1XGAlz9TFgG4V8XfgIau5exA5ONmmAAAAAcQZ7KRRUsK/8AAAMAcUBoS19IIcazdByqOtr+UQAAABsBnul0Qn8AAAMAtYtvMl0HXcPjQW1rJ2qoxYEAAAAOAZ7rakJ/AAADAAADAakAAABLQZrwSahBbJlMCG///oywAABEAv3/AIVcb6ZfFJylG9pDQiPqdCNuVS37iA440WNsRpHkRXvf4eMZHqbjA5tJSM63kFd17hlZ2IbBAAAAK0GfDkUVLCv/AAAWLE4BqS4ZX3wMq7CAFPqrgHgz+Iw2ivyyXDdlq7AM43oAAAAeAZ8tdEJ/AAANLhSV9uOutcRxRU4JpZesGzwYnbegAAAAJgGfL2pCfwAAIrIrBbEWOw/NydKqVXpNKlFIgqR09+0vf3/T4HG9AAAAKEGbNEmoQWyZTAhv//6MsAAAQhIwoxNTPCe7TzHsLoDCizTfJoZcVvQAAAAwQZ9SRRUsK/8AAAMBLMSEmo9oABa2lsiipQFYXP32SbLZ2kS++7HyY/iwnkGTJhhYAAAAIQGfcXRCfwAAAwHainjlUhB1jmY5nnCw1Be0HvxGdt23oQAAABsBn3NqQn8AAAMB2s3w69g7zMb3GXNuCD+vu3sAAAAXQZt4SahBbJlMCG///oywAAADAAADA0MAAAAQQZ+WRRUsK/8AAAMAAAMBBwAAAA4Bn7V0Qn8AAAMAAAMBqQAAACsBn7dqQn8AAAMAtTs7iAASxUYeJSasNOJIiISM22PZagnoozrSe9AoI26ZAAAAFkGbvEmoQWyZTAhn//44QAAAAwAADKgAAAAQQZ/aRRUsK/8AAAMAAAMBBwAAAA4Bn/l0Qn8AAAMAAAMBqQAAAA4Bn/tqQn8AAAMAAAMBqQAAAEpBm+BJqEFsmUwIX//98QAAAwBaojnkJfGSDC8abRi8FaB2VBkyJKKAGnYqwz4vYV8gfg3VK6mMsXGop7wiTpkDCOaY5E8P/T4HcQAAACpBnh5FFSwr/wAAAwMQU+jiFLmZADdax43UrU2cFMmny3JX7pmu7NI7VgsAAAAeAZ49dEJ/AAAE1YhKhKAjAt9unejt90WIaAlqaW9AAAAAHwGeP2pCfwAAAwHb7tLm1iKQ4oevz/MIJwbKTODiDBEAAAAoQZokSahBbJlMCG///oywAABEAvZaCZ5JMydOqYaVzuRWU36hDdmnHAAAAEZBnkJFFSwr/wAAFiUrN2tV6TfIpTrAQPz02AA42sktF9w6cnZKkK95jNmDMQyPEOakfQu6lUZ223e2aqDSf/oaE5bNoQ2BAAAAIAGeYXRCfwAAIqv4W3gSnWfOdvnv4P7Pfh9j2ohMgGCBAAAAGQGeY2pCfwAABPk+YOJlrdm0IsKAQzu8OCwAAABCQZpoSahBbJlMCG///oywAABCCNZy33XhBjH3OlmdwoCHnhHJbunPqB/f+vcRHNe3YCg9ps2HyIWN7mGuyI/m91ggAAAAIkGehkUVLCv/AAADAw9LhNCrzdxBvWyb7lPtHJDUK5/tjYEAAAAOAZ6ldEJ/AAADAAADAakAAAAiAZ6nakJ/AAAE1+KvyICUUESQQi8wL5oRg3bTMYbho5PFgQAAAD9BmqxJqEFsmUwIb//+jLAAAAmCPjAAlDXXpPcbQRQHXoWgkfb6WRljsy2oapVfcxn4Ij1XBqgieX+bBnhtVUAAAAAeQZ7KRRUsK/8AAAMDEFMK5ixGE3sAixS1ZunzNhuLAAAAGwGe6XRCfwAABNWHILXeth1gn+KxT2pke/SeLQAAAA4BnutqQn8AAAMAAAMBqQAAAE9BmvBJqEFsmUwIZ//+OEAAAGJ4UyAgwHUmoCyotfu33fU6yMt/Vm/4EK6Jq8ImWzH8aQ0Uvki5pGF/+1ruaSqarZ81c9xh4zUARbh9m5ZvAAAAIEGfDkUVLCv/AAADAxExzaO+b0bxKaM9tfjJ2PY9mhDYAAAADgGfLXRCfwAAAwAAAwGpAAAAHQGfL2pCfwAADOSdq2Nq0iwfWfk6KGFHrZ3T9vFhAAAAJEGbNEmoQWyZTAhf//3xAAADAAC1WsTIA05msz6GnE2dxeDegAAAACZBn1JFFSwr/wAAB9wBB0R0GBt8tW/zYmfrv05N5KdgdfIAAaS+9AAAABwBn3F0Qn8AAAzeEvMlzfPBQRvzDFYe2ue6Q271AAAAGwGfc2pCfwAADN/WNMXcbdik3ahDEQXjaAlMWQAAAH9Bm3hJqEFsmUwIb//+jLAAAEYBmymASPv+6pOdtB4ahUiH0WKhxRzhdgBQOaVfUYkkLk6TULiAL7sABF7zNIkbf8IX38KVbGr/6MadQSohQYFygW64n4uUv7fdUJvVzHRJf8UZSfXmbZoARognVkuukTlM56A1vgFcijw0WDcDAAAAIUGflkUVLCv/AAAWvEPAsmfxzIPwQqMx4RWqiFHgf0jHFgAAAA4Bn7V0Qn8AAAMAAAMBqQAAADkBn7dqQn8AACO/AnZnqjrzHs80RC7oqoiqeuGzdpKxIoAcWnlPDVWJp47UPG9BpEVYy5chryv+6YEAAAAaQZu8SahBbJlMCG///oywAAADABIem9PdgccAAAA9QZ/aRRUsK/8AAAMDN3D59IMdgcANr3XHjJa3+uOFyhZYB8+WpecxmrPrWIj5YmHsyDAMW36v4Dg7Hp4jPgAAABgBn/l0Qn8AAAMAunl9oqaVT1U1BQ7IMLkAAAAiAZ/7akJ/AAAFHzSGE+Ac1pqzP9FhCS8gYFXGW0It3Qu+zAAAADhBm+BJqEFsmUwIb//+jLAAAAoH2Z4JZXnJnXyCNDOiazkjTIAISa6yZptPylZBZzvFyOvJo0d2+QAAABxBnh5FFSwr/wAAAwM4Uwqw4X50S2Aup+uaMadvAAAAGgGePXRCfwAAAwHmsbCUqUTuDbgSXwY9FvwYAAAADgGeP2pCfwAAAwAAAwGpAAAAMUGaJEmoQWyZTAhn//44QAAAJqonf82mdcgjh8z1pwcIuwoazxuqAF9xW7+s9PcuTZgAAAAdQZ5CRRUsK/8AAAMBNYFDaZl8wcVv6dC4BMfYuC0AAAAbAZ5hdEJ/AAADAeaxsJSpRO4NuBJfBjzocxvRAAAAKgGeY2pCfwAABRtiFBdeodT59qjGZLCAATdNHPpBZtYufTZ7pq9OAWJnwAAAADJBmmhJqEFsmUwIX//98QAAAwBfP8Fb9ONRc5SulHPsXv8pIi2BP9TJQDuyxvc3rmu7TAAAAB9BnoZFFSwr/wAAAwM4Uwqw4X50QGgSMtCtzhiLDCE3AAAAGwGepXRCfwAAAwHmsbCUqUTuDbgSXwY86HMb0AAAAA4BnqdqQn8AAAMAAAMBqQAAAERBmqxJqEFsmUwIX//98QAAAwKfAp7aunvcjmHD4xN3mAQ76NX0b8ACw3/qpQ/SiNwMKN9bDdnA2SNScBkxKHfVsOykwAAAACNBnspFFSwr/wAAFrxDzbcWA4RV92uBpgRfSo28MpgwHPcMoQAAABoBnul0Qn8AAAUf0MHOto3DV9gRWgicZldswQAAABgBnutqQn8AACO/BCcSyWmauFZVIf99s+cAAAAkQZrwSahBbJlMCGf//jhAAAENPreH7kMuJZxS6phwz1Pr1adNAAAAJkGfDkUVLCv/AAAWtSs3a2EpfdjyQ3HZgXs+HJCinyX0R1ZWScKwAAAAHwGfLXRCfwAAI8MXaKmlMll3L5vexUIBPcOCU7iQTkgAAAAcAZ8vakJ/AAAFHzSEsoBzWmrgYi7ARp9wvNyf4QAAACpBmzRJqEFsmUwIX//98QAAAwBfZUpHjVRLYuheMxjciaJ3QYKC9b2whfAAAAAmQZ9SRRUsK/8AABa+o53+XUrKg0L+jAfUOT2VjUBLVxNopSQ3OMoAAAAgAZ9xdEJ/AAAjwxdoqajo1OmXyiWzAyAsACc0AO4qkBEAAAAeAZ9zakJ/AAAjvwQnEslpmrhWUx8qO34Gq0ubSLaBAAAAPEGbeEmoQWyZTAhf//3xAAADAp/MaAQ5UmgjEEJqTzqpHgpBxFxNQr/qu4WTb93gNmCyBLm4RRBeSTfqgQAAACdBn5ZFFSwr/wAAFrxDzbcVzKvjcXFCM+D+R70eWxlC5ToFjC4FxlAAAAAQAZ+1dEJ/AAADAAkrDxStgAAAAB4Bn7dqQn8AACO/BCcSyWmauFZTHyo7fgarS5tItoEAAAAoQZu8SahBbJlMCFf//eEAAAQU1VP9StTEdP13GSBdkO+8J0CYixD9UAAAACNBn9pFFSwr/wAAFrxDzbcVy6ygaKjFRjBpavkNmu6tlppOOAAAABABn/l0Qn8AAAMACSsPFK2BAAAAHgGf+2pCfwAAI78EJxLJaZq4VlMfKjt+BqtLm0i2gAAAAC5Bm+BJqEFsmUwIX//98QAAAwKfyGkAOVW0sP6/VIESIUUb/CICiX+lQon4wi4tAAAAL0GeHkUVLCv/AAAWtSs3a1peuKKDwjC65Bt8sqxXLgA1qwXg956ULwMJUiBpc4LBAAAAGgGePXRCfwAAI8MXaKmlU9T7wgmNR1P+Ai2rAAAAJgGeP2pCfwAABOoRx+YzKRCwU5spBow9/UGZjWLpGupX6gMH8lGBAAAAO0GaJEmoQWyZTAhf//3xAAADACKouTKv/kqQBG1tneUNYrFQ5gO8vdgqxIofwJyltp25ILOJRrzq1olAAAAAI0GeQkUVLCv/AAAWvqOd/l1KxRsynQTsOHyJe6cBBGutGttbAAAAHQGeYXRCfwAAI8MXaKmlU9T7wgmOsBgWHSM0hkmBAAAAGAGeY2pCfwAAI78EJxLJaZq4VmspNCem4AAAACJBmmhJqEFsmUwIV//94QAABBTVU/1K1MR0/XcZdws7UFBwAAAAIkGehkUVLCv/AAAWvEPNtxXMrKLB5DQDXCoyCQVg9t263CsAAAAcAZ6ldEJ/AAAE6hHNIOEEC2Evimwnk11j3/85IAAAAB8BnqdqQn8AACO/BCcSyXhOlwyF242TxDNCLAgL6SOTAAAAJkGarEmoQWyZTAhv//6MsAAARhGsEOSf1BWo4So9Cffxraxn1gr4AAAAGEGeykUVLCv/AAAWtSs3a1peuKKWPU2GNQAAABYBnul0Qn8AACPDF2ippVPU+8aF9WGNAAAAGQGe62pCfwAAI8e9ixm/yyR2lvnQzeauyBkAAABeQZrwSahBbJlMCGf//jhAAAAlsRR2L0pJfNfSAIgmG9s17L5fRjg41eF5ks8EeqvlTwZXf4gR8x6/4tDqOJxyAiW+V7H6iQga6Ga1Dlh0j6tqohe73m5YO0CUzP+agQAAACFBnw5FFSwr/wAAAwMkUwrl69Eb9KvTFWccQutHbQx13oAAAAAaAZ8tdEJ/AAAE+9DCGG1xHpuevXktHmaWEgIAAAASAZ8vakJ/AAADABppPIehXmBBAAAAHEGbNEmoQWyZTAhf//3xAAADAAAYn5cIDIteZ8AAAAAhQZ9SRRUsK/8AAAMDJXzSu3wHKEitLx0kF/IypuWgYhqfAAAAHQGfcXRCfwAABPvQwhhtcR6XwB7LxwvTkbl9za71AAAAGwGfc2pCfwAABPs01d7biGqCSBvo8OgkcJGTkwAAACxBm3hJqEFsmUwIZ//+OEAAACWn7Emj1Paj9LNemHSz9JdGEIdHhlyIcRxWfwAAACFBn5ZFFSwr/wAAAwMlMc2jt5ZxI6+AA8BRmKPLPfZysUAAAAAcAZ+1dEJ/AAAE+jVVG3jPUET4ZfHLxzy0m2pkmAAAABsBn7dqQn8AAAT7NNXe24hqgkgb6PDoJHCRk5MAAAAnQZu8SahBbJlMCF///fEAAAMAIqa/AT1bBXxTTgNm8N/MAJUislNmAAAAHkGf2kUVLCv/AAADAS3lC29NRkS7BHBPVLXzC4aQEAAAAB0Bn/l0Qn8AACPAuN/BXpDtV+QwGD0zfY/yuB4Y0QAAABwBn/tqQn8AAAMB24AS+OBpuK11QpcJO2ZW4OSAAAAAJ0Gb4EmoQWyZTAhn//44QAAADiHgmaVspbnqybQ6GlyiABWaVhJswQAAAC9Bnh5FFSwr/wAAFrNHtw25G5MNG4OVgABxtY0U4u6WczGiJm7BYaRgvGi/e4R2zQAAAB0Bnj10Qn8AACPDF2ippTJZdy9ee3Vo5iLG8skgIAAAABsBnj9qQn8AACO/BCcSyWmXU1573s3vIyZLhjUAAAAsQZokSahBbJlMCF///fEAAAMAIqjzcL6eTYY5LSyCvmtRUsAnHh6kgfmQy+AAAAAeQZ5CRRUsK/8AAAMBLeULb01GRLsEcE9UtfMLhpARAAAADgGeYXRCfwAAAwAAAwGpAAAAHAGeY2pCfwAAAwHbgBL44Gm4rXVClwk7Zlbg5IAAAAAqQZpoSahBbJlMCG///oywAAADA6SMi8d/s76SCewIQ3BRzJ+ahJrNZg+YAAAAHEGehkUVLCv/AAADAS2BlplC6g7+xI31By17cgMAAAAbAZ6ldEJ/AAAE9ndNl9is4vxnUO9Y+ljGzYICAAAADgGep2pCfwAAAwAAAwGpAAAAF0GarEmoQWyZTAhv//6MsAAAAwAAAwNCAAAAIkGeykUVLCv/AAADAyJxVLFTd40pkP6+T6Nm4pg5e2PackEAAAAaAZ7pdEJ/AAAE+9DCGG1xHpuevXktHmaWEgMAAAAaAZ7rakJ/AAAE+T5ht2RnbRcJyb7+27VqSYEAAAAXQZrwSahBbJlMCG///oywAAADAAADA0MAAAAQQZ8ORRUsK/8AAAMAAAMBBwAAAB0Bny10Qn8AACPAuN/BXpDtV+QwGD0zfY/yuB4Y0AAAAA4Bny9qQn8AAAMAAAMBqQAAABZBmzRJqEFsmUwIZ//+OEAAAAMAAAyoAAAAMkGfUkUVLCv/AAADAyJxU3zC9cQABxtYl93+VYqjC0h/fUxgVU+CYEnbzuCbb4ezRBtmAAAAGwGfcXRCfwAABPvQwhhtcR6bnr15LR5mhkUMoQAAAB4Bn3NqQn8AAAT7NNXe54fxU3jJFxRYaSyBziOnOGUAAABVQZt4SahBbJlMCF///fEAAAMAXPlKWZ/AE56xw8AQzygA/th+8SJxgoH6YDcriUcYHViRvYk9nHPO/bFj4dGlWdhz0dsgv5nnVdZtdJtrSauZW7KN3QAAABtBn5ZFFSwr/wAAAwMlMc2jt5ZxI71F+6p1RQQAAAAdAZ+1dEJ/AAAjwLjfwV6Q7VfkMBg9M32P8rgeGNAAAAAYAZ+3akJ/AAAE+zTV3tuIaoJIBuSCt+DhAAAAIEGbuUmoQWyZTAhP//yEAAADAFPz8E/5NXOxCwoQPv9TAAACA2WIhAA3//72rvzLK0cLlS4dWXuzUfLoSXL9iDB9aAP5CgAAAwAAAwMz2JyaJkJjnKAAAAMC5gCFhJQ8g8xExVioErxl8DncAQrOaMBBDs0Koe8seEotoae+B7BphY1Xzjx4AIq39zlIa1/q27pzKKFliZ+Q2PnJF17oxX/NNhxJko7WXB59LWWlZTpsK3RixBPUV80GItcBeWOPbNoICdNYFvWPEwOhnwXFeQDGbrN0pTVV9qVM7jkLryWKLAFIjq922bDi9WaQsZSoIyG58CYBDDUNWETRp6jGbKSFnPtOU5xyWOhOgJ7JeX++xozJgyU6EXPJQ75uUHaRlOagtgoQVZy2+Bu/t5SYaHgY5zjZqupvX1PYDYRRb8jzA6oTq8ze5bqWlNU2uZ4vb3mgfDzeJ8zRA8qFMw8Q/uSyWllyO1wUIBRp2bIpk6rF5wkI209YOo2flZ1SYoed4bQ3OUq2fWqBmTOEggb+tur2E9/fydO12juSUS9Q3strpPaRCvNP9ehOUvByBKJIqVB0NmXBy/f7k+78qQY5UerKyl7fkBGONAjQ6njRZsYQIVPMnwbePn1W9l+S2vBgQTK0KCALJarVnxFwzh2Cc9Hrr+Y3pi7Jy0nIaE5SaiuUAOlZqI5KnDeAaumq5jZmtC+YOLLG/6ve5ghwY8CWAAADAAADAAZ8AAAAOEGaJGxDP/44QAAABYivkLhwkhqz0aaS0eSF5OBNiMwBak6ECvoZSaetY/8fI8ZA+taM1POKrojBAAAAKEGeQniFfwAAFrNHtw2xOyUxA86n/jidECbU6hCF6K4rwN1QDxXceDAAAAAhAZ5hdEJ/AAAjwxdoqaVT1P7FEGgRoSdQ56AAsJ7NMvwZAAAAGwGeY2pCfwAAI78EJxLJaZdTXnvLXpQ2Aoum4QAAADlBmmhJqEFomUwIX//98QAAAwANfW1TydJbP6b5V9OgOzBYx2ATgdunwmeyv1H7XlcgF85Hfxxb48AAAAAdQZ6GRREsK/8AAAMAdBOGaEJh8/isKH4JMG2RWKEAAAAcAZ6ldEJ/AAAE+oZ8fWsRowgoaFmMTmOxr3KckAAAACABnqdqQn8AAAT3YUKE1kmjHa2UDu2FtsnRP+BsZlpbMQAAADBBmqxJqEFsmUwIb//+jLAAAAMBbg0KGaDDJ0RxgUPBlLMjYLLgcD+aZxqEM1Iabq8AAAAvQZ7KRRUsK/8AABazR7cNsTslMQPOp/44nRCrR604QAs3tzzVODoyPwEDSYRxbZgAAAAeAZ7pdEJ/AAAjwxdoqaVT1P7FDjzeFPxjm4ZBQxhWAAAAGwGe62pCfwAAI78EJxLJaZdTXnvLXpUXSGbpvQAAADZBmvBJqEFsmUwIb//+jLAAAAMBbhCTgUAgCFyPqGQkfeTiBXt5Eh75XHWNH+oUhtpQhQ532oAAAAAcQZ8ORRUsK/8AAAMAc/+k3a1phcYODKhPzhfriwAAACsBny10Qn8AACPAuN/BUxojGSKKoqGF5xjHGE/vEs0NoqH1cXfiAtFwesGAAAAAEAGfL2pCfwAAAwAJL8b2a0EAAAAXQZs0SahBbJlMCG///oywAAADAAADA0MAAAAxQZ9SRRUsK/8AABazR7cNsTslMQPOp/44iA7hz/+ufrN5E4IsIIhYYYOlKU6a3bAcFwAAAB0Bn3F0Qn8AACPDF2ippVPU+8IJjrAYFh0jNIZJgQAAACEBn3NqQn8AACO/BCcSyWmXU157y1HKu7gSygB31KoahlwAAAAWQZt4SahBbJlMCGf//jhAAAADAAAMqAAAABJBn5ZFFSwr/wAAAwAA0278kvEAAAA3AZ+1dEJ/AAAjwLjfwVMaIxkiiqKhhecdmEAF1AMHLH8Y6Ij4gXRGSk9hSZnv+HQt59Uc0WFtwAAAAA4Bn7dqQn8AAAMAAAMBqQAAABdBm7xJqEFsmUwIX//98QAAAwAAAwAekQAAAEBBn9pFFSwr/wAAFrNHtw2xOyUxA86n/jidNEEAN8F6ySPB1BDB5itDLyJmadMzTQDR3IGHwoh1aS0RamjE5wWBAAAAHAGf+XRCfwAAI8MXaKmlU9T7wgmOsBgt1uuwQEEAAAAiAZ/7akJ/AAAjvwQnEslpl1Nee8xZxmbneMemAF8R5EE5IAAAADpBm+BJqEFsmUwIV//94QAABBTVU/1K1MR07hRQE4/aGChye9QgABm8HUty+G6AFGXQlogU3hWKnrFAAAAAI0GeHkUVLCv/AAAWvEPNtxXMrJlJPgdCis29PYUjvofieGwrAAAADgGePXRCfwAAAwAAAwGpAAAAHQGeP2pCfwAAI78EJxLJaZq4VlMfKjt+L62NBJJgAAAAKkGaJEmoQWyZTAhf//3xAAADAp/IaQA5VbSw/r9UgRIhRRvCxt1qfg9xYQAAACdBnkJFFSwr/wAAFrUrN2ta/0MBrxBu2zmMcufgtI5FMT5CZ5T7RvQAAAAYAZ5hdEJ/AAAjwxdoqaVT1PvH+yKQ4um5AAAAHwGeY2pCfwAAI8e9ixm/yyR2lvnDeIfZ00efMZ0E8GEAAAAvQZpoSahBbJlMCFf//eEAAAQVHZ+P69yfpMVgkbA+m9HSe2WpdRM1qKwc4eut7iwAAAAeQZ6GRRUsK/8AABa1KzdrWl64ooPCMLA53MeMBTCtAAAAHAGepXRCfwAAI8MXaKmlU9T7wgmOsBgt1uuwQEAAAAAOAZ6nakJ/AAADAAADAakAAAAzQZqsSahBbJlMCF///fEAAAMCn/LlqBBoH/UO+XIkBrDVdqm+D2VPWBxgkiTi86iTxcrBAAAAHkGeykUVLCv/AAAWtSs3a1peuKKDwjCwOdzHjAUwrAAAABwBnul0Qn8AACPDF2ippVPU+8IJjrAYLdbrsEBAAAAAIwGe62pCfwAABPxs1Q2hPt/THFXMdJP0xGvHCG7rNonvGtuBAAAALUGa8EmoQWyZTAhX//3hAAAEFR2fj+vcn6TFYJGwPqU+dXEaj20xlN0fSk7/VAAAACBBnw5FFSwr/wAAFrxDzbcVzKyZST4HQorLh57/xn1ufQAAAA4Bny10Qn8AAAMAAAMBqQAAAB0Bny9qQn8AACO/BCcSyWmauFZTHyo7fi+tjQSSYQAAADFBmzRJqEFsmUwIX//98QAAAwKfyGkAOVW0sP6/VIESIUUbwsRU4ASKUagLx+MJWPlxAAAAHkGfUkUVLCv/AAAWtSs3a1peuKKDwjCwOdzHjAUwrQAAABwBn3F0Qn8AACPDF2ippVPU+8IJjrAYLdbrsEBBAAAADgGfc2pCfwAAAwAAAwGpAAAAMkGbeEmoQWyZTAhf//3xAAADAA17xskWYyCfKiC+3iON4tu/WqhAJsSrx6z3JhUNWMNTAAAAI0GflkUVLCv/AAAWvqOd/l1KxRsynQTutxMyFxdlJ5PnKN6BAAAAHAGftXRCfwAAI8MXaKmlU9T7wgmOsBgt1uuwQEAAAAAZAZ+3akJ/AAAjvwQnEslpmrhWcwRcTMgtIAAAACJBm7xJqEFsmUwIV//94QAABBTVU/1K1MR0/XcZdws7UFBxAAAAIkGf2kUVLCv/AAAWvEPNtxXMrJlT69oJEICdmA1Q7l/BWFcAAAAeAZ/5dEJ/AAAE+hWX2UOGit+oMHlXBFUTRO2e9ICBAAAAHQGf+2pCfwAAI78EJxLJaZq4VlMfKjt+L62NBJJgAAAAKkGb4EmoQWyZTAhf//3xAAADAp/IaQA5VbSw/r9UgRIhRRvCxArigORhYAAAACRBnh5FFSwr/wAAFrUrN2ta/0MBrzQhHA2ofAnkasQbjJo4BAUAAAAXAZ49dEJ/AAAjwxdoqaVT1PvGhelcjZgAAAAbAZ4/akJ/AAAE+zTV3tuIaoJIG+jw6CRwkZOSAAAALEGaJEmoQWyZTAhn//44QAAADirEyR1YCbptDJXWZX0LUAemHihBexB11D5hAAAAIkGeQkUVLCv/AAAWvqOd/l1KxRsynQTutxMyFxdlJ5YO24AAAAAgAZ5hdEJ/AAAjwxdoqaWr+mXUMc5Llwx+5hIWo6YeckEAAAAZAZ5jakJ/AAAjvwQnEslpmrhWcwRcTMgtIQAAACtBmmhJqEFsmUwIX//98QAAAwAiqPNwvp5NhhKuhkIiTd/OsnqOpJL0MmzAAAAAIEGehkUVLCv/AAADAyWy0koGwj2jB5s6s2TxgCM7AQgJAAAADwGepXRCfwAABPhb9gDHgAAAABsBnqdqQn8AAAT7NNXe24hqgkgb6PDoJHCRk5MAAAAlQZqsSahBbJlMCGf//jhAAAAFh7bOH7kMuJa+vsNajAErOdH3PwAAAClBnspFFSwr/wAAFrNHtw2xOyUxA86n/jidHeVWWBQFLx4ylZoBML9tmAAAABwBnul0Qn8AACPDF2ippVPU+8IJjrAYLdbrsEBAAAAAGgGe62pCfwAAI78EJxLJaZdTXnvLXUTMhcdNAAAAKUGa8EmoQWyZTAhf//3xAAADAA19S5agQaB/1DyOGRvYRDBHb5e54258AAAAG0GfDkUVLCv/AAADAHP/pN2taYXGDhSXToh7ZwAAABwBny10Qn8AAAT6hnx9axGjCChoWYxOY7GvcpyQAAAAHgGfL2pCfwAABPdhQoTWSaMdvjKnN4qUpc7IAdALZwAAAClBmzRJqEFsmUwIZ//+OEAAAAWIDGxgNwzOScOnhKmLJE3/yrEeJF3PgQAAAB9Bn1JFFSwr/wAAAwMjcMAcQBKT43CaSf8ubITKMnJBAAAAGgGfcXRCfwAABPvQwhhtcR6bnr15LR5mlhIDAAAAIQGfc2pCfwAAI65eM4Fnq82UyR2XiRK43ts/amyO0kLx0wAAAClBm3hJqEFsmUwIX//98QAAAwANfUuWoEGgf9Q8jhkb2EQwR2+XueNufAAAABtBn5ZFFSwr/wAAAwBz/6TdrWmFxg4Ul06Ie2cAAAAcAZ+1dEJ/AAAE+oZ8fWsRowgoaFmMTmOxr3KckAAAAA4Bn7dqQn8AAAMAAAMBqQAAAClBm7xJqEFsmUwIX//98QAAAwANfUuWoEGgf9Q8jhkb2EQwR2+XueNufQAAAB9Bn9pFFSwr/wAAAwMjcMAcQBKT43CaSf8ubITKMnJBAAAAGgGf+XRCfwAABPvQwhhtcR6bnr15LR5mlhIDAAAAIQGf+2pCfwAAI65eM4Fnq82UyR2XiRK43ts/amyO0kLx0wAAACRBm+BJqEFsmUwIV//94QAABBN4XZjm817Y/svsFxecN3QyhoQAAAAiQZ4eRRUsK/8AABa8Q823FcysmVPr2gkQgJ2YDVDuYhpJgQAAABwBnj10Qn8AAAT6hnx9axGjCChoWYxOY7GvcpyQAAAAHQGeP2pCfwAAI78EJxLJaZq4VlMfKjt+L62NBJJgAAAANEGaJEmoQWyZTAhf//3xAAADAp/IaQBHugFPjqBRJeoxE7Ep4EFUFCwMRvTEICDRZN3wrZkAAAAjQZ5CRRUsK/8AABa1KzdrWqJTzZG7XgM67FrRwnZcBmH5ICAAAAAeAZ5hdEJ/AAAjwxdoVREWDUp7xO2huj8ioZzimGNBAAAAHAGeY2pCfwAAAwHbgBL44Gm4rXVClwk7Zlbg5IEAAAAbQZpmSahBbJlMFEwr//3hAAADAAAp7K/iaJ6QAAAAHQGehWpCfwAABPdiFB7kdZg3odt0dUDhe4IlUbIDAAAAkUGaiknhClJlMCF//fEAAAMCnwK6DEswuqIANpjtMON1FbDM+lxA0/cp5sRTglkKjegPEWspbc4nBXQ68OOY/qcP3z55PiQl5bZauAVGOlNyFdDi63fm+BYB8zcCHxh8tlVLnnn0tSgTjK8GQFZck1bSEW47AP0tUeg82mbk0ndX/7in2xNlx7TT++kDqiIiNKQAAABNQZ6oRTRMK/8AABa8Q8xPpbwVOm2+jFqAG4vJxaxRNud7pdv5XEn8yS+Z7p9nj3M5hkZFMKsVirpv5bPqAd0NEN+KTf4CNXZuDPO1zt0AAAAkAZ7HdEJ/AAANfgDSR1JpbK0t4ZmnLQFz3rQwp4iosu6NE8GBAAAAHQGeyWpCfwAAI7HMCW+pcstc6GiYBVcf3PGaWFKaAAAAS0GazkmoQWiZTAhf//3xAAADAPj6AfLHPD3RbrP7E9QtYrZZFmPb6aajfJOzcIi/uxWnPZ1IYwLH5iAG5ZCbnElstCeJtAQy4Dz+QAAAACRBnuxFESwr/wAACGv65xUEu/BM2V9hu8gn6PruRQ1kQqFABH0AAAArAZ8LdEJ/AAANNe8psl2EGSej1BTSg7ChNFHQgAV1B36CR2IGu72HY3KxQAAAAA4Bnw1qQn8AAAMAAAMBqQAAAFdBmxJJqEFsmUwIX//98QAAAwBfXlgU4FsSIAji09oSUHY6w9ylMyqyD79LiQPIBnk5MqpPZ6Kg07laRYvkRoz1z1aIwmNSW2X0Vh4m3nwrh684n5P/xZgAAAAnQZ8wRRUsK/8AAAMDNp7iVvMHgxv6xivx5dJ5ncmvp0Omw4UnInbhAAAAGwGfT3RCfwAABRxSabCFOXkUgTTU0ZaZgi5JgQAAAA4Bn1FqQn8AAAMAAAMBqQAAAGNBm1ZJqEFsmUwIX//98QAAAwKfBR1D1AoC09G12KMzqcZM9nPTzOiY4aORtZFcOCofIo2gtIBwv5bVmkXUQGyXxO15Yh0wWYUKCuLdbNl6bxwo+t8p6Aor9DTt75WgYbAyOQMAAAAxQZ90RRUsK/8AABa8Q8qOh+KRPGZq9M7Xf7PiSApSFglVD0uWIFJRYCivr77gg9M7cAAAABwBn5N0Qn8AAAUOEadj9Qm/6yx9vRLESRyOUM8GAAAAHwGflWpCfwAAI78EJxLJaa1cnyzTvjix4UcO2j7rgVMAAABiQZuaSahBbJlMCGf//jhAAABm5ji+Sr/AAcKnPjdYZHu05C8AGDtvWJ4qbyqg6mB9GmVXsZWtbKj6vElo0Q4t5+jn8T5MuKfrkU9W98egUbm72MLGi/PpWh/q0VnRg/+yLgQAAAAkQZ+4RRUsK/8AAAMDJFPp47fSkSD7GwIyJQ41LC0KDBnDv/PgAAAAGgGf13RCfwAADX4Q54nlVYi5VzoLT8emceuBAAAAGQGf2WpCfwAABR0+YOBt2/E/ERn5KLRzHbkAAABqQZveSahBbJlMCF///fEAAAMAXREchbD9l02IARkKZaJ5GcHhwarFAnHxOaw3I0BwuCk1PXNfzd78MDTZyTklQuAMTzW8faRrCAOfqE8uhSR/O/rf2fiPzCbo/mVyE925vubkR9NLBteVuwAAACBBn/xFFSwr/wAAAwMlMc2jt5ZxI71LOdTQvdMW4ABUwAAAAA4Bnht0Qn8AAAMAAAMBqQAAACEBnh1qQn8AAAMB2s3w69Qu4r4mowqVYQcmJ6DsggGNT4EAAABAQZoCSahBbJlMCGf//jhAAAEM+t35m0CpQdAge8239sD4lCu5CsQ3tb4JqSYYe7n1PDY6sVipaXlagBQXCWR4RAAAACdBniBFFSwr/wAAFrUrOXZQiYzmYgnqs+9he63mFNs4DJaGx2X8s3AAAAAcAZ5fdEJ/AAAjwxdoqaVT1PvF2JhVccXxh9VKCQAAACABnkFqQn8AAA2En3geN0JOdelBWgMLLrr+Rg+NLg7OSAAAAFxBmkZJqEFsmUwIV//94QAAAwGRhg6VXQA3WsarDI24hVsrSJj/e0W2nD1Rg3EJ4ZWWlek1RAWi61SvCaL8HjegfV54zBC2HzJ8yGF5XbvtYaSnRjDDRfPQflyfWQAAADJBnmRFFSwr/wAACGvzM7dg+s6PHm/5wwQ+BF6AQk0QAk0YYWmaEHp4nvmVzyY887sswQAAAB4BnoN0Qn8AAA1+E4he9jZNAhtTKd+qZI2f0EEcZ8AAAAAZAZ6FakJ/AAANKw0hOIUP6oyjnOYpPFqDCwAAAD5BmopJqEFsmUwIZ//+OEAAAQz68oANRqCPVIghjdrCzQ28XUW2BGkzg5iml0ZUkVV1c9ane2dxvZmjv1TZgAAAABxBnqhFFSwr/wAAFrUrN2taXriihLimW9XdXA6ZAAAAGgGex3RCfwAAI8MXaE2XujjwNh2aF4lfZlVBAAAAHAGeyWpCfwAAI8e9ixdLztnc1T5XUHoDoIWZPmAAAAAZQZrOSahBbJlMCF///fEAAAMABPeUs8A+YAAAABRBnuxFFSwr/wAAAwArKrgH180bMQAAABIBnwt0Qn8AAAMAQ1h8mQng2YAAAAAQAZ8NakJ/AAADAAkvxvZrQQAAADZBmxJJqEFsmUwIb//+jLAAAEYC/DEByOOwsFmo118511WcOa0EglGbuTj4e5luJYmKqaQgxoAAAAAcQZ8wRRUsK/8AABa8Q823FcyvAUTvsmh7XLnFewAAABABn090Qn8AAAMACSsPFK2BAAAAKAGfUWpCfwAAI7HMCW/BwdGGmEJCjbCCzG1EttbusdRjjJPM+j+hbwcAAAAXQZtWSahBbJlMCG///oywAAADAAADA0MAAAASQZ90RRUsK/8AAAMABdQn5BWwAAAAEAGfk3RCfwAAAwAJKw8UrYAAAAAQAZ+VakJ/AAADAAkvxvZrQQAAABZBm5pJqEFsmUwIZ//+OEAAAAMAAAyoAAAAEkGfuEUVLCv/AAADAAXUJ+QVsAAAABABn9d0Qn8AAAMACSsPFK2BAAAAEAGf2WpCfwAAAwAJL8b2a0EAAAB4QZveSahBbJlMCF///fEAAAMAIrP99aOh4Arezd+6ojylpGt+sADMIT6WPNGlBcpGhR/UV/Hba9IZb9uwDfwJy+kxNAUgFXJWgUoMDGM9HkVpsDHjX6fZjBQGQzeGaABqH8XRcjkq9VQlfNzIQiUx4BCbAzPExhXNAAAAIkGf/EUVLCv/AAADAS3lC29NRiAUCEgOe0poablbnAgLIbAAAAAQAZ4bdEJ/AAADAAkrDxStgAAAACABnh1qQn8AAAT14PjwgTw3bCTXSQr/9UoIoBA9WYIhsQAAAGFBmgJJqEFsmUwIX//98QAAAwKj/dI78xmVQPSPVp1SAG2s0dTTTRYo8G+OvmKgwazfmRGfLfwPhLgH56X7pV9uYj2lVzkv+rIzbA4I8GTudq0AspgS44XYKKWLHCeTpCyoAAAAJUGeIEUVLCv/AAAWvEPNtxXK9c5rCGYXdiMMSYEQAmSPMyxOIbAAAAAQAZ5fdEJ/AAADALohQ5wHLQAAABsBnkFqQn8AACOxzAlvqW+yFUj7/AYhYRwstj4AAAA7QZpGSahBbJlMCFf//eEAAAQTc1B/I4Ux+ojKn/Lrj94eub05VRg8bIstSezBu6As6Lb/08+9zClLF3sAAAAuQZ5kRRUsK/8AABa8Q8qOh+F0XowFlx8QIvmEHsghfvziDqzwOyyLT3pt7N5BYQAAABsBnoN0Qn8AAA1+EvMlj4+k0ZxB7ISUpIu4hsAAAAAXAZ6FakJ/AAAjscwJb6lvshVShdaVDb0AAAAuQZqKSahBbJlMCG///oywAABGEawQ5J/UEwyXlYotyoAvk99ZH/6B9HLwIulqzgAAABlBnqhFFSwr/wAAFrUrN2taXriihecA8r9VAAAAGAGex3RCfwAAI6v4W3gSnWgjiCXHnHWouQAAAA4BnslqQn8AAAMAAAMBqQAAABZBms5JqEFsmUwIZ//+OEAAAAMAAAyoAAAAEEGe7EUVLCv/AAADAAADAQcAAAAOAZ8LdEJ/AAADAAADAakAAAAOAZ8NakJ/AAADAAADAakAAAAXQZsSSahBbJlMCF///fEAAAMAAAMAHpAAAAAQQZ8wRRUsK/8AAAMAAAMBBwAAAA4Bn090Qn8AAAMAAAMBqQAAAA4Bn1FqQn8AAAMAAAMBqQAAADxBm1ZJqEFsmUwIV//94QAAAwP1YWgAUY15X5Vl/crzbYIPVnzpGqy2Pxi6TXucvFki3AByRz6v9dKotBEAAAAxQZ90RRUsK/8AABYsTmyoJHV4pCgMAJpP11zljMkUTbjFp/JjzXz+0v3Ip1M5AU5aKwAAABsBn5N0Qn8AAAT70MHPGwn4pyhJMMZp8sZscsAAAAAdAZ+VakJ/AAAisisHEzjhpwrU1hLhuTrKU0z/z4EAAABTQZuaSahBbJlMCFf//eEAAAMD9lwa/S9t0limtPvn2eT2f3v77QA53nit10tYpsEePg8DLUt2dmaj86zLvJWncJwXpxEhK2le+dW2ajjpkuAmN6AAAAAhQZ+4RRUsK/8AABYlWFWKzjGus0kfDzIvIEDZ3/VR/xywAAAAHAGf13RCfwAAIqw5Ba5PHz8VpqcluLmh/yyI4TkAAAAOAZ/ZakJ/AAADAAADAakAAAA0QZvcSahBbJlMFEw3//6MsAAARBTcIA3YxFoakNCI+p0I25VLft9eGC431FJih8zpkmr/VwAAABYBn/tqQn8AACKyKwcTOOGoIdXwLfygAAAAFkGb4EnhClJlMCG//oywAAADAAADA0IAAAAwQZ4eRTRMK/8AAAMBLMSEmo9oABa2jMHjqDnrGjT8IUIaT3Y2CcX2PJq3Nz1Lcec/AAAAHAGePXRCfwAAAwHaiiJvlv8dY5lV9RnevyB54TgAAAAbAZ4/akJ/AAADAdrNRpiZ3hNNAS4iTAdH/hOAAAAAF0GaJEmoQWiZTAhv//6MsAAAAwAAAwNDAAAAEEGeQkURLCv/AAADAAADAQcAAAAOAZ5hdEJ/AAADAAADAakAAAAOAZ5jakJ/AAADAAADAakAAAAtQZpoSahBbJlMCG///oywAAADABOf84W7dCGQYs0o7JoEzMGfdLYWeemyGo2AAAAAEEGehkUVLCv/AAADAAADAQcAAAAOAZ6ldEJ/AAADAAADAakAAAAOAZ6nakJ/AAADAAADAakAAABoQZqsSahBbJlMCGf//jhAAAEO/vgI9Vw4dCaMcz1troTJ1kRPvrxkUQHFkZd1YWsD9sTXO3Xtz0bDduuim1fAl687CZTEnM4IePrdIIOnjj2TozeYE+9aTLtMbO4Mdo/STUy52QNEFOEAAAAfQZ7KRRUsK/8AAAMAcWIx/cOrQBe562LLtmjt5crYZQAAAA4Bnul0Qn8AAAMAAAMBqQAAABsBnutqQn8AAAT5PEtSuJKrZGkfW5zY4u05HLEAAAAjQZrwSahBbJlMCFf//eEAAAMAON/S/2cu1tAChFmVvtUA3oAAAAAqQZ8ORRUsK/8AABYjSHEVCzK4kjfu+Z9NNRFeWYdtT5SNNRavRdDOXjKBAAAAIwGfLXRCfwAAIsM+DBtnjaQBFNy/7Y2tYpgl2VFe8MydATlgAAAAHAGfL2pCfwAAIrInQ4dLl/gNO4u7y+zlbJOb/z8AAAA0QZs0SahBbJlMCG///oywAABEEfGACc8qXQBSF0rD2cmB+4voPjnULKotFw4iCcQR2/VFBwAAACxBn1JFFSwr/wAAFiVYVSVj3CmwnXAC2axGAULDlD6DYFozxjH+uc/HTNY5YQAAABwBn3F0Qn8AACKsOQWuTx8/FaaneW/cgjKFzOWBAAAAGgGfc2pCfwAABPk+YOJnHIY6jp2dQBjCEfnwAAAAF0GbeEmoQWyZTAhv//6MsAAAAwAAAwNCAAAAE0GflkUVLCv/AAADAAI1P785V5EAAAAkAZ+1dEJ/AAADALNOjOJ7sC/YyCscIer1yRy5uX+jrvMFmwygAAAAEAGft2pCfwAAAwADiv/Fb0AAAAAdQZu8SahBbJlMCG///oywAABGem9PdgF/7OKz+4EAAAASQZ/aRRUsK/8AAAMAAjxT8hvRAAAAEAGf+XRCfwAAAwADiRR7iYEAAAAQAZ/7akJ/AAADAAOK/8VvQAAAABdBm+BJqEFsmUwIb//+jLAAAAMAAAMDQgAAABJBnh5FFSwr/wAAAwACPFPyG9EAAAAQAZ49dEJ/AAADAAOJFHuJgAAAABABnj9qQn8AAAMAA4r/xW9AAAAAWEGaJEmoQWyZTAhv//6MsAAACcUNfU3BAAFd/agbi3WdJTNMKFVmUCgbUTBCXlzIAMvP4IeiTl5lLtS7AH1e6Y16gWUXKCpy9qhGIdUu122c2H387KrlkhEAAAAeQZ5CRRUsK/8AAAMAcWIx+Vv+4MMW8f+cq6FY2Bj4AAAAEgGeYXRCfwAAAwC6eiAu4HiLgQAAAB8BnmNqQn8AAAMB1TltkAIFJw4HLQRU2FFZ8UrSkX5RAAAAHEGaaEmoQWyZTAhn//44QAAADcn9PKYUB2z3IQsAAAAiQZ6GRRUsK/8AAAMDJbvqkcySpUUhnGXXFcJPVeDTB70vvQAAABsBnqV0Qn8AAAT4XEr7cbYGSsTahyJoj1U0v5QAAAAbAZ6nakJ/AAADAdrNRnAdDA0Y1We527NMI/KBAAAAF0GarEmoQWyZTAhX//3hAAADAAADADFhAAAAH0GeykUVLCv/AAADAyW77JYXIODO5lT+2YERM9QMflAAAAAaAZ7pdEJ/AAAE+FxK+3HYHZkNAziER0uluVgAAAAbAZ7rakJ/AAADAdrNRnAdDA0Y1We527NMI/KBAAAAJ0Ga7kmoQWyZTBRMN//+jLAAAEQC9/mg5pCFdI4JAU6Zqyy9DUDZgAAAABQBnw1qQn8AACKyKwcTOOGoI8CFgQAAABZBmxJJ4QpSZTAhv/6MsAAAAwAAAwNCAAAAJUGfMEU0TCv/AAADAG+zj+HFdaKaibShHqr9aN+5bnd3Dftf/KEAAAAaAZ9PdEJ/AAADALWLbzJdB13D40fYZfpm3oEAAAAZAZ9RakJ/AAADALWnzBxed+GDpOEx6P35QQAAABdBm1ZJqEFomUwIb//+jLAAAAMAAAMDQwAAAB5Bn3RFESwr/wAAAwBxdxz4QJv6dCz+uDtQAGLO3oAAAAAaAZ+TdEJ/AAADALWLbzJdB13D40fYZfpm3oAAAAAZAZ+VakJ/AAADALWnzBxed+GDpOEx6P35QQAAABdBm5lJqEFsmUwIT//8hAAAAwAAAwDAgAAAABBBn7dFFSwn/wAAAwAAAwGpAAAADgGf2GpCfwAAAwAAAwGpAAABsGWIggAEP/73Tr8Cm0WXagOSVwr2yqQmWblSawHypgAAAwAAAwAAAwLa9HiTO+TU8TYAAAMBBwAoYVMRISAUsbwqBKij/OG7zyAnzEjuCvi6ef1AMNicld5oQhb2F7dMMQAtaXYhHFpS3YnXtaexPm0eCpzmSdrnOYx8H8UVcLfASmwhL9Cs8gB3wKav9wXCrDWsMuGErot0EmlsIFY/rQ14Ws4UqxksZ5CGZ/olbjYkeBArM9wg3KnbLyD7R1p6MY/CtD75nMXwlO3ZYyOKQvO2zpbebh4srNrzMe9W/87WFM7d2jJUfLosmpRcylF7qTOw2EvfBCoyQmmN3sxPjT1N8sLQvTMUxuTzrOhpRSu2Z4OFvwa2+tUsZMAbQ3EBL9acCKZQ1sM+g2eXU0Rc22HZWCHUSRQ3LjfTC5TegkTVs3GKDNM/dWxQpRKiKzY8HIRGFBZbBmFmBYHPaWUx9QHDISIGRqk1GWAOvJ2Fmcn50jMuMiwUM46VOeJwSxQEOUz4JPaEfvMPc29giG6b5XkV9Se8l+xhdm8j9QT49tB0V/rhTdmvIAAAAwAAAwAh4QAAAB5BmiRsQ3/+jLAAAAMAEwX5LgBuapQwqz3/ed9gbMEAAAAQQZ5CeIV/AAADAAYgppSJgAAAABABnmF0Qn8AAAMACasPFKSAAAAADgGeY2pCfwAAAwAAAwGpAAAAWkGaaEmoQWiZTAhv//6MsAAAGg+7AgBbHlg6peN2xeYAh4brw0hs3TQt9PtD8L7zMf/kHoNDvzS4A+gXPdCTUHMfEdXG+TtvTAdreTyP31Zf4dwiCOikQ4fEQAAAACBBnoZFESwr/wAAAwMlMc2YVI2wkdxa4F2xAABH6/shsAAAAA4BnqV0Qn8AAAMAAAMBqQAAACoBnqdqQn8AAAMB2s1TJBvtucMDl1V7fXCn+NQAQAUoKnGolGNp4AOj2FgAAAAnQZqsSahBbJlMCGf//jhAAABk/PR5TH1OLo89sBQNBCoDTs2bVhvRAAAAIkGeykUVLCv/AAAILAqhXLULLxI/afyDDoWXuNRAwkDmsqEAAAAcAZ7pdEJ/AAANLhLzJY+PpNGcwKKu7AAYw/+MWAAAABoBnutqQn8AAAMB2s1GmJneE1uKipCO2TDIbQAAACBBmvBJqEFsmUwIX//98QAAAwAAGd5VdJ7SCIXDC8rEwAAAACJBnw5FFSwr/wAAAwMlu+yWFyCb8A1hwERSXyfDUHX5WGPhAAAAGwGfLXRCfwAABPhbeZLHhMlnoo3yWoADNt/KGwAAABoBny9qQn8AAAMB2s1GmJneE1uKipCO2TDIbAAAAFJBmzRJqEFsmUwIb//+jLAAAEQC/DEBM+Vk6vq34Vk+sRq3aaqo8yEiqcu02BG9pKSvh8QEiEKJ6dpKUOcEAE9wOgRWmsS8T6C1v2Nyhu88wyE9AAAAL0GfUkUVLCv/AAAWLE5tHby0ZCOOfNu5hUr2y59nAqY8hgAWwdY5UtVSJedKA+DhAAAALQGfcXRCfwAAAwCz4e+AaHwALePS+e6iqd4M88RGq39NrHuc//RRNgxv5E9b0AAAAB0Bn3NqQn8AACKyKw3C/RTCtRI3SdlXbJBEBK17/QAAACNBm3hJqEFsmUwIZ//+OEAAACbfBESWFw79TLuWdTc8sQRmFAAAACZBn5ZFFSwr/wAAFjCfZMP/tU4BA3TP0eFBifi8FwCbYJUESaJE+QAAAB4Bn7V0Qn8AACKsOQduGw1PLXgooRc+8ftjJyca/5kAAAAdAZ+3akJ/AAAisisHEzunAPw0P9QF4IE1uOmO29EAAAAfQZu8SahBbJlMCFf//eEAAAMD38xF8JZnpCSlaMOVfQAAACNBn9pFFSwr/wAAFjCcHWtfCYgupfpdeXguwPGoo2AoYBZj4AAAAB0Bn/l0Qn8AACKsOQWuT3hBhQDFtBXiCAu2d0PygAAAABwBn/tqQn8AACKyKwcTO6cA/DQ/1AXggAgsWrb1AAAAMEGb4EmoQWyZTAhv//6MsAAACc+9mLvNoHAhi5823G2Fy4855xJOPP/BJ+R5BCDZoAAAACJBnh5FFSwr/wAAFjCbP2JDh2Xwll+q6AVSareD8CLudregAAAAHgGePXRCfwAAIqv4W41ixRl0FwH0Lo02AADv0UfygQAAABUBnj9qQn8AACKyKwcTO6cA/DQipL0AAAAXQZokSahBbJlMCG///oywAAADAAADA0MAAAAiQZ5CRRUsK/8AAAMDJXzSu3xoptnK54adDNgSUbADNEmv5QAAABwBnmF0Qn8AAAMB2op4ToGN/DTaP/GrJAgUx1G9AAAAGwGeY2pCfwAABPk+YbhfopaGIdsVlsAMhFxMfQAAABdBmmhJqEFsmUwIb//+jLAAAAMAAAMDQgAAACJBnoZFFSwr/wAAAwMlu+yYg3x+hnWkea6FppysAS7RbY+AAAAAHAGepXRCfwAAAwHainhOgY38NNo/8askCBTHUb0AAAAbAZ6nakJ/AAAE+T5huF+iloYh2xWWwAyEXEx8AAAAF0GarEmoQWyZTAhv//6MsAAAAwAAAwNDAAAAEkGeykUVLCv/AAADAHQ3HcAVcQAAABABnul0Qn8AAAMAugt+wKuAAAAAEAGe62pCfwAAAwC6ZqFAh4EAAAAWQZrwSahBbJlMCGf//jhAAAADAAAMqAAAABJBnw5FFSwr/wAAAwB0Nx3AFXEAAAAQAZ8tdEJ/AAADALoLfsCrgQAAABABny9qQn8AAAMAumahQIeAAAAAQ0GbNEmoQWyZTAhP//yEAAAPJaZgWz33YYe9Kyx1f67sNfILYQNbJE/S37tsFvpG0c7MzWKY14A4IUaQs8G6rHrEe8AAAAAoQZ9SRRUsK/8AAAMBLeULhR2a8wmfjyAQgOVMmJDWYMs0UAiVzAXFgQAAABABn3F0Qn8AAAMAugt+wKuAAAAAHAGfc2pCfwAABNZHlePstgXGvnNliGZLQuCUwYMAAAAyQZt1SahBbJlMCE///IQAAA8lpmA/lamFc7kl7tdv9DyHTet1EIre+ZgAhAADOg6/3iwAAADGQZuZSeEKUmUwIV/94QAABBNVddkAklNQoPDSw4InvQbKDOkrqHMRjDJBcZuMa08brNtcDnUhIFAQGt6btk6lBC0XKwEfdVRqj1bnf8HH45RDcRWdaxDIiNwJ3TCj6q6TQa2hgoL2aljghACS6HsYFSB1arMesCR0kWLF324FYuoF/vb0QYOVtcNLtn0pgYl0MBe1G3x3QYCM/2wae/QS8lN3TJ7XZNj5PYiUeUu1K8Jq6/hhzjLJr98YBo8wUL5JGcB1uAtBAAAAOkGft0U0TCv/AAAWtSrHmabJh/8NS0mtm3gryyu8ARfcYIZfLm6zX0wT2Az7XzvN6XrffF/11Y6iGIEAAAAhAZ/WdEJ/AAAjq/f5UQsK+gFobByBvIr7w2GEvFkXKLHBAAAAGwGf2GpCfwAABR0wDhuUGuLj7QEjM/ILcxk+fQAAAHlBm91JqEFomUwIV//94QAAAwGTH1ogU5tM3oOtqGWX/EGvWwmAPpIqhOHAk1u+NVDS6fJV63r5uFi+mM3VYWI5YST3CnHLPCFr19/3PddnEnL16sYHwq+5tPxJOQSg/LOJuNhHGr5rVCZ6IV2mGUkpzRE/MgA3Fa9MAAAAI0Gf+0URLCv/AAAIa/rnG+QhWIEzCaI3kfA6oBGCAT2Pm1Y6AAAAHQGeGnRCfwAADS4VwnQMcqIsrEvpQQpY0lvXjtcdAAAADgGeHGpCfwAAAwAAAwGpAAAAXkGaAUmoQWyZTAhX//3hAAADAZFkS1e+x5PjBjGUmOT0dLo74fR9f9n2UP4ocfu2Se3l17YA2qrzoEQGmS6nVin3ULDnhIXtfBrf2v32EDHHQGCsoviZF0K9K4fGyIwAAAAnQZ4/RRUsK/8AAAhr+ucbzUGuiALBg+Pq+e921mFW4wQYw6GXnE2ZAAAAHwGeXnRCfwAADX4A02TOVew3QtSeCy+eHOOKhe4mL5kAAAAlAZ5AakJ/AAADAAqJAUYJYE4Vvh9vXTgAhnFPKj2LiIOpZE9nwQAAAGZBmkVJqEFsmUwIX//98QAAAwKfAp7avAWqhIHZ0IsXPuqqAIT9dRBp6bITq4vmd1pVckFs0WFEjn8FCl2MAf0pviegXHJZPrk3o6BclA7D5WU4Ez+rbvb1Mtb9TpGzJeWyONo12fgAAAAkQZ5jRRUsK/8AABa1KzdrWl55SvyoFU4LhzGN1rUYhPaFt9mAAAAAHgGegnRCfwAAI6v4W3gSnWgjiCXJXDmdveHUaDv2wQAAABIBnoRqQn8AAAMB23/pQhXgScAAAAB4QZqJSahBbJlMCGf//jhAAABm7chOD5wr7gPRL7h5+ABtvarsecIiiPv6aiteINLZg3iYXbjsC+cbNcr/0kdsG1sWV2Exs4gqOhD9cK7r65AAa2kSHVZFcoU6gI5z9JFCfWmNxM2aM2WEDzusH4J2IgToCf/h+xfAAAAAIUGep0UVLCv/AAADAzkweb+2xRcdMYIpkI0LmIWUhXWmzQAAABIBnsZ0Qn8AAAMB2opFyhPAk4AAAAAcAZ7IakJ/AAAFHTAOG5Qa4uPtATZvh+wM6s7YsQAAAB1Bms1JqEFsmUwIX//98QAAAwAAQz/hM49LX0rxJwAAABBBnutFFSwr/wAAAwAAAwEHAAAADgGfCnRCfwAAAwAAAwGpAAAADgGfDGpCfwAAAwAAAwGpAAAAQkGbEUmoQWyZTAhf//3xAAADACOZstGkhXzwBDWgW02WLEAbYZnQB6m2/+x+1L0N2jTeh+1bcD0QaOvtHYMv2BaPlwAAACNBny9FFSwr/wAAAwMv7kEEeFWqbluQRLIImVcSTWpjRorZgQAAABoBn050Qn8AAAUcW3mST3cpJIm4MSBsrEwuAwAAABMBn1BqQn8AAAUfNNWxrLApNDZgAAAAQUGbVUmoQWyZTAhv//6MsAAARiXhw8l3AU/qqUa4/+W3IVjqTGpqVGjsHFcvNy+Hc81Spi4+q8wyDxsdq0S35wuBAAAAJkGfc0UVLCv/AAAWtSs3M4QoK7f8V0jp1dZUXGexzKAVdB01vEe+AAAAHAGfknRCfwAAI8MXaKmd8cm46zCI6ozasNNaOWEAAAAZAZ+UakJ/AAAFHT5g4G3b8T8RGfkotHMduAAAABZBm5lJqEFsmUwIZ//+OEAAAAMAAAypAAAAEUGft0UVLCv/AAAIMU/IAB3RAAAADgGf1nRCfwAAAwAAAwGpAAAADgGf2GpCfwAAAwAAAwGpAAAAXUGb3UmoQWyZTAhf//3xAAADAFzYmcVU5fqpUAA4VRy5cp9S04/A07JebKo9oPRpyzhj5u7qOUmUddjeVqL7ezt6dQJaRCJs1bec9slA3PbxxBZ1YqxYiUb6OYc6jAAAAB9Bn/tFFSwr/wAACDFPuOiLpgDSV3+9TBV8O3IG6dbMAAAAHwGeGnRCfwAABPri/+EFCuqEKI8Xl+2V2ki0VfsUVs0AAAAdAZ4cakJ/AAADAdrN+5nzmZXYEXotxVtFh9n25JgAAABFQZoBSahBbJlMCF///fEAAAMCnwV5kCxyOFkiHcF1mXMtyeGGIFC7WCDz+RbgCJ3eIJvl+pcyEmzKRpe9hyprPYXlILyAAAAAJEGeP0UVLCv/AAAWvEPNt9RrQIMrIprKcSirMMXyoO4X355yQQAAABABnl50Qn8AAAMAvuE+wKaBAAAAIQGeQGpCfwAAI7HMCcFkWkegrKsFN03D3jXiPnDeeA+toQAAAFNBmkVJqEFsmUwIZ//+OEAAACanQFqwrjZV1fjAC6bTuAjThJDV0BCNK6/f4FTYGQ8tloI6W2hjMPwQBkaQHMuPNFY/1c55fBlgSB4zOAzV5so7gAAAACBBnmNFFSwr/wAAAwM4TWbyotX/RPsCCugtHosqi2yVAwAAABsBnoJ0Qn8AAAUcUmm1JaariDP8sUvlb93cNs0AAAASAZ6EakJ/AAADALXmmrY12CJgAAAAOkGaiUmoQWyZTAhf//3xAAADACKZs0BxDo7Ff8pnMF6fqIw0xJWePmXANStXw3CwLpak+lLysUIRYMAAAAAhQZ6nRRUsK/8AAAMBKk4ROs5sDdqAy/a0MRgZkKm8rEBBAAAAEwGexnRCfwAAAwHaih5ksfOwd0AAAAAdAZ7IakJ/AAAE991rNrM+feQUInUA/RO7hCTP0QEAAAAxQZrNSahBbJlMCGf//jhAAAAOIeB+7+AEjM1zOyp6/euMnBd7vu2il6xI+K7qEqMy+QAAAB9BnutFFSwr/wAAAwEtgZb3hJ5S7NOxTtaEN/AIIYxAAAAAGwGfCnRCfwAAAwHaih56+jYWko9u2N/Q8LCAgQAAABIBnwxqQn8AAAMACoZqQpg7ukAAAAAyQZsRSahBbJlMCFf//eEAAAMANzO+2yNEFspb8T+K386zhU3m6UAHaGZfkTXOMgF1iIEAAAAjQZ8vRRUsK/8AAAMDI66EFjTT/wrwZTsA2axjuWho1gWwfmEAAAAbAZ9OdEJ/AAADAdqKHnr6NhaSj27Y39DwdZfMAAAAEAGfUGpCfwAAAwAAfx/5AsAAAAA9QZtVSahBbJlMCF///fEAAAMCoK/1F5TAIhFIaGKb/hqTpGbQPEGKbepIJkmYMNjURCBeWY/9D5JQUCpswQAAACdBn3NFFSwr/wAAFrUrNzOEISvuevA4T99MyKdRvD4JjnlR4FpBzfAAAAAdAZ+SdEJ/AAAjq/hbeBKdaCOIEZ65GgPdC/IQN8EAAAAhAZ+UakJ/AAAFDhHH5hj8+69o6k2IMNSfFch2G6RU9PbMAAAAREGbmUmoQWyZTAhv//6MsAAACghdcMQA3ahG7Gk9Fxz/Qyj4rG9R3pYp2EA84Ck4SD/wh0EKI1KSSl7VFILlyfNPPv2BAAAAH0Gft0UVLCv/AAAIMVAoXqz5ManzU8keLsdUqGRCQ78AAAAbAZ/WdEJ/AAAFHFt4ZqHirVdVKjRB5yZgzpJhAAAADgGf2GpCfwAAAwAAAwGpAAAAF0Gb3UmoQWyZTAhv//6MsAAAAwAAAwNCAAAAFEGf+0UVLCv/AAAIMU+yWlH8nazuAAAAKQGeGnRCfwAABPrjBphLhC7NkybKzW7sOOD2AAmE8++n8LgoM1JTDf8HAAAADgGeHGpCfwAAAwAAAwGpAAAAF0GaAUmoQWyZTAhv//6MsAAAAwAAAwNCAAAAFEGeP0UVLCv/AAAIMU+yWlH8nazvAAAADgGeXnRCfwAAAwAAAwGpAAAADgGeQGpCfwAAAwAAAwGpAAAAFkGaRUmoQWyZTAhn//44QAAAAwAADKgAAAAlQZ5jRRUsK/8AAAgxT5cOgCmoHlIDCUNwnJgN47y1gK7HjGynPgAAAB0BnoJ0Qn8AAAMB2op4TZJ1NdgRXSjtxiMiJ5oQEQAAABoBnoRqQn8AAAT5PmG3ZGdtFwnJvv7btWpJgAAAAEpBmolJqEFsmUwIX//98QAAAwBc+UpZn76yVHzP+hYSOgyne4BjsbR7siaDLJw8qz6WVSGqGp4/w3CCdSipOBPMU2nyODLmVca0ZgAAACJBnqdFFSwr/wAACDFPLHpFR0qzEKqtMGlypXPqcAfLDGPnAAAAEAGexnRCfwAAAwADiRR7iYAAAAAaAZ7IakJ/AAADAdrNRs3ZGduIoSzpazLytmEAAABDQZrNSahBbJlMCF///fEAAAMCnwVg4FKS/en0Ld6344EwlIvl8ufxBy3bXhexFNb2z2fvHbyiyWXvzhAlCLR6VWOzYQAAACFBnutFFSwr/wAAFrxDzbfUa0CDJkp+TJSaNibMWGpQv3wAAAAOAZ8KdEJ/AAADAAADAakAAAAfAZ8MakJ/AAAjscwJb6lvdwo0BYJpy03BSoc+x6SqjAAAAD1BmxFJqEFsmUwIb//+jLAAAAoHsHDqEsgBZ2Wh9oX4Jr/05xLh41R0LA8vthnDEdQIreborSbWcoC4FYfNAAAAHkGfL0UVLCv/AAADAzhTCfM1Xla/+QlAXvhZMB2kdQAAABsBn050Qn8AAAUcW3hmo5lSLBYtJISupxiA8GAAAAAOAZ9QakJ/AAADAAADAakAAAAXQZtVSahBbJlMCG///oywAAADAAADA0MAAAAtQZ9zRRUsK/8AAAMDOXzOfdhzD4JAAtmsqSuBGiMPx1QmHqHpn8bYzkX24HvgAAAAGgGfknRCfwAAAwHlih4ZqHirW6mW/Me0G9+DAAAAGQGflGpCfwAABR0+YOBt2/E/ERn5KLRzHbgAAAAXQZuZSahBbJlMCG///oywAAADAAADA0MAAAAQQZ+3RRUsK/8AAAMAAAMBBwAAAA4Bn9Z0Qn8AAAMAAAMBqQAAAA4Bn9hqQn8AAAMAAAMBqQAAABZBm91JqEFsmUwIZ//+OEAAAAMAAAyoAAAAEEGf+0UVLCv/AAADAAADAQcAAAAgAZ4adEJ/AAAE+uMGmC2Cq4FJk2ZZ77YD/pwOKeJ2dt0AAAAOAZ4cakJ/AAADAAADAakAAAAXQZoBSahBbJlMCF///fEAAAMAAAMAHpAAAAAQQZ4/RRUsK/8AAAMAAAMBBwAAAA4Bnl50Qn8AAAMAAAMBqQAAACABnkBqQn8AAAT33VYfQvAuHtB2FeyaEHmtJZRaZmdtwQAAADpBmkVJqEFsmUwIV//94QAABBN4yMDnyyGoeLxoSPE3w92rI51spLYKFL8692D4/H6w9UE2DAwwGUZ8AAAAL0GeY0UVLCv/AAAWvEPNtxXQa0PKWVuEfYAbrWNQe90orMRN7uOx5s0ZFPnrv/tmAAAAHQGegnRCfwAAAwHbXHwgYHptz9otUduSj5I2phARAAAAHwGehGpCfwAAI78EJxLJcEZR5snbYRN8LlpOooqpYckAAABDQZqJSahBbJlMCF///fEAAAMCoRoZ1Jdq6onFM5xywgVjOZ9bAzfUP/zANHmHowQaovZvStw8/R9SraLnpjjA4WL6xQAAACRBnqdFFSwr/wAAFrUrN2ta/0MBrzQhHA2ofFlI1qSyQKeXZJkAAAAWAZ7GdEJ/AAAjq/hbeBKdaCOJCo4JWAAAABsBnshqQn8AAAMB2s3w7Vzmxkf3S3lsiJFWkmEAAAA+QZrNSahBbJlMCG///oywAABGFMCGaDDJ1BSy3/ACE98Y7wlEElVKGHmABrVjR0h2mRnRKbugXbzwV7zhCbMAAAAdQZ7rRRUsK/8AABa1KzdrWl64ooPCMLA53MeahyQAAAAcAZ8KdEJ/AAAjq/hbeBKdaCOIEZ65GgPdC/MrZwAAAA4BnwxqQn8AAAMAAAMBqQAAAEhBmxFJqEFsmUwIb//+jLAAAAoXsPvo6S7+SSEABwILYa97Q1N7h2ZeE9w7G6a4CUB8TC2PODhPCUBQ7bOL7l8YQfuHmC/80sEAAAAcQZ8vRRUsK/8AAAMDOFMKsOF+dEtgLqfrmjGnbwAAABoBn050Qn8AAAUcW3mST3cpJIfH3vXrGBnbMAAAAA4Bn1BqQn8AAAMAAAMBqQAAABdBm1VJqEFsmUwIb//+jLAAAAMAAAMDQwAAABBBn3NFFSwr/wAAAwAAAwEHAAAAHAGfknRCfwAAI8CZ3elekWHdGCIGkYEPtunENmEAAAAOAZ+UakJ/AAADAAADAakAAAAXQZuZSahBbJlMCG///oywAAADAAADA0MAAAAQQZ+3RRUsK/8AAAMAAAMBBwAAAA4Bn9Z0Qn8AAAMAAAMBqQAAAA4Bn9hqQn8AAAMAAAMBqQAAABZBm91JqEFsmUwIZ//+OEAAAAMAAAyoAAAAEEGf+0UVLCv/AAADAAADAQcAAAAOAZ4adEJ/AAADAAADAakAAAAOAZ4cakJ/AAADAAADAakAAABXQZoBSahBbJlMCF///fEAAAMAIpmzQlcBa8wRpYFvMHJ7WAGfZTKC9eQQRUbg8RFgsZQnOT05sTgobSWzCIMzUnrLSRezS0+1SM/G0I0nwxsG55od4aeVAAAAH0GeP0UVLCv/AAADAS3lC29NRkS7BHBPVLXzhyNoWzEAAAAOAZ5edEJ/AAADAAADAakAAAAeAZ5AakJ/AAAE991q8t192lpHK/XBHaOseV93jGzBAAAAL0GaRUmoQWyZTAhv//6MsAAAAwOkjIvHf8ckAQSG77dt5zaV5hT5Vgy/ASwD/Kt8AAAAHEGeY0UVLCv/AAADAS2BlplC6g7+xI31By17cgIAAAAbAZ6CdEJ/AAADAdqKeE6AkYkoc0V5erqC5sQFAAAADgGehGpCfwAAAwAAAwGpAAAAF0GaiUmoQWyZTAhv//6MsAAAAwAAAwNCAAAAEEGep0UVLCv/AAADAAADAQcAAAAgAZ7GdEJ/AAAE+uMGmC2xdwHIXU1Xd9oGnLJZiaJaPgwAAAAOAZ7IakJ/AAADAAADAakAAAAXQZrNSahBbJlMCG///oywAAADAAADA0MAAAAQQZ7rRRUsK/8AAAMAAAMBBwAAAA4Bnwp0Qn8AAAMAAAMBqQAAACABnwxqQn8AAAT33VYfQ2RcOzMTicO3PGJYVbuqIeHbgAAAABZBmxFJqEFsmUwIZ//+OEAAAAMAAAypAAAAEEGfL0UVLCv/AAADAAADAQcAAAAOAZ9OdEJ/AAADAAADAakAAAAOAZ9QakJ/AAADAAADAakAAAA2QZtVSahBbJlMCF///fEAAAMAIpmzQlcBa8wRpYFvMHJ7WAGfZTKC9eQQRUbeqsC3drrPOx0lAAAAHkGfc0UVLCv/AAADAS3lC29NRkS7BHBPVLXzC4aQEAAAACgBn5J0Qn8AAAT64waneuLCYCy1cUCjomOKzwAPevQe7yhVIPIYb/g5AAAAHQGflGpCfwAABPfdavLdfdpaRyv1wR2jrSff6XswAAAAJkGbmUmoQWyZTAhf//3xAAADAA18oaQA5VbSxgSl83FACzWnE/HhAAAAHkGft0UVLCv/AAADAS4qBQuRLSGAORHd4GjmDct74QAAABsBn9Z0Qn8AAAMB2op4ToCRiShzRXl6uoLmxAUAAAAQAZ/YakJ/AAADAdt/4oBqQQAAADFBm91JqEFsmUwIV//94QAABBN4yMDuftcG/JY55GWo4By21P8VxeASYsclog/dMoMyAAAAJUGf+0UVLCv/AAAWvEPNtxXNggblZNUaNS0d9TVFHiUd1HVGUdAAAAAaAZ4adEJ/AAADALWLnCdASMZo7xQo95z17bkAAAAfAZ4cakJ/AAAjscwJb6lvdwnuF+NUqrP/KNb0CWzkgAAAADVBmgFJqEFsmUwIV//94QAABBTWbHoJQJjPxvu6lpdMcENuNIJcRiAHbBVdgaOgeyVBrUMfswAAACNBnj9FFSwr/wAAFrUrN2tbBOSMyFOOD6I3LELiEzenz/4b5wAAABYBnl50Qn8AACOr+Ft4Ep1oI4kKjglZAAAAGwGeQGpCfwAAAwHazUbNjIjNhAElw7XCtfhbMQAAADRBmkVJqEFsmUwIV//94QAABBUdn4/sqRSDX5iCVPl3Hq96vFaKkqIJuiARxhMABB1QT+zAAAAAHkGeY0UVLCv/AAAWtSs3a1peuJ2aNIjZBAS4X7cZyQAAAB0BnoJ0Qn8AACOr+Ft4Ep1oKW/U189P8jr8t9KlQQAAAA4BnoRqQn8AAAMAAAMBqQAAAC5BmolJqEFsmUwIV//94QAABBUdn4/r3J+kxWCSCncRia79HZeSHWZsBEu0D9mAAAAAJkGep0UVLCv/AAAWvEPNtxaDY6yFhhj4CMFY1UEHa2orBo4hw+fNAAAAIAGexnRCfwAAI7iv3FV7qqyaf4a9dgUpn12whdnfNhVGAAAAGQGeyGpCfwAAI7HMCW+pb7HwWO4XZFOKPWEAAAApQZrNSahBbJlMCGf//jhAAAENPreJCl3gzH4keeXhKP2/gAV56zyqBd0AAAAlQZ7rRRUsK/8AABa1KzdrYSkhaDDOk8Q+T+om7SKpw9+SCQMb4AAAAB0Bnwp0Qn8AACOr+Ft4Ep1oKW/U189P8jr8t9KlQQAAABwBnwxqQn8AAAUdPmDgbpnT+rDq1PQTJZHgRlYoAAAAJkGbEUmoQWyZTAhf//3xAAADACOmvotkJfhq2aKFmRr8AFRZWkmzAAAAIEGfL0UVLCv/AAADATXk5rwvxHrh/OeWiGvIXbT6PQ75AAAAHAGfTnRCfwAAI8CZ3elekWHdGCIGkYEJw6jwQS8AAAAZAZ9QakJ/AAAFG2Hq8mACfZl8Lt9niTDnbgAAADJBm1VJqEFsmUwIb//+jLAAAAMDuoyKakJaLtNtzQAC5PueOZSnKZedAtJGzOpe5xLx4QAAACBBn3NFFSwr/wAAAwE1gUNpmXzfVACxYOqY5v0n7u+2YAAAABoBn5J0Qn8AAAMB5YoeGah4q1uplvzHtBvfgwAAAA4Bn5RqQn8AAAMAAAMBqQAAABZBm5lJqEFsmUwIZ//+OEAAAAMAAAypAAAAEEGft0UVLCv/AAADAAADAQcAAAAcAZ/WdEJ/AAAjwJnd6V6RYd0YIgaRgQ+26cQ2YQAAAA4Bn9hqQn8AAAMAAAMBqQAAAVhliIQAP//+9vD+BTY7mNCXEc3onTMfvxW4ujQ3vc4AAAMAAAMAAAjQi8FtY7AtjPgAAAWoAOQHiGKGAImKsVAleQPA6xSAK1oILlIIPkYzFfIJ0V9IDC3ChHvIwrKypPIQp2VYF+3VYQaYo4/TQ3eNI3p7iEmydo6TvlIAE2EB0dk8ZPDyUwSIXlMiN/5lOEhRhjEfFiysEQ3hzmbee9AOXiN0XAp//YC51qQHZHgOefwxByh3MVbBLDMXhNN6wTP0BJBu9LpNbXp6f4kHVeJadGqGkZ7AIUuw8KpWbl6Ks+RVw1nBqRomqVXadMVxt6gUc3Z+pur2szVJeRiV8MkeHrtdZcRk0J+kuLdRmaJ13/uNTs7dZKk2trASgU4IE5ij059YErs1K1B+hP+Jo7MQvFvhpykNMNggLofcqdUCQJuOHBBdE7uiTX4MfTdmA2AAQQAAAwAChgAAACdBmiRsQn/8hAAAAwAAlrVyB2Q8P0HvJl1OpFHolD2rVumPbapVLKAAAAAvQZ5CeIT/AAADAAI7gBXHi1mijPqmAAADABUGS0g9lVGtUmSKzN8AAZfa0ZYAGfEAAAAcAZ5hdEJ/AAADAAFP/Hz/gZd28nBAAAldqlUOmAAAAB0BnmNqQn8AAAMAAVC5mmIoPac8FGAAAHfrRljpgAAAMiVtb292AAAAbG12aGQAAAAAAAAAAAAAAAAAAAPoAACC3AABAAABAAAAAAAAAAAAAAAAAQAAAAAAAAAAAAAAAAAAAAEAAAAAAAAAAAAAAAAAAEAAAAAAAAAAAAAAAAAAAAAAAAAAAAAAAAAAAAAAAAACAAAxT3RyYWsAAABcdGtoZAAAAAMAAAAAAAAAAAAAAAEAAAAAAACC3AAAAAAAAAAAAAAAAAAAAAAAAQAAAAAAAAAAAAAAAAAAAAEAAAAAAAAAAAAAAAAAAEAAAAACYAAAAZAAAAAAACRlZHRzAAAAHGVsc3QAAAAAAAAAAQAAgtwAAAQAAAEAAAAAMMdtZGlhAAAAIG1kaGQAAAAAAAAAAAAAAAAAADwAAAfaAFXEAAAAAAAtaGRscgAAAAAAAAAAdmlkZQAAAAAAAAAAAAAAAFZpZGVvSGFuZGxlcgAAADBybWluZgAAABR2bWhkAAAAAQAAAAAAAAAAAAAAJGRpbmYAAAAcZHJlZgAAAAAAAAABAAAADHVybCAAAAABAAAwMnN0YmwAAACWc3RzZAAAAAAAAAABAAAAhmF2YzEAAAAAAAAAAQAAAAAAAAAAAAAAAAAAAAACYAGQAEgAAABIAAAAAAAAAAEAAAAAAAAAAAAAAAAAAAAAAAAAAAAAAAAAAAAAAAAAAAAY//8AAAAwYXZjQwFkAB7/4QAYZ2QAHqzZQJgzoQAAAwABAAADADwPFi2WAQAFaOvnLIsAAAAYc3R0cwAAAAAAAAABAAAD7QAAAgAAAAAkc3RzcwAAAAAAAAAFAAAAAQAAAPsAAAH1AAAC7wAAA+kAAB9gY3R0cwAAAAAAAAPqAAAAAQAABAAAAAABAAAKAAAAAAEAAAQAAAAAAQAAAAAAAAABAAACAAAAAAEAAAoAAAAAAQAABAAAAAABAAAAAAAAAAEAAAIAAAAAAQAACgAAAAABAAAEAAAAAAEAAAAAAAAAAQAAAgAAAAABAAAKAAAAAAEAAAQAAAAAAQAAAAAAAAABAAACAAAAAAEAAAoAAAAAAQAABAAAAAABAAAAAAAAAAEAAAIAAAAAAQAACgAAAAABAAAEAAAAAAEAAAAAAAAAAQAAAgAAAAABAAAKAAAAAAEAAAQAAAAAAQAAAAAAAAABAAACAAAAAAEAAAoAAAAAAQAABAAAAAABAAAAAAAAAAEAAAIAAAAAAQAACgAAAAABAAAEAAAAAAEAAAAAAAAAAQAAAgAAAAABAAAKAAAAAAEAAAQAAAAAAQAAAAAAAAABAAACAAAAAAEAAAoAAAAAAQAABAAAAAABAAAAAAAAAAEAAAIAAAAAAQAACgAAAAABAAAEAAAAAAEAAAAAAAAAAQAAAgAAAAABAAAKAAAAAAEAAAQAAAAAAQAAAAAAAAABAAACAAAAAAEAAAoAAAAAAQAABAAAAAABAAAAAAAAAAEAAAIAAAAAAQAACgAAAAABAAAEAAAAAAEAAAAAAAAAAQAAAgAAAAABAAAKAAAAAAEAAAQAAAAAAQAAAAAAAAABAAACAAAAAAEAAAoAAAAAAQAABAAAAAABAAAAAAAAAAEAAAIAAAAAAQAACgAAAAABAAAEAAAAAAEAAAAAAAAAAQAAAgAAAAABAAAKAAAAAAEAAAQAAAAAAQAAAAAAAAABAAACAAAAAAEAAAoAAAAAAQAABAAAAAABAAAAAAAAAAEAAAIAAAAAAQAACgAAAAABAAAEAAAAAAEAAAAAAAAAAQAAAgAAAAABAAAKAAAAAAEAAAQAAAAAAQAAAAAAAAABAAACAAAAAAEAAAoAAAAAAQAABAAAAAABAAAAAAAAAAEAAAIAAAAAAQAACgAAAAABAAAEAAAAAAEAAAAAAAAAAQAAAgAAAAABAAAKAAAAAAEAAAQAAAAAAQAAAAAAAAABAAACAAAAAAEAAAoAAAAAAQAABAAAAAABAAAAAAAAAAEAAAIAAAAAAQAACgAAAAABAAAEAAAAAAEAAAAAAAAAAQAAAgAAAAABAAAKAAAAAAEAAAQAAAAAAQAAAAAAAAABAAACAAAAAAEAAAoAAAAAAQAABAAAAAABAAAAAAAAAAEAAAIAAAAAAQAACgAAAAABAAAEAAAAAAEAAAAAAAAAAQAAAgAAAAABAAAKAAAAAAEAAAQAAAAAAQAAAAAAAAABAAACAAAAAAEAAAoAAAAAAQAABAAAAAABAAAAAAAAAAEAAAIAAAAAAQAACgAAAAABAAAEAAAAAAEAAAAAAAAAAQAAAgAAAAABAAAKAAAAAAEAAAQAAAAAAQAAAAAAAAABAAACAAAAAAEAAAoAAAAAAQAABAAAAAABAAAAAAAAAAEAAAIAAAAAAQAACgAAAAABAAAEAAAAAAEAAAAAAAAAAQAAAgAAAAABAAAKAAAAAAEAAAQAAAAAAQAAAAAAAAABAAACAAAAAAEAAAoAAAAAAQAABAAAAAABAAAAAAAAAAEAAAIAAAAAAQAACgAAAAABAAAEAAAAAAEAAAAAAAAAAQAAAgAAAAABAAAKAAAAAAEAAAQAAAAAAQAAAAAAAAABAAACAAAAAAEAAAoAAAAAAQAABAAAAAABAAAAAAAAAAEAAAIAAAAAAQAACgAAAAABAAAEAAAAAAEAAAAAAAAAAQAAAgAAAAABAAAKAAAAAAEAAAQAAAAAAQAAAAAAAAABAAACAAAAAAEAAAoAAAAAAQAABAAAAAABAAAAAAAAAAEAAAIAAAAAAQAACgAAAAABAAAEAAAAAAEAAAAAAAAAAQAAAgAAAAABAAAKAAAAAAEAAAQAAAAAAQAAAAAAAAABAAACAAAAAAEAAAoAAAAAAQAABAAAAAABAAAAAAAAAAEAAAIAAAAAAQAACgAAAAABAAAEAAAAAAEAAAAAAAAAAQAAAgAAAAABAAAKAAAAAAEAAAQAAAAAAQAAAAAAAAABAAACAAAAAAEAAAoAAAAAAQAABAAAAAABAAAAAAAAAAEAAAIAAAAAAQAACgAAAAABAAAEAAAAAAEAAAAAAAAAAQAAAgAAAAABAAAKAAAAAAEAAAQAAAAAAQAAAAAAAAABAAACAAAAAAEAAAoAAAAAAQAABAAAAAABAAAAAAAAAAEAAAIAAAAAAQAACgAAAAABAAAEAAAAAAEAAAAAAAAAAQAAAgAAAAABAAAKAAAAAAEAAAQAAAAAAQAAAAAAAAABAAACAAAAAAEAAAoAAAAAAQAABAAAAAABAAAAAAAAAAEAAAIAAAAAAQAACgAAAAABAAAEAAAAAAEAAAAAAAAAAQAAAgAAAAABAAAKAAAAAAEAAAQAAAAAAQAAAAAAAAABAAACAAAAAAEAAAoAAAAAAQAABAAAAAABAAAAAAAAAAEAAAIAAAAAAQAACgAAAAABAAAEAAAAAAEAAAAAAAAAAQAAAgAAAAABAAAKAAAAAAEAAAQAAAAAAQAAAAAAAAABAAACAAAAAAEAAAoAAAAAAQAABAAAAAABAAAAAAAAAAEAAAIAAAAAAgAABAAAAAABAAAKAAAAAAEAAAQAAAAAAQAAAAAAAAABAAACAAAAAAEAAAoAAAAAAQAABAAAAAABAAAAAAAAAAEAAAIAAAAAAQAACgAAAAABAAAEAAAAAAEAAAAAAAAAAQAAAgAAAAABAAAKAAAAAAEAAAQAAAAAAQAAAAAAAAABAAACAAAAAAEAAAoAAAAAAQAABAAAAAABAAAAAAAAAAEAAAIAAAAAAQAACgAAAAABAAAEAAAAAAEAAAAAAAAAAQAAAgAAAAABAAAKAAAAAAEAAAQAAAAAAQAAAAAAAAABAAACAAAAAAEAAAoAAAAAAQAABAAAAAABAAAAAAAAAAEAAAIAAAAAAQAACgAAAAABAAAEAAAAAAEAAAAAAAAAAQAAAgAAAAABAAAKAAAAAAEAAAQAAAAAAQAAAAAAAAABAAACAAAAAAEAAAoAAAAAAQAABAAAAAABAAAAAAAAAAEAAAIAAAAAAQAACgAAAAABAAAEAAAAAAEAAAAAAAAAAQAAAgAAAAABAAAKAAAAAAEAAAQAAAAAAQAAAAAAAAABAAACAAAAAAEAAAoAAAAAAQAABAAAAAABAAAAAAAAAAEAAAIAAAAAAQAACgAAAAABAAAEAAAAAAEAAAAAAAAAAQAAAgAAAAABAAAKAAAAAAEAAAQAAAAAAQAAAAAAAAABAAACAAAAAAEAAAoAAAAAAQAABAAAAAABAAAAAAAAAAEAAAIAAAAAAQAACgAAAAABAAAEAAAAAAEAAAAAAAAAAQAAAgAAAAABAAAKAAAAAAEAAAQAAAAAAQAAAAAAAAABAAACAAAAAAEAAAoAAAAAAQAABAAAAAABAAAAAAAAAAEAAAIAAAAAAQAACgAAAAABAAAEAAAAAAEAAAAAAAAAAQAAAgAAAAABAAAKAAAAAAEAAAQAAAAAAQAAAAAAAAABAAACAAAAAAEAAAoAAAAAAQAABAAAAAABAAAAAAAAAAEAAAIAAAAAAQAACgAAAAABAAAEAAAAAAEAAAAAAAAAAQAAAgAAAAABAAAKAAAAAAEAAAQAAAAAAQAAAAAAAAABAAACAAAAAAEAAAoAAAAAAQAABAAAAAABAAAAAAAAAAEAAAIAAAAAAQAACgAAAAABAAAEAAAAAAEAAAAAAAAAAQAAAgAAAAABAAAKAAAAAAEAAAQAAAAAAQAAAAAAAAABAAACAAAAAAEAAAoAAAAAAQAABAAAAAABAAAAAAAAAAEAAAIAAAAAAQAACgAAAAABAAAEAAAAAAEAAAAAAAAAAQAAAgAAAAABAAAKAAAAAAEAAAQAAAAAAQAAAAAAAAABAAACAAAAAAEAAAoAAAAAAQAABAAAAAABAAAAAAAAAAEAAAIAAAAAAQAACgAAAAABAAAEAAAAAAEAAAAAAAAAAQAAAgAAAAABAAAKAAAAAAEAAAQAAAAAAQAAAAAAAAABAAACAAAAAAEAAAoAAAAAAQAABAAAAAABAAAAAAAAAAEAAAIAAAAAAQAACgAAAAABAAAEAAAAAAEAAAAAAAAAAQAAAgAAAAABAAAKAAAAAAEAAAQAAAAAAQAAAAAAAAABAAACAAAAAAEAAAoAAAAAAQAABAAAAAABAAAAAAAAAAEAAAIAAAAAAQAACgAAAAABAAAEAAAAAAEAAAAAAAAAAQAAAgAAAAABAAAKAAAAAAEAAAQAAAAAAQAAAAAAAAABAAACAAAAAAEAAAoAAAAAAQAABAAAAAABAAAAAAAAAAEAAAIAAAAAAQAACgAAAAABAAAEAAAAAAEAAAAAAAAAAQAAAgAAAAABAAAKAAAAAAEAAAQAAAAAAQAAAAAAAAABAAACAAAAAAEAAAoAAAAAAQAABAAAAAABAAAAAAAAAAEAAAIAAAAAAQAACgAAAAABAAAEAAAAAAEAAAAAAAAAAQAAAgAAAAABAAAKAAAAAAEAAAQAAAAAAQAAAAAAAAABAAACAAAAAAEAAAoAAAAAAQAABAAAAAABAAAAAAAAAAEAAAIAAAAAAQAACgAAAAABAAAEAAAAAAEAAAAAAAAAAQAAAgAAAAABAAAKAAAAAAEAAAQAAAAAAQAAAAAAAAABAAACAAAAAAEAAAoAAAAAAQAABAAAAAABAAAAAAAAAAEAAAIAAAAAAQAACgAAAAABAAAEAAAAAAEAAAAAAAAAAQAAAgAAAAABAAAKAAAAAAEAAAQAAAAAAQAAAAAAAAABAAACAAAAAAEAAAoAAAAAAQAABAAAAAABAAAAAAAAAAEAAAIAAAAAAQAACgAAAAABAAAEAAAAAAEAAAAAAAAAAQAAAgAAAAABAAAKAAAAAAEAAAQAAAAAAQAAAAAAAAABAAACAAAAAAEAAAoAAAAAAQAABAAAAAABAAAAAAAAAAEAAAIAAAAAAQAACgAAAAABAAAEAAAAAAEAAAAAAAAAAQAAAgAAAAABAAAKAAAAAAEAAAQAAAAAAQAAAAAAAAABAAACAAAAAAEAAAoAAAAAAQAABAAAAAABAAAAAAAAAAEAAAIAAAAAAQAACgAAAAABAAAEAAAAAAEAAAAAAAAAAQAAAgAAAAABAAAKAAAAAAEAAAQAAAAAAQAAAAAAAAABAAACAAAAAAEAAAoAAAAAAQAABAAAAAABAAAAAAAAAAEAAAIAAAAAAgAABAAAAAABAAAKAAAAAAEAAAQAAAAAAQAAAAAAAAABAAACAAAAAAEAAAoAAAAAAQAABAAAAAABAAAAAAAAAAEAAAIAAAAAAQAACgAAAAABAAAEAAAAAAEAAAAAAAAAAQAAAgAAAAABAAAKAAAAAAEAAAQAAAAAAQAAAAAAAAABAAACAAAAAAEAAAoAAAAAAQAABAAAAAABAAAAAAAAAAEAAAIAAAAAAQAACgAAAAABAAAEAAAAAAEAAAAAAAAAAQAAAgAAAAABAAAKAAAAAAEAAAQAAAAAAQAAAAAAAAABAAACAAAAAAEAAAoAAAAAAQAABAAAAAABAAAAAAAAAAEAAAIAAAAAAQAACgAAAAABAAAEAAAAAAEAAAAAAAAAAQAAAgAAAAABAAAKAAAAAAEAAAQAAAAAAQAAAAAAAAABAAACAAAAAAEAAAoAAAAAAQAABAAAAAABAAAAAAAAAAEAAAIAAAAAAQAACgAAAAABAAAEAAAAAAEAAAAAAAAAAQAAAgAAAAABAAAKAAAAAAEAAAQAAAAAAQAAAAAAAAABAAACAAAAAAEAAAoAAAAAAQAABAAAAAABAAAAAAAAAAEAAAIAAAAAAQAACgAAAAABAAAEAAAAAAEAAAAAAAAAAQAAAgAAAAABAAAKAAAAAAEAAAQAAAAAAQAAAAAAAAABAAACAAAAAAEAAAoAAAAAAQAABAAAAAABAAAAAAAAAAEAAAIAAAAAAQAACgAAAAABAAAEAAAAAAEAAAAAAAAAAQAAAgAAAAABAAAKAAAAAAEAAAQAAAAAAQAAAAAAAAABAAACAAAAAAEAAAoAAAAAAQAABAAAAAABAAAAAAAAAAEAAAIAAAAAAQAACgAAAAABAAAEAAAAAAEAAAAAAAAAAQAAAgAAAAABAAAKAAAAAAEAAAQAAAAAAQAAAAAAAAABAAACAAAAAAEAAAoAAAAAAQAABAAAAAABAAAAAAAAAAEAAAIAAAAAAQAACgAAAAABAAAEAAAAAAEAAAAAAAAAAQAAAgAAAAABAAAKAAAAAAEAAAQAAAAAAQAAAAAAAAABAAACAAAAAAEAAAYAAAAAAQAAAgAAAAABAAAKAAAAAAEAAAQAAAAAAQAAAAAAAAABAAACAAAAAAEAAAoAAAAAAQAABAAAAAABAAAAAAAAAAEAAAIAAAAAAQAACgAAAAABAAAEAAAAAAEAAAAAAAAAAQAAAgAAAAABAAAKAAAAAAEAAAQAAAAAAQAAAAAAAAABAAACAAAAAAEAAAoAAAAAAQAABAAAAAABAAAAAAAAAAEAAAIAAAAAAQAACgAAAAABAAAEAAAAAAEAAAAAAAAAAQAAAgAAAAABAAAKAAAAAAEAAAQAAAAAAQAAAAAAAAABAAACAAAAAAEAAAoAAAAAAQAABAAAAAABAAAAAAAAAAEAAAIAAAAAAQAACgAAAAABAAAEAAAAAAEAAAAAAAAAAQAAAgAAAAABAAAKAAAAAAEAAAQAAAAAAQAAAAAAAAABAAACAAAAAAEAAAoAAAAAAQAABAAAAAABAAAAAAAAAAEAAAIAAAAAAQAACgAAAAABAAAEAAAAAAEAAAAAAAAAAQAAAgAAAAABAAAKAAAAAAEAAAQAAAAAAQAAAAAAAAABAAACAAAAAAEAAAoAAAAAAQAABAAAAAABAAAAAAAAAAEAAAIAAAAAAQAACgAAAAABAAAEAAAAAAEAAAAAAAAAAQAAAgAAAAABAAAKAAAAAAEAAAQAAAAAAQAAAAAAAAABAAACAAAAAAEAAAoAAAAAAQAABAAAAAABAAAAAAAAAAEAAAIAAAAAAQAACgAAAAABAAAEAAAAAAEAAAAAAAAAAQAAAgAAAAABAAAKAAAAAAEAAAQAAAAAAQAAAAAAAAABAAACAAAAAAEAAAoAAAAAAQAABAAAAAABAAAAAAAAAAEAAAIAAAAAAQAACgAAAAABAAAEAAAAAAEAAAAAAAAAAQAAAgAAAAABAAAGAAAAAAEAAAIAAAAAAQAACgAAAAABAAAEAAAAAAEAAAAAAAAAAQAAAgAAAAABAAAKAAAAAAEAAAQAAAAAAQAAAAAAAAABAAACAAAAAAEAAAoAAAAAAQAABAAAAAABAAAAAAAAAAEAAAIAAAAAAQAACgAAAAABAAAEAAAAAAEAAAAAAAAAAQAAAgAAAAABAAAKAAAAAAEAAAQAAAAAAQAAAAAAAAABAAACAAAAAAEAAAoAAAAAAQAABAAAAAABAAAAAAAAAAEAAAIAAAAAAQAACgAAAAABAAAEAAAAAAEAAAAAAAAAAQAAAgAAAAABAAAKAAAAAAEAAAQAAAAAAQAAAAAAAAABAAACAAAAAAEAAAoAAAAAAQAABAAAAAABAAAAAAAAAAEAAAIAAAAAAQAACgAAAAABAAAEAAAAAAEAAAAAAAAAAQAAAgAAAAABAAAKAAAAAAEAAAQAAAAAAQAAAAAAAAABAAACAAAAAAEAAAoAAAAAAQAABAAAAAABAAAAAAAAAAEAAAIAAAAAAQAABgAAAAABAAACAAAAAAEAAAoAAAAAAQAABAAAAAABAAAAAAAAAAEAAAIAAAAAAQAACgAAAAABAAAEAAAAAAEAAAAAAAAAAQAAAgAAAAABAAAIAAAAAAIAAAIAAAAAAQAABAAAAAABAAAKAAAAAAEAAAQAAAAAAQAAAAAAAAABAAACAAAAAAEAAAoAAAAAAQAABAAAAAABAAAAAAAAAAEAAAIAAAAAAQAACgAAAAABAAAEAAAAAAEAAAAAAAAAAQAAAgAAAAABAAAKAAAAAAEAAAQAAAAAAQAAAAAAAAABAAACAAAAAAEAAAoAAAAAAQAABAAAAAABAAAAAAAAAAEAAAIAAAAAAQAACgAAAAABAAAEAAAAAAEAAAAAAAAAAQAAAgAAAAABAAAKAAAAAAEAAAQAAAAAAQAAAAAAAAABAAACAAAAAAEAAAoAAAAAAQAABAAAAAABAAAAAAAAAAEAAAIAAAAAAQAACgAAAAABAAAEAAAAAAEAAAAAAAAAAQAAAgAAAAABAAAKAAAAAAEAAAQAAAAAAQAAAAAAAAABAAACAAAAAAEAAAoAAAAAAQAABAAAAAABAAAAAAAAAAEAAAIAAAAAAQAACgAAAAABAAAEAAAAAAEAAAAAAAAAAQAAAgAAAAABAAAKAAAAAAEAAAQAAAAAAQAAAAAAAAABAAACAAAAAAEAAAQAAAAAAQAACgAAAAABAAAEAAAAAAEAAAAAAAAAAQAAAgAAAAABAAAKAAAAAAEAAAQAAAAAAQAAAAAAAAABAAACAAAAAAEAAAoAAAAAAQAABAAAAAABAAAAAAAAAAEAAAIAAAAAAQAACgAAAAABAAAEAAAAAAEAAAAAAAAAAQAAAgAAAAABAAAKAAAAAAEAAAQAAAAAAQAAAAAAAAABAAACAAAAAAEAAAoAAAAAAQAABAAAAAABAAAAAAAAAAEAAAIAAAAAAQAACgAAAAABAAAEAAAAAAEAAAAAAAAAAQAAAgAAAAABAAAKAAAAAAEAAAQAAAAAAQAAAAAAAAABAAACAAAAAAEAAAoAAAAAAQAABAAAAAABAAAAAAAAAAEAAAIAAAAAAQAACgAAAAABAAAEAAAAAAEAAAAAAAAAAQAAAgAAAAABAAAKAAAAAAEAAAQAAAAAAQAAAAAAAAABAAACAAAAAAEAAAoAAAAAAQAABAAAAAABAAAAAAAAAAEAAAIAAAAAAQAACgAAAAABAAAEAAAAAAEAAAAAAAAAAQAAAgAAAAABAAAKAAAAAAEAAAQAAAAAAQAAAAAAAAABAAACAAAAAAEAAAoAAAAAAQAABAAAAAABAAAAAAAAAAEAAAIAAAAAAQAACgAAAAABAAAEAAAAAAEAAAAAAAAAAQAAAgAAAAABAAAKAAAAAAEAAAQAAAAAAQAAAAAAAAABAAACAAAAAAEAAAoAAAAAAQAABAAAAAABAAAAAAAAAAEAAAIAAAAAAQAACgAAAAABAAAEAAAAAAEAAAAAAAAAAQAAAgAAAAABAAAKAAAAAAEAAAQAAAAAAQAAAAAAAAABAAACAAAAAAEAAAoAAAAAAQAABAAAAAABAAAAAAAAAAEAAAIAAAAAAQAACgAAAAABAAAEAAAAAAEAAAAAAAAAAQAAAgAAAAABAAAKAAAAAAEAAAQAAAAAAQAAAAAAAAABAAACAAAAAAEAAAoAAAAAAQAABAAAAAABAAAAAAAAAAEAAAIAAAAAAQAACgAAAAABAAAEAAAAAAEAAAAAAAAAAQAAAgAAAAABAAAKAAAAAAEAAAQAAAAAAQAAAAAAAAABAAACAAAAAAEAAAoAAAAAAQAABAAAAAABAAAAAAAAAAEAAAIAAAAAAQAACgAAAAABAAAEAAAAAAEAAAAAAAAAAQAAAgAAAAABAAAKAAAAAAEAAAQAAAAAAQAAAAAAAAABAAACAAAAAAEAAAoAAAAAAQAABAAAAAABAAAAAAAAAAEAAAIAAAAAAQAACgAAAAABAAAEAAAAAAEAAAAAAAAAAQAAAgAAAAABAAAKAAAAAAEAAAQAAAAAAQAAAAAAAAABAAACAAAAAAEAAAoAAAAAAQAABAAAAAABAAAAAAAAAAEAAAIAAAAAAQAACgAAAAABAAAEAAAAAAEAAAAAAAAAAQAAAgAAAAABAAAKAAAAAAEAAAQAAAAAAQAAAAAAAAABAAACAAAAAAEAAAoAAAAAAQAABAAAAAABAAAAAAAAAAEAAAIAAAAAAQAACgAAAAABAAAEAAAAAAEAAAAAAAAAAQAAAgAAAAABAAAKAAAAAAEAAAQAAAAAAQAAAAAAAAABAAACAAAAAAEAAAoAAAAAAQAABAAAAAABAAAAAAAAAAEAAAIAAAAAAQAACgAAAAABAAAEAAAAAAEAAAAAAAAAAQAAAgAAAAABAAAKAAAAAAEAAAQAAAAAAQAAAAAAAAABAAACAAAAAAEAAAoAAAAAAQAABAAAAAABAAAAAAAAAAEAAAIAAAAAAQAACgAAAAABAAAEAAAAAAEAAAAAAAAAAQAAAgAAAAABAAAKAAAAAAEAAAQAAAAAAQAAAAAAAAABAAACAAAAAAEAAAoAAAAAAQAABAAAAAABAAAAAAAAAAEAAAIAAAAAAQAACgAAAAABAAAEAAAAAAEAAAAAAAAAAQAAAgAAAAABAAAKAAAAAAEAAAQAAAAAAQAAAAAAAAABAAACAAAAAAEAAAoAAAAAAQAABAAAAAABAAAAAAAAAAEAAAIAAAAAAQAACgAAAAABAAAEAAAAAAEAAAAAAAAAAQAAAgAAAAABAAAEAAAAAAEAAAoAAAAAAQAABAAAAAABAAAAAAAAAAEAAAIAAAAAHHN0c2MAAAAAAAAAAQAAAAEAAAPtAAAAAQAAD8hzdHN6AAAAAAAAAAAAAAPtAAAEwwAAAGkAAAAgAAAAFgAAACAAAABfAAAAJwAAABQAAAAgAAAANAAAAC4AAAAyAAAAIQAAAD4AAAAvAAAAFgAAACAAAAAvAAAAJgAAABQAAAAgAAAAKgAAACYAAAAUAAAAIAAAADMAAAAlAAAAHwAAABQAAABdAAAALgAAABwAAAAfAAAAPgAAACQAAAAfAAAAEgAAAB8AAAAnAAAAHgAAAB4AAAAbAAAAFAAAABIAAAASAAAAGwAAABQAAAASAAAAJAAAABsAAAAUAAAAEgAAABIAAAAbAAAAFAAAABIAAAAqAAAASQAAACIAAAASAAAAHwAAACsAAAAhAAAAHgAAABQAAAA8AAAAOAAAABwAAAAiAAAANAAAACcAAAAeAAAAHAAAAD4AAAAmAAAAIAAAABwAAAAmAAAAKgAAACEAAAAhAAAAQwAAACgAAAAbAAAAHwAAADYAAAAmAAAAIwAAABwAAAAvAAAAIgAAABIAAAAgAAAAMQAAACAAAAAfAAAAEgAAADMAAAAiAAAAEgAAACAAAAArAAAAIQAAAC8AAAASAAAAMwAAACMAAAASAAAAIAAAADAAAAAgAAAAHwAAABIAAAAbAAAAFAAAABIAAAASAAAAGwAAABQAAAASAAAAEgAAABsAAAAyAAAAHQAAACEAAAAbAAAAFAAAABIAAAASAAAAGwAAABQAAAASAAAAJgAAAEcAAAAhAAAAEgAAAB8AAAAxAAAAIAAAACEAAAAiAAAAOgAAACEAAAASAAAAHgAAADAAAAAgAAAAHgAAACAAAAAvAAAALAAAAB0AAAAlAAAALgAAACAAAAAeAAAAKgAAAC8AAAAyAAAAHAAAACIAAAAsAAAAIAAAAB4AAAASAAAALwAAADIAAAAcAAAAIgAAAEcAAAAoAAAAHwAAABsAAABHAAAAIQAAACAAAAASAAAAGwAAACcAAAAgAAAAIwAAAEcAAAAjAAAAEgAAACEAAAAdAAAAFwAAACkAAAASAAAAGwAAAEQAAAAhAAAAJAAAAEoAAAAmAAAAKwAAACMAAABAAAAALQAAABwAAAAfAAAAhQAAAD8AAAAhAAAANwAAAFwAAAAmAAAAIAAAABIAAABNAAAAMQAAAB4AAAAvAAAAUQAAACEAAAAfAAAAEgAAABsAAAAUAAAAEgAAABIAAABbAAAAIAAAAB8AAAASAAAAGwAAABQAAAASAAAAEgAAAGAAAAAhAAAAHgAAABIAAAAnAAAAFgAAABIAAAASAAAASAAAAEsAAAAhAAAAIwAAAEIAAAAmAAAAHgAAAB0AAABEAAAANQAAACMAAAAdAAAAKgAAAgMAAAAVAAAAKgAAADAAAAAdAAAAPwAAACIAAAASAAAAHQAAACAAAAA4AAAAIQAAAB4AAABEAAAAKgAAABwAAAAdAAAAJAAAABQAAAASAAAAEgAAADIAAAAnAAAAHwAAABMAAAAuAAAAHwAAAC0AAAASAAAAVwAAACUAAAASAAAAIQAAAEMAAAAoAAAAKAAAACMAAABFAAAAIwAAAB8AAAAWAAAAGgAAADMAAAAhAAAAIAAAAGAAAAA7AAAAHQAAACYAAABPAAAAIgAAADkAAAASAAAAIQAAABQAAAASAAAAEgAAAD4AAAAdAAAAEgAAABkAAABiAAAALgAAACQAAAAZAAAAHwAAABQAAAASAAAAEgAAAF4AAAAjAAAAEgAAACAAAAAbAAAAJAAAAB4AAAAfAAAAOgAAABsAAAAZAAAAEgAAAB0AAAAUAAAAEgAAABIAAABSAAAAIQAAABIAAAAdAAAAQgAAACMAAAAeAAAAGQAAAC8AAAAnAAAAHwAAABgAAAAbAAAAKAAAAB8AAAAdAAAAcgAAACQAAAASAAAAMAAAADUAAAAgAAAAHwAAABIAAABPAAAALwAAACIAAAAqAAAALAAAADQAAAAlAAAAHwAAABsAAAAUAAAAEgAAAC8AAAAaAAAAFAAAABIAAAASAAAATgAAAC4AAAAiAAAAIwAAACwAAABKAAAAJAAAAB0AAABGAAAAJgAAABIAAAAmAAAAQwAAACIAAAAfAAAAEgAAAFMAAAAkAAAAEgAAACEAAAAoAAAAKgAAACAAAAAfAAAAgwAAACUAAAASAAAAPQAAAB4AAABBAAAAHAAAACYAAAA8AAAAIAAAAB4AAAASAAAANQAAACEAAAAfAAAALgAAADYAAAAjAAAAHwAAABIAAABIAAAAJwAAAB4AAAAcAAAAKAAAACoAAAAjAAAAIAAAAC4AAAAqAAAAJAAAACIAAABAAAAAKwAAABQAAAAiAAAALAAAACcAAAAUAAAAIgAAADIAAAAzAAAAHgAAACoAAAA/AAAAJwAAACEAAAAcAAAAJgAAACYAAAAgAAAAIwAAACoAAAAcAAAAGgAAAB0AAABiAAAAJQAAAB4AAAAWAAAAIAAAACUAAAAhAAAAHwAAADAAAAAlAAAAIAAAAB8AAAArAAAAIgAAACEAAAAgAAAAKwAAADMAAAAhAAAAHwAAADAAAAAiAAAAEgAAACAAAAAuAAAAIAAAAB8AAAASAAAAGwAAACYAAAAeAAAAHgAAABsAAAAUAAAAIQAAABIAAAAaAAAANgAAAB8AAAAiAAAAWQAAAB8AAAAhAAAAHAAAACQAAAIHAAAAPAAAACwAAAAlAAAAHwAAAD0AAAAhAAAAIAAAACQAAAA0AAAAMwAAACIAAAAfAAAAOgAAACAAAAAvAAAAFAAAABsAAAA1AAAAIQAAACUAAAAaAAAAFgAAADsAAAASAAAAGwAAAEQAAAAgAAAAJgAAAD4AAAAnAAAAEgAAACEAAAAuAAAAKwAAABwAAAAjAAAAMwAAACIAAAAgAAAAEgAAADcAAAAiAAAAIAAAACcAAAAxAAAAJAAAABIAAAAhAAAANQAAACIAAAAgAAAAEgAAADYAAAAnAAAAIAAAAB0AAAAmAAAAJgAAACIAAAAhAAAALgAAACgAAAAbAAAAHwAAADAAAAAmAAAAJAAAAB0AAAAvAAAAJAAAABMAAAAfAAAAKQAAAC0AAAAgAAAAHgAAAC0AAAAfAAAAIAAAACIAAAAtAAAAIwAAAB4AAAAlAAAALQAAAB8AAAAgAAAAEgAAAC0AAAAjAAAAHgAAACUAAAAoAAAAJgAAACAAAAAhAAAAOAAAACcAAAAiAAAAIAAAAB8AAAAhAAAAlQAAAFEAAAAoAAAAIQAAAE8AAAAoAAAALwAAABIAAABbAAAAKwAAAB8AAAASAAAAZwAAADUAAAAgAAAAIwAAAGYAAAAoAAAAHgAAAB0AAABuAAAAJAAAABIAAAAlAAAARAAAACsAAAAgAAAAJAAAAGAAAAA2AAAAIgAAAB0AAABCAAAAIAAAAB4AAAAgAAAAHQAAABgAAAAWAAAAFAAAADoAAAAgAAAAFAAAACwAAAAbAAAAFgAAABQAAAAUAAAAGgAAABYAAAAUAAAAFAAAAHwAAAAmAAAAFAAAACQAAABlAAAAKQAAABQAAAAfAAAAPwAAADIAAAAfAAAAGwAAADIAAAAdAAAAHAAAABIAAAAaAAAAFAAAABIAAAASAAAAGwAAABQAAAASAAAAEgAAAEAAAAA1AAAAHwAAACEAAABXAAAAJQAAACAAAAASAAAAOAAAABoAAAAaAAAANAAAACAAAAAfAAAAGwAAABQAAAASAAAAEgAAADEAAAAUAAAAEgAAABIAAABsAAAAIwAAABIAAAAfAAAAJwAAAC4AAAAnAAAAIAAAADgAAAAwAAAAIAAAAB4AAAAbAAAAFwAAACgAAAAUAAAAIQAAABYAAAAUAAAAFAAAABsAAAAWAAAAFAAAABQAAABcAAAAIgAAABYAAAAjAAAAIAAAACYAAAAfAAAAHwAAABsAAAAjAAAAHgAAAB8AAAArAAAAGAAAABoAAAApAAAAHgAAAB0AAAAbAAAAIgAAAB4AAAAdAAAAGwAAABQAAAASAAABtAAAACIAAAAUAAAAFAAAABIAAABeAAAAJAAAABIAAAAuAAAAKwAAACYAAAAgAAAAHgAAACQAAAAmAAAAHwAAAB4AAABWAAAAMwAAADEAAAAhAAAAJwAAACoAAAAiAAAAIQAAACMAAAAnAAAAIQAAACAAAAA0AAAAJgAAACIAAAAZAAAAGwAAACYAAAAgAAAAHwAAABsAAAAmAAAAIAAAAB8AAAAbAAAAFgAAABQAAAAUAAAAGgAAABYAAAAUAAAAFAAAAEcAAAAsAAAAFAAAACAAAAA2AAAAygAAAD4AAAAlAAAAHwAAAH0AAAAnAAAAIQAAABIAAABiAAAAKwAAACMAAAApAAAAagAAACgAAAAiAAAAFgAAAHwAAAAlAAAAFgAAACAAAAAhAAAAFAAAABIAAAASAAAARgAAACcAAAAeAAAAFwAAAEUAAAAqAAAAIAAAAB0AAAAaAAAAFQAAABIAAAASAAAAYQAAACMAAAAjAAAAIQAAAEkAAAAoAAAAFAAAACUAAABXAAAAJAAAAB8AAAAWAAAAPgAAACUAAAAXAAAAIQAAADUAAAAjAAAAHwAAABYAAAA2AAAAJwAAAB8AAAAUAAAAQQAAACsAAAAhAAAAJQAAAEgAAAAjAAAAHwAAABIAAAAbAAAAGAAAAC0AAAASAAAAGwAAABgAAAASAAAAEgAAABoAAAApAAAAIQAAAB4AAABOAAAAJgAAABQAAAAeAAAARwAAACUAAAASAAAAIwAAAEEAAAAiAAAAHwAAABIAAAAbAAAAMQAAAB4AAAAdAAAAGwAAABQAAAASAAAAEgAAABoAAAAUAAAAJAAAABIAAAAbAAAAFAAAABIAAAAkAAAAPgAAADMAAAAhAAAAIwAAAEcAAAAoAAAAGgAAAB8AAABCAAAAIQAAACAAAAASAAAATAAAACAAAAAeAAAAEgAAABsAAAAUAAAAIAAAABIAAAAbAAAAFAAAABIAAAASAAAAGgAAABQAAAASAAAAEgAAAFsAAAAjAAAAEgAAACIAAAAzAAAAIAAAAB8AAAASAAAAGwAAABQAAAAkAAAAEgAAABsAAAAUAAAAEgAAACQAAAAaAAAAFAAAABIAAAASAAAAOgAAACIAAAAsAAAAIQAAACoAAAAiAAAAHwAAABQAAAA1AAAAKQAAAB4AAAAjAAAAOQAAACcAAAAaAAAAHwAAADgAAAAiAAAAIQAAABIAAAAyAAAAKgAAACQAAAAdAAAALQAAACkAAAAhAAAAIAAAACoAAAAkAAAAIAAAAB0AAAA2AAAAJAAAAB4AAAASAAAAGgAAABQAAAAgAAAAEgAAAVwAAAArAAAAMwAAACAAAAAhAAAAFHN0Y28AAAAAAAAAAQAAADAAAABidWR0YQAAAFptZXRhAAAAAAAAACFoZGxyAAAAAAAAAABtZGlyYXBwbAAAAAAAAAAAAAAAAC1pbHN0AAAAJal0b28AAAAdZGF0YQAAAAEAAAAATGF2ZjU4LjI5LjEwMA==\" type=\"video/mp4\">\n  Your browser does not support the video tag.\n  </video>"
     },
     "execution_count": 48,
     "metadata": {},
     "output_type": "execute_result"
    }
   ],
   "source": [
    "def create_policy_eval_video(policy, filename, num_episodes=5, fps=30):\n",
    "  filename = filename + \".mp4\"\n",
    "  with imageio.get_writer(filename, fps=fps) as video:\n",
    "    for _ in range(num_episodes):\n",
    "      time_step = eval_env.reset()\n",
    "      video.append_data(eval_py_env.render())\n",
    "      while not time_step.is_last():\n",
    "        action_step = policy.action(time_step)\n",
    "        time_step = eval_env.step(action_step.action)\n",
    "        video.append_data(eval_py_env.render())\n",
    "  return embed_mp4(filename)\n",
    "\n",
    "create_policy_eval_video(agent.policy, \"trained-agent\")"
   ]
  },
  {
   "cell_type": "markdown",
   "metadata": {
    "id": "povaAOcZygLw"
   },
   "source": [
    "For fun, compare the trained agent (above) to an agent moving randomly. (It does not do as well.)"
   ]
  },
  {
   "cell_type": "code",
   "execution_count": 49,
   "metadata": {
    "execution": {
     "iopub.execute_input": "2021-09-29T12:23:47.327774Z",
     "iopub.status.busy": "2021-09-29T12:23:47.326987Z",
     "iopub.status.idle": "2021-09-29T12:23:48.494204Z",
     "shell.execute_reply": "2021-09-29T12:23:48.493663Z"
    },
    "id": "pJZIdC37yNH4"
   },
   "outputs": [
    {
     "name": "stderr",
     "output_type": "stream",
     "text": [
      "WARNING:root:IMAGEIO FFMPEG_WRITER WARNING: input image is not divisible by macro_block_size=16, resizing from (400, 600) to (400, 608) to ensure video compatibility with most codecs and players. To prevent resizing, make your input image divisible by the macro_block_size or set the macro_block_size to None (risking incompatibility). You may also see a FFMPEG warning concerning speedloss due to data not being aligned.\n",
      "[swscaler @ 0x559c9dba1d80] Warning: data is not aligned! This can lead to a speed loss\n"
     ]
    },
    {
     "data": {
      "text/plain": "<IPython.core.display.HTML object>",
      "text/html": "\n  <video width=\"640\" height=\"480\" controls>\n    <source src=\"data:video/mp4;base64,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\" type=\"video/mp4\">\n  Your browser does not support the video tag.\n  </video>"
     },
     "execution_count": 49,
     "metadata": {},
     "output_type": "execute_result"
    }
   ],
   "source": [
    "create_policy_eval_video(random_policy, \"random-agent\")"
   ]
  }
 ],
 "metadata": {
  "colab": {
   "collapsed_sections": [],
   "name": "DQN Tutorial.ipynb",
   "private_outputs": true,
   "provenance": [],
   "toc_visible": true
  },
  "kernelspec": {
   "display_name": "Python 3 (ipykernel)",
   "language": "python",
   "name": "python3"
  },
  "language_info": {
   "codemirror_mode": {
    "name": "ipython",
    "version": 3
   },
   "file_extension": ".py",
   "mimetype": "text/x-python",
   "name": "python",
   "nbconvert_exporter": "python",
   "pygments_lexer": "ipython3",
   "version": "3.9.6"
  }
 },
 "nbformat": 4,
 "nbformat_minor": 1
}