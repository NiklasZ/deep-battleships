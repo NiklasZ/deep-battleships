{
 "cells": [
  {
   "cell_type": "code",
   "execution_count": 5,
   "outputs": [],
   "source": [
    "from helpers.step_metrics import calculate_step_metrics\n",
    "from agents.train_agent import mask_invalid_actions\n",
    "import numpy as np\n",
    "import gym\n",
    "import gym_battleship\n",
    "from tf_agents.environments import suite_gym, tf_py_environment\n",
    "import tensorflow as tf\n",
    "from matplotlib import pyplot as plt"
   ],
   "metadata": {
    "collapsed": false,
    "pycharm": {
     "name": "#%%\n"
    }
   }
  },
  {
   "cell_type": "code",
   "execution_count": 6,
   "outputs": [],
   "source": [
    "board_size = (10, 10)\n",
    "ship_sizes = {5: 1, 4: 1, 3: 2, 2: 1}\n",
    "\n",
    "reward_dictionary = {\n",
    "    'win': 100,  # for sinking all ships\n",
    "    'missed': -1,  # for missing a shot\n",
    "    'hit': 5,  # for hitting a ship\n",
    "    'repeat_missed': -10,  # for shooting at an already missed cell\n",
    "    'repeat_hit': -10  # for shooting at an already hit cell\n",
    "}\n",
    "E = {\n",
    "    'ship_sizes': ship_sizes,\n",
    "    'board_size': board_size,\n",
    "    'episode_steps': np.prod(board_size),  # Number of steps until the episode terminates\n",
    "    'reward_dictionary': reward_dictionary,\n",
    "    'get_invalid_action_mask': True\n",
    "}"
   ],
   "metadata": {
    "collapsed": false,
    "pycharm": {
     "name": "#%%\n"
    }
   }
  },
  {
   "cell_type": "code",
   "execution_count": 7,
   "outputs": [
    {
     "name": "stderr",
     "output_type": "stream",
     "text": [
      "100%|██████████| 10000/10000 [39:17<00:00,  4.24it/s]"
     ]
    },
    {
     "name": "stdout",
     "output_type": "stream",
     "text": [
      "Metrics: min:24, max: 100, mean: 78.6711, median: 80.0\n"
     ]
    },
    {
     "name": "stderr",
     "output_type": "stream",
     "text": [
      "\n"
     ]
    }
   ],
   "source": [
    "py_env = suite_gym.load('Battleship-v0', gym_kwargs=E)\n",
    "tf_env = tf_py_environment.TFPyEnvironment(py_env)\n",
    "\n",
    "saved_policy = tf.compat.v2.saved_model.load(f\"../training/data/1_tuning/2022-03-14T21-01-03-10x10-promising-cnns/policies/1\")\n",
    "policy_state = saved_policy.get_initial_state(batch_size=1)\n",
    "\n",
    "s_min, s_max, s_mean, s_median, s_history  = calculate_step_metrics(tf_env, saved_policy, num_episodes=10_000)\n",
    "print(f'Metrics: min:{s_min}, max: {s_max}, mean: {s_mean}, median: {s_median}')"
   ],
   "metadata": {
    "collapsed": false,
    "pycharm": {
     "name": "#%%\n"
    }
   }
  },
  {
   "cell_type": "code",
   "execution_count": 8,
   "outputs": [
    {
     "data": {
      "text/plain": "<Figure size 432x288 with 1 Axes>",
      "image/png": "[encoded data removed]"
     },
     "metadata": {
      "needs_background": "light"
     },
     "output_type": "display_data"
    }
   ],
   "source": [
    "n_bins = 100\n",
    "plt.hist(s_history,bins=n_bins)\n",
    "\n",
    "plt.ylabel('Number of Episodes')\n",
    "plt.xlabel('Number of steps')\n",
    "plt.title(f'Game Performance Distribution of DQN + Action Mask')\n",
    "\n",
    "plt.show()"
   ],
   "metadata": {
    "collapsed": false,
    "pycharm": {
     "name": "#%%\n"
    }
   }
  }
 ],
 "metadata": {
  "kernelspec": {
   "display_name": "Python 3",
   "language": "python",
   "name": "python3"
  },
  "language_info": {
   "codemirror_mode": {
    "name": "ipython",
    "version": 2
   },
   "file_extension": ".py",
   "mimetype": "text/x-python",
   "name": "python",
   "nbconvert_exporter": "python",
   "pygments_lexer": "ipython2",
   "version": "2.7.6"
  }
 },
 "nbformat": 4,
 "nbformat_minor": 0
}